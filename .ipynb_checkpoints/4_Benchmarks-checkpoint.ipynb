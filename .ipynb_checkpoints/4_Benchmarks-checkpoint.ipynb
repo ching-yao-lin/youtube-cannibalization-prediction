{
 "cells": [
  {
   "cell_type": "markdown",
   "id": "714a5d60",
   "metadata": {},
   "source": [
    "This notebook is mainly responsible for creating benchmarks models to compare against, including RGM (Random Guess Model), PPM (Prior Probabilistic Model), and CPPM (Constrained Prior Probabilistic Model)."
   ]
  },
  {
   "cell_type": "markdown",
   "id": "mental-cursor",
   "metadata": {},
   "source": [
    "# Imports and Setups"
   ]
  },
  {
   "cell_type": "code",
   "execution_count": 1,
   "id": "center-patio",
   "metadata": {
    "ExecuteTime": {
     "end_time": "2023-07-08T13:39:02.300606Z",
     "start_time": "2023-07-08T13:38:51.572749Z"
    },
    "code_folding": []
   },
   "outputs": [],
   "source": [
    "# Data preprocessing\n",
    "import numpy as np\n",
    "import pandas as pd\n",
    "import matplotlib.pyplot as plt\n",
    "import matplotlib as mpl\n",
    "import seaborn as sns\n",
    "import sys, os, json, pickle, time\n",
    "import re\n",
    "import string\n",
    "import random\n",
    "import functools, itertools, operator\n",
    "import concurrent.futures\n",
    "import requests\n",
    "from io import BytesIO\n",
    "from PIL import Image\n",
    "from tqdm.notebook import tqdm as tqdm_nb\n",
    "from tqdm import tqdm\n",
    "from collections import namedtuple\n",
    "from imblearn.over_sampling import ADASYN, SMOTE, BorderlineSMOTE\n",
    "\n",
    "# Sklearn\n",
    "from sklearn.preprocessing import OneHotEncoder, MultiLabelBinarizer, StandardScaler\n",
    "from sklearn.model_selection import StratifiedKFold, train_test_split\n",
    "from sklearn.metrics import accuracy_score, precision_score, recall_score, f1_score, roc_auc_score, roc_curve, auc\n",
    "from sklearn.metrics import classification_report, confusion_matrix, ConfusionMatrixDisplay, RocCurveDisplay\n",
    "from sklearn.decomposition import PCA\n",
    "from sklearn.manifold import TSNE\n",
    "\n",
    "# Deep Learning\n",
    "from transformers import BertTokenizer, BertModel\n",
    "import torchvision.transforms as transforms\n",
    "import torchvision.models as models\n",
    "import torch\n",
    "from torch.nn.utils.rnn import pad_sequence\n",
    "from torch.nn.utils import clip_grad_norm_, clip_grad_value_\n",
    "import torch.nn.functional as F\n",
    "import torch.optim as optim\n",
    "from torch.utils.data import Dataset, DataLoader\n",
    "from torch.utils.tensorboard import SummaryWriter\n",
    "\n",
    "\n",
    "# Notebook Setups\n",
    "from IPython.core.interactiveshell import InteractiveShell\n",
    "from IPython.display import display, HTML\n",
    "InteractiveShell.ast_node_interactivity = \"all\"\n",
    "sns.set()\n",
    "\n",
    "pd.set_option('display.max_columns', None)\n",
    "\n",
    "\n",
    "# Helper functions\n",
    "def print_colored_text(text, background_color=\"white\", font_color=\"black\", bold=False):\n",
    "    font_weight = \"bold\" if bold else \"normal\"\n",
    "    html_code = f'<div style=\"background-color: {background_color}; color: {font_color}; font-weight: {font_weight}; padding: 10px; display: inline-block;\">{text}</div>'\n",
    "    display(HTML(html_code))"
   ]
  },
  {
   "cell_type": "code",
   "execution_count": 2,
   "id": "senior-rotation",
   "metadata": {
    "ExecuteTime": {
     "end_time": "2023-07-08T13:39:05.352856Z",
     "start_time": "2023-07-08T13:39:02.302082Z"
    }
   },
   "outputs": [],
   "source": [
    "# Read in Data\n",
    "channel_videos = pd.read_pickle(os.path.join(\"dataframes\", \"channel_videos.pkl\"))\n",
    "LABEL = \"feat_video_label_40\""
   ]
  },
  {
   "cell_type": "code",
   "execution_count": 3,
   "id": "stock-appreciation",
   "metadata": {
    "ExecuteTime": {
     "end_time": "2023-07-08T13:39:05.389903Z",
     "start_time": "2023-07-08T13:39:05.354424Z"
    }
   },
   "outputs": [
    {
     "name": "stdout",
     "output_type": "stream",
     "text": [
      "cuda\n"
     ]
    }
   ],
   "source": [
    "SEED = 42\n",
    "DEVICE = torch.device('cuda' if torch.cuda.is_available() else 'cpu')\n",
    "print(DEVICE)"
   ]
  },
  {
   "cell_type": "code",
   "execution_count": 4,
   "id": "inside-alias",
   "metadata": {
    "ExecuteTime": {
     "end_time": "2023-07-08T13:39:05.499453Z",
     "start_time": "2023-07-08T13:39:05.391456Z"
    },
    "code_folding": []
   },
   "outputs": [],
   "source": [
    "# Fix random seed\n",
    "def set_seed(seed: int=SEED) -> None:\n",
    "    random.seed(seed)\n",
    "    np.random.seed(seed)\n",
    "    torch.manual_seed(seed)\n",
    "    if torch.cuda.is_available():\n",
    "        torch.cuda.manual_seed(seed)\n",
    "        torch.cuda.manual_seed_all(seed)\n",
    "    torch.backends.cudnn.benchmark = False\n",
    "    torch.backends.cudnn.deterministic = True\n",
    "    return None\n",
    "\n",
    "set_seed()"
   ]
  },
  {
   "cell_type": "markdown",
   "id": "superb-charm",
   "metadata": {},
   "source": [
    "__Model Source: [Chinese RoBERTa GitHub](https://github.com/ymcui/Chinese-BERT-wwm)__"
   ]
  },
  {
   "cell_type": "code",
   "execution_count": 5,
   "id": "juvenile-express",
   "metadata": {
    "ExecuteTime": {
     "end_time": "2023-07-08T13:39:14.725601Z",
     "start_time": "2023-07-08T13:39:05.500699Z"
    }
   },
   "outputs": [
    {
     "name": "stderr",
     "output_type": "stream",
     "text": [
      "Some weights of the model checkpoint at hfl/chinese-roberta-wwm-ext were not used when initializing BertModel: ['cls.predictions.transform.LayerNorm.bias', 'cls.predictions.transform.dense.weight', 'cls.predictions.transform.LayerNorm.weight', 'cls.predictions.bias', 'cls.seq_relationship.weight', 'cls.seq_relationship.bias', 'cls.predictions.decoder.weight', 'cls.predictions.transform.dense.bias']\n",
      "- This IS expected if you are initializing BertModel from the checkpoint of a model trained on another task or with another architecture (e.g. initializing a BertForSequenceClassification model from a BertForPreTraining model).\n",
      "- This IS NOT expected if you are initializing BertModel from the checkpoint of a model that you expect to be exactly identical (initializing a BertForSequenceClassification model from a BertForSequenceClassification model).\n",
      "/home/francia/anaconda3/envs/chris_env/lib/python3.8/site-packages/torchvision/models/_utils.py:208: UserWarning: The parameter 'pretrained' is deprecated since 0.13 and may be removed in the future, please use 'weights' instead.\n",
      "  warnings.warn(\n",
      "/home/francia/anaconda3/envs/chris_env/lib/python3.8/site-packages/torchvision/models/_utils.py:223: UserWarning: Arguments other than a weight enum or `None` for 'weights' are deprecated since 0.13 and may be removed in the future. The current behavior is equivalent to passing `weights=ResNet50_Weights.IMAGENET1K_V1`. You can also use `weights=ResNet50_Weights.DEFAULT` to get the most up-to-date weights.\n",
      "  warnings.warn(msg)\n"
     ]
    }
   ],
   "source": [
    "# Load the pretrained BERT model and tokenizer\n",
    "model_name = \"hfl/chinese-roberta-wwm-ext\"\n",
    "tokenizer = BertTokenizer.from_pretrained(model_name)\n",
    "bert_model = BertModel.from_pretrained(model_name)\n",
    "\n",
    "resnet = models.resnet50(pretrained=True).to(DEVICE)"
   ]
  },
  {
   "cell_type": "markdown",
   "id": "distant-desire",
   "metadata": {},
   "source": [
    "# Preprocess data\n",
    "## Preprocess channel data "
   ]
  },
  {
   "cell_type": "code",
   "execution_count": 6,
   "id": "spiritual-inventory",
   "metadata": {
    "ExecuteTime": {
     "end_time": "2023-07-08T13:39:14.729727Z",
     "start_time": "2023-07-08T13:39:14.726819Z"
    }
   },
   "outputs": [],
   "source": [
    "# Channel Features\n",
    "channel_text_features = [\"channel_title\", \"channel_description\", \"channel_keywords\"]\n",
    "channel_image_features = [\"channel_thumbnail_high_url\", \"channel_banner_url\"]\n",
    "channel_cat_features = [\"channel_topic_categories\"]\n",
    "channel_statistics_features = [\"channel_view_count\", \"channel_subscriber_count\", \"channel_video_count\"]\n",
    "channel_datetime_features = [\"channel_published_at\"]\n",
    "eps = 1e-7"
   ]
  },
  {
   "cell_type": "code",
   "execution_count": 7,
   "id": "yellow-essence",
   "metadata": {
    "ExecuteTime": {
     "end_time": "2023-07-08T13:39:15.735044Z",
     "start_time": "2023-07-08T13:39:14.730896Z"
    }
   },
   "outputs": [],
   "source": [
    "channel_videos[\"channel_country\"] = channel_videos.channel_country.fillna(\"TW\").value_counts(dropna=False)"
   ]
  },
  {
   "cell_type": "code",
   "execution_count": 8,
   "id": "surprising-english",
   "metadata": {
    "ExecuteTime": {
     "end_time": "2023-07-08T13:39:15.749138Z",
     "start_time": "2023-07-08T13:39:15.737308Z"
    },
    "code_folding": []
   },
   "outputs": [],
   "source": [
    "def preprocess_image_from_url(url):\n",
    "    # Get Image from url\n",
    "    try:\n",
    "        response = requests.get(url)\n",
    "        response.raise_for_status()  # Raise an exception if the request was unsuccessful\n",
    "    except Exception: #  (requests.exceptions.RequestException, IOError) URL is broken or image couldn't be accessed\n",
    "        # Return zero-padded tensors as placeholders\n",
    "        return torch.zeros((3, 224, 224), dtype=torch.float32)\n",
    "    # Preprocess Image\n",
    "    image = Image.open(BytesIO(response.content)).convert('RGB')\n",
    "    transform = transforms.Compose([\n",
    "        transforms.Resize(256),\n",
    "        transforms.CenterCrop(224),\n",
    "        transforms.ToTensor(),\n",
    "        transforms.Normalize(mean=[0.485, 0.456, 0.406], std=[0.229, 0.224, 0.225])\n",
    "    ])\n",
    "    preprocessed_image = transform(image)\n",
    "    return preprocessed_image\n",
    "\n",
    "def encode_images(column, chunk_num=0, max_workers=10):\n",
    "\n",
    "    encoded_images = []\n",
    "    with concurrent.futures.ThreadPoolExecutor(max_workers=max_workers) as executor:\n",
    "        submit_pbar = tqdm_nb(column, desc=f\"Submit_{chunk_num:02}\", colour='green')\n",
    "        result_image_futures = [executor.submit(preprocess_image_from_url, url) for url in submit_pbar]\n",
    "\n",
    "        image_pbar = tqdm_nb(result_image_futures, desc=f\"Image_{chunk_num:02} \", colour='#5FDD9D')\n",
    "        for i, image in enumerate(image_pbar):\n",
    "            image = image.result().to(DEVICE)\n",
    "            image = image.unsqueeze(0) # create a mini-batch as expected by the model\n",
    "            with torch.no_grad():\n",
    "                features = resnet(image)\n",
    "            encoded_images.append(features.squeeze(0).cpu().numpy())\n",
    "        \n",
    "    return torch.tensor(np.array(encoded_images))\n",
    "\n",
    "def encode_images_by_chunks(column, save_path, chunksize=10_000):\n",
    "    n_splits = len(column) // chunksize\n",
    "    chunks = np.array_split(column, n_splits)\n",
    "    chunk_pbar = tqdm_nb(chunks, total=len(chunks), position=0, colour='red')\n",
    "    for i, chunk in enumerate(chunk_pbar):\n",
    "        chunk_pbar.set_description(f\"Chunk_{i:02}\")\n",
    "        save_path = save_path[:-3] if save_path.endswith(\".pt\") else save_path\n",
    "        save_path_with_index = f\"{save_path}_{i}.pt\"\n",
    "        if os.path.exists(save_path_with_index): # Skipped encoded images\n",
    "            time.sleep(0.1)\n",
    "            continue\n",
    "        image_tensor = encode_images(chunk, chunk_num=i) # download and encode images in multithreads\n",
    "        torch.save(image_tensor, save_path_with_index)"
   ]
  },
  {
   "cell_type": "code",
   "execution_count": 9,
   "id": "economic-database",
   "metadata": {
    "ExecuteTime": {
     "end_time": "2023-07-08T13:39:15.832595Z",
     "start_time": "2023-07-08T13:39:15.750796Z"
    },
    "code_folding": []
   },
   "outputs": [],
   "source": [
    "def plot_original_and_preprocessed_image(sample_url):\n",
    "    \n",
    "    image = Image.open(BytesIO(requests.get(sample_url).content)).convert('RGB')\n",
    "\n",
    "    transform = transforms.Compose([\n",
    "        transforms.Resize(256),\n",
    "        transforms.CenterCrop(224),\n",
    "        transforms.ToTensor(),\n",
    "        transforms.Normalize(mean=[0.485, 0.456, 0.406], std=[0.229, 0.224, 0.225])\n",
    "    ])\n",
    "    preprocessed_image = transform(image)\n",
    "\n",
    "    display(image)\n",
    "\n",
    "    plt.figure()\n",
    "    plt.imshow(preprocessed_image.permute(1, 2, 0))\n",
    "    plt.grid(False)\n",
    "    plt.show();\n",
    "    \n",
    "# sample_thumbnail_default_url, sample_thumbnail_high_url, sample_banner_url = channel_videos[[\"channel_thumbnail_default_url\", \"channel_thumbnail_high_url\", \"channel_banner_url\"]].sample().values[0]\n",
    "# plot_original_and_preprocessed_image(sample_thumbnail_default_url)\n",
    "# plot_original_and_preprocessed_image(sample_thumbnail_high_url)\n",
    "# plot_original_and_preprocessed_image(sample_banner_url)"
   ]
  },
  {
   "cell_type": "code",
   "execution_count": 10,
   "id": "removable-tobago",
   "metadata": {
    "ExecuteTime": {
     "end_time": "2023-07-08T13:39:15.911063Z",
     "start_time": "2023-07-08T13:39:15.833831Z"
    },
    "code_folding": []
   },
   "outputs": [],
   "source": [
    "def preprocess_channel_data(channel_videos):\n",
    "    # Join list of texts into a string\n",
    "    channel_videos[\"channel_keywords\"] = channel_videos[\"channel_keywords\"].str.join(\" \")\n",
    "        \n",
    "    ########### 1. Preprocess `channel_published_at` (datetime) ###########\n",
    "    # 1.1 - Extract year, month, day & Take log\n",
    "    channel_datetime_column = channel_videos[channel_datetime_features[0]]\n",
    "    channel_date_features = pd.concat((channel_datetime_column.dt.year.rename(\"channel_published_year\"),\n",
    "                                channel_datetime_column.dt.month.rename(\"channel_published_month\"),\n",
    "                                channel_datetime_column.dt.day.rename(\"channel_published_day\")), axis=1)\n",
    "    # 1.2 - Join extracted features back to channel_videos\n",
    "    channel_videos = pd.concat((channel_videos, channel_date_features), axis=1)\n",
    "    \n",
    "    \n",
    "    ########### 2. Select channel features and get unique data/rows ###########\n",
    "    channel_features = ([\"channel_id\"] + channel_text_features + channel_image_features + channel_statistics_features\n",
    "                         + list(channel_date_features.columns) + [\"channel_topic_categories\"])\n",
    "    channel_data = channel_videos[channel_features].drop_duplicates(subset=\"channel_id\").reset_index(drop=True)\n",
    "\n",
    "    \n",
    "    ########### 3. Take the log of statistics and datetime features ###########\n",
    "    stats_features = channel_statistics_features + list(channel_date_features.columns)\n",
    "    channel_stats_feature_tensors = torch.tensor(\n",
    "                                         (channel_data[stats_features] + eps)\n",
    "                                         .apply(np.log10).values)\n",
    "    \n",
    "    \n",
    "    ########### 4. Preprocess `channel_topic_categories` (Label-Encoding) ###########\n",
    "    # 4.1 - Fill missing values as empty lists\n",
    "    channel_data[\"channel_topic_categories\"] = channel_data[\"channel_topic_categories\"].apply(lambda x: x if x is not None else [])\n",
    "    # 4.2 - Multilabel \"One-Hot-Encoding\"\n",
    "    channel_topic_categories_mlb = MultiLabelBinarizer()\n",
    "    channel_cat_features_encoded = channel_topic_categories_mlb.fit_transform(channel_data[channel_cat_features[0]])\n",
    "    # 4.3 - Multilabel \"Label-Encoding\": Get indices where the entries are 1s for each row\n",
    "    nonzero_indices_dict = {}\n",
    "    row_indices, col_indices = np.where(channel_cat_features_encoded == 1)\n",
    "    for r, c in zip(row_indices, col_indices):\n",
    "        if r not in nonzero_indices_dict:\n",
    "            nonzero_indices_dict[r] = [c]\n",
    "        else:\n",
    "            nonzero_indices_dict[r].append(c)\n",
    "\n",
    "    for i in range(len(channel_cat_features_encoded)):\n",
    "        if i not in nonzero_indices_dict:\n",
    "            nonzero_indices_dict[i] = []\n",
    "    # 4.4- Pad features with zeros\n",
    "    channel_cat_feature_tensors = pad_sequence([torch.tensor(cat_list) + 1 for cat_list in channel_data.index.map(nonzero_indices_dict)], batch_first=True)\n",
    "    \n",
    "    \n",
    "    ########### 5. Preprocess `channel_thumbnail_high_url` & `channel_banner_url` (ResNet) ###########\n",
    "    channel_thumbnail_image_tensors = encode_images(channel_data[\"channel_thumbnail_high_url\"])  # 166x1000\n",
    "    channel_banner_image_tensors = encode_images(channel_data[\"channel_banner_url\"])             # 166x1000\n",
    "    \n",
    "    channel_images_tensors = torch.cat((channel_thumbnail_image_tensors, channel_banner_image_tensors), dim=1) # 166x2000\n",
    "    \n",
    "    return channel_data, channel_stats_feature_tensors.float(), channel_cat_feature_tensors.float(), channel_images_tensors.float()"
   ]
  },
  {
   "cell_type": "code",
   "execution_count": 11,
   "id": "oriental-princess",
   "metadata": {
    "ExecuteTime": {
     "end_time": "2023-07-08T13:39:15.988150Z",
     "start_time": "2023-07-08T13:39:15.912319Z"
    },
    "code_folding": []
   },
   "outputs": [],
   "source": [
    "def encode_channel_text_features(df, save_path):\n",
    "    BERT_EMBEDDING_SIZE = 768\n",
    "    title_list = df.channel_title.values.tolist()\n",
    "    description_list = df.channel_description.values.tolist()\n",
    "    keywords_list = df.channel_keywords.values.tolist()\n",
    "    embedding_tensor = torch.ones((len(title_list), BERT_EMBEDDING_SIZE))\n",
    "    for i in tqdm(range(len(title_list))):\n",
    "        context = title_list[i] + \" [SEP] \" + description_list[i] + \" [SEP] \" + keywords_list[i]\n",
    "        bert_input = tokenizer(context, padding='max_length', max_length=512, truncation=True, return_tensors=\"pt\")\n",
    "        attention_mask = bert_input['attention_mask']\n",
    "        input_id = bert_input['input_ids'].squeeze(1)\n",
    "        final_inputs = {'input_ids': input_id, 'attention_mask': attention_mask}\n",
    "        outputs = bert_model(**final_inputs)\n",
    "        # [CLS]\n",
    "        pooler_output = outputs.pooler_output.reshape(BERT_EMBEDDING_SIZE).detach().cpu()\n",
    "        embedding_tensor[i] = pooler_output\n",
    "    torch.save(embedding_tensor, save_path)\n",
    "    return embedding_tensor"
   ]
  },
  {
   "cell_type": "code",
   "execution_count": 12,
   "id": "superb-patch",
   "metadata": {
    "ExecuteTime": {
     "end_time": "2023-07-08T13:39:28.315680Z",
     "start_time": "2023-07-08T13:39:15.989362Z"
    }
   },
   "outputs": [
    {
     "data": {
      "application/vnd.jupyter.widget-view+json": {
       "model_id": "d564ee03ef654ea29962efc66f1b96fa",
       "version_major": 2,
       "version_minor": 0
      },
      "text/plain": [
       "Submit_00:   0%|          | 0/166 [00:00<?, ?it/s]"
      ]
     },
     "metadata": {},
     "output_type": "display_data"
    },
    {
     "data": {
      "application/vnd.jupyter.widget-view+json": {
       "model_id": "ca595e3e1125496a9423d7d7d84a34b7",
       "version_major": 2,
       "version_minor": 0
      },
      "text/plain": [
       "Image_00 :   0%|          | 0/166 [00:00<?, ?it/s]"
      ]
     },
     "metadata": {},
     "output_type": "display_data"
    },
    {
     "data": {
      "application/vnd.jupyter.widget-view+json": {
       "model_id": "4ac145ed455b43adb09b491c0fb17fe4",
       "version_major": 2,
       "version_minor": 0
      },
      "text/plain": [
       "Submit_00:   0%|          | 0/166 [00:00<?, ?it/s]"
      ]
     },
     "metadata": {},
     "output_type": "display_data"
    },
    {
     "data": {
      "application/vnd.jupyter.widget-view+json": {
       "model_id": "c40faef7e6144d0eb04d6164dd930353",
       "version_major": 2,
       "version_minor": 0
      },
      "text/plain": [
       "Image_00 :   0%|          | 0/166 [00:00<?, ?it/s]"
      ]
     },
     "metadata": {},
     "output_type": "display_data"
    },
    {
     "name": "stdout",
     "output_type": "stream",
     "text": [
      "CPU times: user 33.1 s, sys: 377 ms, total: 33.5 s\n",
      "Wall time: 4.24 s\n"
     ]
    }
   ],
   "source": [
    "%%time\n",
    "# 0) Preprocess channel\n",
    "channel_data, channel_stats_feature_tensors, channel_cat_feature_tensors, channel_image_tensors = preprocess_channel_data(channel_videos)\n",
    "# 1) Load the text embeddings for videos\n",
    "# channel_text_embeddings = encode_channel_text_features(channel_data, \"embeddings/channel_text_embeddings.pt\")\n",
    "channel_text_embeddings = torch.load(\"embeddings/channel_text_embeddings.pt\")\n",
    "# 3) Concat all features\n",
    "channel_feature_tensors = torch.cat((channel_text_embeddings,\n",
    "                                     channel_stats_feature_tensors,\n",
    "                                     channel_cat_feature_tensors,\n",
    "                                     channel_image_tensors), axis=1).float()"
   ]
  },
  {
   "cell_type": "code",
   "execution_count": 13,
   "id": "russian-crime",
   "metadata": {
    "ExecuteTime": {
     "end_time": "2023-07-08T13:39:28.319834Z",
     "start_time": "2023-07-08T13:39:28.316876Z"
    }
   },
   "outputs": [
    {
     "name": "stdout",
     "output_type": "stream",
     "text": [
      "(768, 6, 7, 2000)\n"
     ]
    }
   ],
   "source": [
    "# Identify the dimensions of each type of channel data\n",
    "channel_text_dim = channel_text_embeddings.shape[1]\n",
    "channel_stats_dim = channel_stats_feature_tensors.shape[1]\n",
    "channel_cat_dim = channel_cat_feature_tensors.shape[1]\n",
    "channel_image_dim = channel_image_tensors.shape[1]\n",
    "channel_dims = (channel_text_dim, channel_stats_dim, channel_cat_dim, channel_image_dim)\n",
    "print(channel_dims)"
   ]
  },
  {
   "cell_type": "code",
   "execution_count": 14,
   "id": "rental-modern",
   "metadata": {
    "ExecuteTime": {
     "end_time": "2023-07-08T13:39:28.946071Z",
     "start_time": "2023-07-08T13:39:28.320861Z"
    }
   },
   "outputs": [
    {
     "data": {
      "text/plain": [
       "(torch.Size([166, 768]), torch.float32, 0)"
      ]
     },
     "execution_count": 14,
     "metadata": {},
     "output_type": "execute_result"
    },
    {
     "data": {
      "text/plain": [
       "(torch.Size([166, 6]), torch.float32, 0)"
      ]
     },
     "execution_count": 14,
     "metadata": {},
     "output_type": "execute_result"
    },
    {
     "data": {
      "text/plain": [
       "(torch.Size([166, 7]), torch.float32, 0)"
      ]
     },
     "execution_count": 14,
     "metadata": {},
     "output_type": "execute_result"
    },
    {
     "data": {
      "text/plain": [
       "(torch.Size([166, 2000]), torch.float32, 0)"
      ]
     },
     "execution_count": 14,
     "metadata": {},
     "output_type": "execute_result"
    }
   ],
   "source": [
    "channel_text_embeddings.shape, channel_text_embeddings.dtype, channel_text_embeddings.isnan().sum().item()\n",
    "channel_stats_feature_tensors.shape, channel_stats_feature_tensors.dtype, channel_stats_feature_tensors.isnan().sum().item()\n",
    "channel_cat_feature_tensors.shape, channel_cat_feature_tensors.dtype, channel_cat_feature_tensors.isnan().sum().item()\n",
    "channel_image_tensors.shape, channel_image_tensors.dtype, channel_image_tensors.isnan().sum().item()"
   ]
  },
  {
   "cell_type": "code",
   "execution_count": 15,
   "id": "medical-equilibrium",
   "metadata": {
    "ExecuteTime": {
     "end_time": "2023-07-08T13:39:29.064440Z",
     "start_time": "2023-07-08T13:39:28.947130Z"
    }
   },
   "outputs": [
    {
     "data": {
      "text/plain": [
       "(torch.Size([166, 2781]), torch.float32, 0)"
      ]
     },
     "execution_count": 15,
     "metadata": {},
     "output_type": "execute_result"
    },
    {
     "data": {
      "text/plain": [
       "tensor(0.0263)"
      ]
     },
     "execution_count": 15,
     "metadata": {},
     "output_type": "execute_result"
    },
    {
     "data": {
      "text/html": [
       "<div>\n",
       "<style scoped>\n",
       "    .dataframe tbody tr th:only-of-type {\n",
       "        vertical-align: middle;\n",
       "    }\n",
       "\n",
       "    .dataframe tbody tr th {\n",
       "        vertical-align: top;\n",
       "    }\n",
       "\n",
       "    .dataframe thead th {\n",
       "        text-align: right;\n",
       "    }\n",
       "</style>\n",
       "<table border=\"1\" class=\"dataframe\">\n",
       "  <thead>\n",
       "    <tr style=\"text-align: right;\">\n",
       "      <th></th>\n",
       "      <th>count</th>\n",
       "      <th>mean</th>\n",
       "      <th>std</th>\n",
       "      <th>min</th>\n",
       "      <th>25%</th>\n",
       "      <th>50%</th>\n",
       "      <th>75%</th>\n",
       "      <th>max</th>\n",
       "    </tr>\n",
       "  </thead>\n",
       "  <tbody>\n",
       "    <tr>\n",
       "      <th>0</th>\n",
       "      <td>2781.0</td>\n",
       "      <td>0.026347</td>\n",
       "      <td>0.823639</td>\n",
       "      <td>-2.066712</td>\n",
       "      <td>-0.584846</td>\n",
       "      <td>0.052351</td>\n",
       "      <td>0.574212</td>\n",
       "      <td>11.524096</td>\n",
       "    </tr>\n",
       "  </tbody>\n",
       "</table>\n",
       "</div>"
      ],
      "text/plain": [
       "    count      mean       std       min       25%       50%       75%  \\\n",
       "0  2781.0  0.026347  0.823639 -2.066712 -0.584846  0.052351  0.574212   \n",
       "\n",
       "         max  \n",
       "0  11.524096  "
      ]
     },
     "execution_count": 15,
     "metadata": {},
     "output_type": "execute_result"
    },
    {
     "data": {
      "text/html": [
       "<div>\n",
       "<style scoped>\n",
       "    .dataframe tbody tr th:only-of-type {\n",
       "        vertical-align: middle;\n",
       "    }\n",
       "\n",
       "    .dataframe tbody tr th {\n",
       "        vertical-align: top;\n",
       "    }\n",
       "\n",
       "    .dataframe thead th {\n",
       "        text-align: right;\n",
       "    }\n",
       "</style>\n",
       "<table border=\"1\" class=\"dataframe\">\n",
       "  <thead>\n",
       "    <tr style=\"text-align: right;\">\n",
       "      <th></th>\n",
       "      <th>count</th>\n",
       "      <th>mean</th>\n",
       "      <th>std</th>\n",
       "      <th>min</th>\n",
       "      <th>25%</th>\n",
       "      <th>50%</th>\n",
       "      <th>75%</th>\n",
       "      <th>max</th>\n",
       "    </tr>\n",
       "  </thead>\n",
       "  <tbody>\n",
       "    <tr>\n",
       "      <th>0</th>\n",
       "      <td>166.0</td>\n",
       "      <td>0.026347</td>\n",
       "      <td>0.009137</td>\n",
       "      <td>0.008513</td>\n",
       "      <td>0.019361</td>\n",
       "      <td>0.024576</td>\n",
       "      <td>0.031309</td>\n",
       "      <td>0.053496</td>\n",
       "    </tr>\n",
       "  </tbody>\n",
       "</table>\n",
       "</div>"
      ],
      "text/plain": [
       "   count      mean       std       min       25%       50%       75%       max\n",
       "0  166.0  0.026347  0.009137  0.008513  0.019361  0.024576  0.031309  0.053496"
      ]
     },
     "execution_count": 15,
     "metadata": {},
     "output_type": "execute_result"
    }
   ],
   "source": [
    "channel_feature_tensors.shape, channel_feature_tensors.dtype, channel_feature_tensors.isnan().sum().item()\n",
    "channel_feature_tensors.mean()\n",
    "pd.Series(channel_feature_tensors.mean(dim=0).cpu().numpy()).describe().to_frame().T\n",
    "pd.Series(channel_feature_tensors.mean(dim=1).cpu().numpy()).describe().to_frame().T"
   ]
  },
  {
   "cell_type": "code",
   "execution_count": 16,
   "id": "portuguese-looking",
   "metadata": {
    "ExecuteTime": {
     "end_time": "2023-07-08T13:39:29.105644Z",
     "start_time": "2023-07-08T13:39:29.065721Z"
    }
   },
   "outputs": [
    {
     "data": {
      "text/html": [
       "<div>\n",
       "<style scoped>\n",
       "    .dataframe tbody tr th:only-of-type {\n",
       "        vertical-align: middle;\n",
       "    }\n",
       "\n",
       "    .dataframe tbody tr th {\n",
       "        vertical-align: top;\n",
       "    }\n",
       "\n",
       "    .dataframe thead th {\n",
       "        text-align: right;\n",
       "    }\n",
       "</style>\n",
       "<table border=\"1\" class=\"dataframe\">\n",
       "  <thead>\n",
       "    <tr style=\"text-align: right;\">\n",
       "      <th></th>\n",
       "      <th>count</th>\n",
       "      <th>mean</th>\n",
       "      <th>std</th>\n",
       "      <th>min</th>\n",
       "      <th>25%</th>\n",
       "      <th>50%</th>\n",
       "      <th>75%</th>\n",
       "      <th>max</th>\n",
       "    </tr>\n",
       "  </thead>\n",
       "  <tbody>\n",
       "    <tr>\n",
       "      <th>0</th>\n",
       "      <td>461646.0</td>\n",
       "      <td>0.026347</td>\n",
       "      <td>0.924029</td>\n",
       "      <td>-2.316696</td>\n",
       "      <td>-0.613228</td>\n",
       "      <td>0.043317</td>\n",
       "      <td>0.608453</td>\n",
       "      <td>30.0</td>\n",
       "    </tr>\n",
       "  </tbody>\n",
       "</table>\n",
       "</div>"
      ],
      "text/plain": [
       "      count      mean       std       min       25%       50%       75%   max\n",
       "0  461646.0  0.026347  0.924029 -2.316696 -0.613228  0.043317  0.608453  30.0"
      ]
     },
     "execution_count": 16,
     "metadata": {},
     "output_type": "execute_result"
    }
   ],
   "source": [
    "pd.Series(channel_feature_tensors.cpu().numpy().flatten()).describe().to_frame().T"
   ]
  },
  {
   "cell_type": "code",
   "execution_count": null,
   "id": "competent-convert",
   "metadata": {
    "ExecuteTime": {
     "end_time": "2023-07-04T19:17:10.433789Z",
     "start_time": "2023-07-04T19:17:10.393257Z"
    }
   },
   "outputs": [],
   "source": []
  },
  {
   "cell_type": "markdown",
   "id": "breathing-optimization",
   "metadata": {},
   "source": [
    "## Preprocess video data"
   ]
  },
  {
   "cell_type": "code",
   "execution_count": 17,
   "id": "quality-korean",
   "metadata": {
    "ExecuteTime": {
     "end_time": "2023-07-08T13:39:29.147436Z",
     "start_time": "2023-07-08T13:39:29.107004Z"
    }
   },
   "outputs": [],
   "source": [
    "# Video Features\n",
    "video_text_features = [\"video_title\", \"video_description\", \"video_tags\"]\n",
    "video_image_features = [\"video_thumbnail_high_url\", \"video_banner_url\"]\n",
    "video_cat_features = [\"video_category_id\"]\n",
    "video_statistics_features = [\"video_duration\", \"video_like_count\", \"video_view_count\", \"video_comment_count\"]\n",
    "video_datetime_features = [\"video_published_at\"]"
   ]
  },
  {
   "cell_type": "code",
   "execution_count": 18,
   "id": "bacterial-paper",
   "metadata": {
    "ExecuteTime": {
     "end_time": "2023-07-08T13:39:29.431205Z",
     "start_time": "2023-07-08T13:39:29.148775Z"
    }
   },
   "outputs": [],
   "source": [
    "channel_videos[\"video_default_language\"] = channel_videos.video_default_language.fillna(\"zh-TW\").value_counts(dropna=False)\n",
    "channel_videos[\"video_default_audio_language\"] = channel_videos.video_default_audio_language.fillna(\"zh-TW\").value_counts(dropna=False)"
   ]
  },
  {
   "cell_type": "code",
   "execution_count": 19,
   "id": "restricted-bangladesh",
   "metadata": {
    "ExecuteTime": {
     "end_time": "2023-07-08T13:39:29.435451Z",
     "start_time": "2023-07-08T13:39:29.432425Z"
    },
    "code_folding": [
     0
    ]
   },
   "outputs": [],
   "source": [
    "def csr_to_tensor(csr_matrix):\n",
    "    coo = csr_matrix.tocoo()\n",
    "    values = coo.data\n",
    "    indices = np.vstack((coo.row, coo.col))\n",
    "\n",
    "    i = torch.LongTensor(indices)\n",
    "    v = torch.FloatTensor(values)\n",
    "    shape = coo.shape\n",
    "\n",
    "    return torch.sparse.FloatTensor(i, v, torch.Size(shape)).to_dense()"
   ]
  },
  {
   "cell_type": "code",
   "execution_count": 20,
   "id": "considered-mozambique",
   "metadata": {
    "ExecuteTime": {
     "end_time": "2023-07-08T13:39:29.515398Z",
     "start_time": "2023-07-08T13:39:29.436566Z"
    },
    "code_folding": []
   },
   "outputs": [],
   "source": [
    "def preprocess_video_data(channel_videos):\n",
    "    # Join list of texts into a string & Fill Missing Values\n",
    "    channel_videos[\"video_tags\"] = channel_videos[\"video_tags\"].str.join(\" \").fillna(\"\")\n",
    "\n",
    "    ########### 1. Preprocess `video_published_at` (datetime) ###########\n",
    "    # 1.1 - Extract year, month, day\n",
    "    video_datetime_column = channel_videos[video_datetime_features[0]]\n",
    "    video_date_features = pd.concat((video_datetime_column.dt.year.rename(\"video_published_year\"),\n",
    "                                video_datetime_column.dt.month.rename(\"video_published_month\"),\n",
    "                                video_datetime_column.dt.day.rename(\"video_published_day\")), axis=1)\n",
    "    # 1.2 - Join extracted features back to channel_videos\n",
    "    channel_videos = pd.concat((channel_videos, video_date_features), axis=1)\n",
    "    \n",
    "    ########### 2. Preprocess video statistics ###########\n",
    "    # 2.1 - Fill missing values with zeros\n",
    "    channel_videos[\"video_like_count\"] = channel_videos[\"video_like_count\"].fillna(0).astype(int)\n",
    "    channel_videos[\"video_view_count\"] = channel_videos[\"video_view_count\"].fillna(0).astype(int)\n",
    "    channel_videos[\"video_comment_count\"] = channel_videos[\"video_comment_count\"].fillna(0).astype(int)\n",
    "    channel_videos[\"video_duration\"] = channel_videos[\"video_duration\"]\n",
    "    # 2.2 - Get numeric features & Take log\n",
    "    video_stats_feature_tensors = torch.tensor(channel_videos[video_statistics_features + list(video_date_features.columns)].values)\n",
    "    video_stats_feature_tensors = torch.log10(video_stats_feature_tensors + eps)\n",
    "    \n",
    "    ########### 3. Preprocess `video_category_id` ###########\n",
    "    video_cat_feature_tensors = torch.tensor(channel_videos[video_cat_features].astype(int).values)\n",
    "    \n",
    "    return video_stats_feature_tensors.float(), video_cat_feature_tensors.float()"
   ]
  },
  {
   "cell_type": "code",
   "execution_count": 21,
   "id": "egyptian-distance",
   "metadata": {
    "ExecuteTime": {
     "end_time": "2023-07-08T13:39:29.593181Z",
     "start_time": "2023-07-08T13:39:29.516540Z"
    },
    "code_folding": []
   },
   "outputs": [],
   "source": [
    "def encode_video_text_features(df, save_path):\n",
    "    BERT_EMBEDDING_SIZE = 768\n",
    "    title_list = df.video_title.values.tolist()\n",
    "    description_list = df.video_description.values.tolist()\n",
    "    tags_list = df.video_tags.values.tolist()\n",
    "    embedding_tensor = torch.ones((len(title_list), BERT_EMBEDDING_SIZE))\n",
    "    for i in trange(len(title_list), position=0, leave=True):\n",
    "        context = title_list[i] + \" [SEP] \" + description_list[i] + \" [SEP] \" + tags_list[i]\n",
    "        bert_input = tokenizer(context, padding='max_length', max_length=512, truncation=True, return_tensors=\"pt\")\n",
    "        attention_mask = bert_input['attention_mask']\n",
    "        input_id = bert_input['input_ids'].squeeze(1)\n",
    "        final_inputs = {'input_ids': input_id, 'attention_mask': attention_mask}\n",
    "        outputs = bert_model(**final_inputs)\n",
    "        # [CLS]\n",
    "        pooler_output = outputs.pooler_output.reshape(BERT_EMBEDDING_SIZE).detach().cpu()\n",
    "        embedding_tensor[i] = pooler_output\n",
    "    torch.save(embedding_tensor, save_path)\n",
    "    return embedding_tensor"
   ]
  },
  {
   "cell_type": "code",
   "execution_count": 22,
   "id": "cutting-estimate",
   "metadata": {
    "ExecuteTime": {
     "end_time": "2023-07-08T13:39:30.340829Z",
     "start_time": "2023-07-08T13:39:29.594308Z"
    }
   },
   "outputs": [
    {
     "name": "stdout",
     "output_type": "stream",
     "text": [
      "CPU times: user 204 ms, sys: 28.6 ms, total: 232 ms\n",
      "Wall time: 218 ms\n"
     ]
    }
   ],
   "source": [
    "%%time\n",
    "# 0) Preprocess videos\n",
    "video_stats_feature_tensors, video_cat_feature_tensors = preprocess_video_data(channel_videos)"
   ]
  },
  {
   "cell_type": "code",
   "execution_count": 23,
   "id": "public-suite",
   "metadata": {
    "ExecuteTime": {
     "end_time": "2023-07-08T13:39:36.362992Z",
     "start_time": "2023-07-08T13:39:30.345162Z"
    },
    "scrolled": true
   },
   "outputs": [
    {
     "name": "stdout",
     "output_type": "stream",
     "text": [
      "CPU times: user 509 ms, sys: 702 ms, total: 1.21 s\n",
      "Wall time: 313 ms\n"
     ]
    }
   ],
   "source": [
    "%%time\n",
    "# 1) Load Image embeddings for videos in order\n",
    "# encode_images_by_chunks(channel_videos[\"video_thumbnail_high_url\"], \"embeddings/video_image_embeddings.pt\") # 跑很久...\n",
    "video_image_embedding_files = [filename for filename in os.listdir(\"embeddings\") if filename.startswith(\"video_image_embeddings\")]\n",
    "video_image_embedding_files = sorted(video_image_embedding_files, key=lambda x: int(x.split(\"_\")[-1][:-3]))\n",
    "\n",
    "video_image_tensors = torch.cat([torch.load(os.path.join(\"embeddings\", filename))\n",
    "                                 for filename in video_image_embedding_files]).float()    # 130968 x 1000\n",
    "# 2) Load the text embeddings for videos\n",
    "# video_text_embeddings = encode_video_text_features(channel_videos, \"embeddings/video_text_embeddings.pt\") # 跑很久...\n",
    "video_text_embeddings = torch.load(\"embeddings/video_text_embeddings.pt\").float()\n",
    "# 3) Concatenate all features\n",
    "video_feature_tensors = torch.cat((video_text_embeddings,\n",
    "                                   video_stats_feature_tensors,\n",
    "                                   video_cat_feature_tensors,\n",
    "                                   video_image_tensors), axis=1).float()"
   ]
  },
  {
   "cell_type": "code",
   "execution_count": 24,
   "id": "proprietary-consolidation",
   "metadata": {
    "ExecuteTime": {
     "end_time": "2023-07-08T13:39:36.373413Z",
     "start_time": "2023-07-08T13:39:36.365777Z"
    }
   },
   "outputs": [
    {
     "name": "stdout",
     "output_type": "stream",
     "text": [
      "(768, 7, 1, 1000)\n"
     ]
    }
   ],
   "source": [
    "# Identify the dimensions of each type of video data\n",
    "video_text_dim = video_text_embeddings.shape[1]\n",
    "video_stats_dim = video_stats_feature_tensors.shape[1]\n",
    "video_cat_dim = video_cat_feature_tensors.shape[1]\n",
    "video_image_dim = video_image_tensors.shape[1]\n",
    "\n",
    "video_dims = (video_text_dim, video_stats_dim, video_cat_dim, video_image_dim)\n",
    "print(video_dims)"
   ]
  },
  {
   "cell_type": "code",
   "execution_count": 25,
   "id": "personal-columbus",
   "metadata": {
    "ExecuteTime": {
     "end_time": "2023-07-08T13:39:36.483257Z",
     "start_time": "2023-07-08T13:39:36.374587Z"
    }
   },
   "outputs": [
    {
     "data": {
      "text/plain": [
       "(torch.Size([130968, 768]), torch.float32, tensor(0.0149))"
      ]
     },
     "execution_count": 25,
     "metadata": {},
     "output_type": "execute_result"
    },
    {
     "data": {
      "text/plain": [
       "(torch.Size([130968, 7]), torch.float32, tensor(2.4634))"
      ]
     },
     "execution_count": 25,
     "metadata": {},
     "output_type": "execute_result"
    },
    {
     "data": {
      "text/plain": [
       "(torch.Size([130968, 1]), torch.float32, tensor(21.0912))"
      ]
     },
     "execution_count": 25,
     "metadata": {},
     "output_type": "execute_result"
    },
    {
     "data": {
      "text/plain": [
       "(torch.Size([130968, 1000]), torch.float32, tensor(8.2944e-06))"
      ]
     },
     "execution_count": 25,
     "metadata": {},
     "output_type": "execute_result"
    }
   ],
   "source": [
    "video_text_embeddings.shape, video_text_embeddings.dtype, video_text_embeddings.mean()\n",
    "video_stats_feature_tensors.shape, video_stats_feature_tensors.dtype, video_stats_feature_tensors.mean()\n",
    "video_cat_feature_tensors.shape, video_cat_feature_tensors.dtype, video_cat_feature_tensors.mean()\n",
    "video_image_tensors.shape, video_image_tensors.dtype, video_image_tensors.mean()"
   ]
  },
  {
   "cell_type": "code",
   "execution_count": 26,
   "id": "knowing-vocabulary",
   "metadata": {
    "ExecuteTime": {
     "end_time": "2023-07-08T13:39:36.710993Z",
     "start_time": "2023-07-08T13:39:36.484357Z"
    }
   },
   "outputs": [
    {
     "data": {
      "text/plain": [
       "(torch.Size([130968, 768]), torch.float32)"
      ]
     },
     "execution_count": 26,
     "metadata": {},
     "output_type": "execute_result"
    },
    {
     "data": {
      "text/plain": [
       "(torch.Size([130968, 7]), torch.float32, 0)"
      ]
     },
     "execution_count": 26,
     "metadata": {},
     "output_type": "execute_result"
    },
    {
     "data": {
      "text/plain": [
       "(torch.Size([130968, 1]), torch.float32, 0)"
      ]
     },
     "execution_count": 26,
     "metadata": {},
     "output_type": "execute_result"
    },
    {
     "data": {
      "text/plain": [
       "(torch.Size([130968, 1000]), torch.float32, 0)"
      ]
     },
     "execution_count": 26,
     "metadata": {},
     "output_type": "execute_result"
    }
   ],
   "source": [
    "video_text_embeddings.shape, video_text_embeddings.dtype#, video_text_embeddings.isnan().sum().item()\n",
    "video_stats_feature_tensors.shape, video_stats_feature_tensors.dtype, video_stats_feature_tensors.isnan().sum().item()\n",
    "video_cat_feature_tensors.shape, video_cat_feature_tensors.dtype, video_cat_feature_tensors.isnan().sum().item()\n",
    "video_image_tensors.shape, video_image_tensors.dtype, video_image_tensors.isnan().sum().item()"
   ]
  },
  {
   "cell_type": "code",
   "execution_count": 27,
   "id": "broken-abraham",
   "metadata": {
    "ExecuteTime": {
     "end_time": "2023-07-08T13:39:36.781469Z",
     "start_time": "2023-07-08T13:39:36.712129Z"
    }
   },
   "outputs": [
    {
     "data": {
      "text/plain": [
       "(-7.0, 28.0)"
      ]
     },
     "execution_count": 27,
     "metadata": {},
     "output_type": "execute_result"
    }
   ],
   "source": [
    "video_feature_tensors.min().item(), video_feature_tensors.max().item()"
   ]
  },
  {
   "cell_type": "code",
   "execution_count": null,
   "id": "floppy-israel",
   "metadata": {
    "ExecuteTime": {
     "end_time": "2023-06-21T14:05:14.354538Z",
     "start_time": "2023-06-21T14:05:14.351607Z"
    }
   },
   "outputs": [],
   "source": []
  },
  {
   "cell_type": "markdown",
   "id": "specialized-applicant",
   "metadata": {},
   "source": [
    "# Prepare Train-Val-Test Dataset"
   ]
  },
  {
   "cell_type": "code",
   "execution_count": 28,
   "id": "challenging-craft",
   "metadata": {
    "ExecuteTime": {
     "end_time": "2023-07-08T13:39:36.810731Z",
     "start_time": "2023-07-08T13:39:36.782554Z"
    }
   },
   "outputs": [],
   "source": [
    "# Move unneeded resources out of GPU\n",
    "resnet = resnet.cpu()"
   ]
  },
  {
   "cell_type": "markdown",
   "id": "017ab760",
   "metadata": {},
   "source": [
    "## Get data based on available featured videos"
   ]
  },
  {
   "cell_type": "markdown",
   "id": "careful-polish",
   "metadata": {},
   "source": [
    "###### Preprocessing Setups"
   ]
  },
  {
   "cell_type": "code",
   "execution_count": 29,
   "id": "dominant-approach",
   "metadata": {
    "ExecuteTime": {
     "end_time": "2023-07-08T13:39:36.855021Z",
     "start_time": "2023-07-08T13:39:36.811869Z"
    }
   },
   "outputs": [],
   "source": [
    "K = 10"
   ]
  },
  {
   "cell_type": "code",
   "execution_count": 30,
   "id": "previous-spider",
   "metadata": {
    "ExecuteTime": {
     "end_time": "2023-07-08T13:39:36.931732Z",
     "start_time": "2023-07-08T13:39:36.856126Z"
    }
   },
   "outputs": [
    {
     "data": {
      "text/plain": [
       "NaN             123582\n",
       "unaffected        5099\n",
       "boosted           1444\n",
       "cannibalized       843\n",
       "Name: feat_video_label_40, dtype: int64"
      ]
     },
     "execution_count": 30,
     "metadata": {},
     "output_type": "execute_result"
    }
   ],
   "source": [
    "channel_videos[LABEL].value_counts(dropna=False)"
   ]
  },
  {
   "cell_type": "code",
   "execution_count": null,
   "id": "rapid-airport",
   "metadata": {
    "ExecuteTime": {
     "end_time": "2023-07-08T13:39:37.027013Z",
     "start_time": "2023-07-08T13:39:36.933131Z"
    }
   },
   "outputs": [],
   "source": [
    "# Get video data to predict on\n",
    "available_feat_videos = channel_videos.query(f\"video_is_feat_youtuber & ~feat_video_to_remove & {LABEL}.notna()\",\n",
    "                                             engine=\"python\")[[\"video_id\", \"channel_id\", \"guest_channel_id\", LABEL]]"
   ]
  },
  {
   "cell_type": "code",
   "execution_count": 32,
   "id": "coordinate-customer",
   "metadata": {
    "ExecuteTime": {
     "end_time": "2023-07-08T13:39:37.103233Z",
     "start_time": "2023-07-08T13:39:37.028390Z"
    }
   },
   "outputs": [
    {
     "data": {
      "text/html": [
       "<div>\n",
       "<style scoped>\n",
       "    .dataframe tbody tr th:only-of-type {\n",
       "        vertical-align: middle;\n",
       "    }\n",
       "\n",
       "    .dataframe tbody tr th {\n",
       "        vertical-align: top;\n",
       "    }\n",
       "\n",
       "    .dataframe thead th {\n",
       "        text-align: right;\n",
       "    }\n",
       "</style>\n",
       "<table border=\"1\" class=\"dataframe\">\n",
       "  <thead>\n",
       "    <tr style=\"text-align: right;\">\n",
       "      <th>feat_video_label_40</th>\n",
       "      <th>boosted</th>\n",
       "      <th>cannibalized</th>\n",
       "      <th>unaffected</th>\n",
       "    </tr>\n",
       "    <tr>\n",
       "      <th>num_guests</th>\n",
       "      <th></th>\n",
       "      <th></th>\n",
       "      <th></th>\n",
       "    </tr>\n",
       "  </thead>\n",
       "  <tbody>\n",
       "    <tr>\n",
       "      <th>1</th>\n",
       "      <td>350</td>\n",
       "      <td>316</td>\n",
       "      <td>3131</td>\n",
       "    </tr>\n",
       "    <tr>\n",
       "      <th>2</th>\n",
       "      <td>103</td>\n",
       "      <td>100</td>\n",
       "      <td>941</td>\n",
       "    </tr>\n",
       "    <tr>\n",
       "      <th>3</th>\n",
       "      <td>45</td>\n",
       "      <td>50</td>\n",
       "      <td>494</td>\n",
       "    </tr>\n",
       "    <tr>\n",
       "      <th>4</th>\n",
       "      <td>29</td>\n",
       "      <td>25</td>\n",
       "      <td>261</td>\n",
       "    </tr>\n",
       "    <tr>\n",
       "      <th>5</th>\n",
       "      <td>18</td>\n",
       "      <td>18</td>\n",
       "      <td>109</td>\n",
       "    </tr>\n",
       "  </tbody>\n",
       "</table>\n",
       "</div>"
      ],
      "text/plain": [
       "feat_video_label_40  boosted  cannibalized  unaffected\n",
       "num_guests                                            \n",
       "1                        350           316        3131\n",
       "2                        103           100         941\n",
       "3                         45            50         494\n",
       "4                         29            25         261\n",
       "5                         18            18         109"
      ]
     },
     "execution_count": 32,
     "metadata": {},
     "output_type": "execute_result"
    }
   ],
   "source": [
    "# Label counts by number of guest channels\n",
    "class_by_num_guests = (available_feat_videos\n",
    " .assign(num_guests=available_feat_videos.guest_channel_id.apply(len))\n",
    " .groupby(\"num_guests\")[LABEL].value_counts().unstack()\n",
    ")\n",
    "class_by_num_guests"
   ]
  },
  {
   "cell_type": "code",
   "execution_count": 33,
   "id": "chief-budget",
   "metadata": {
    "ExecuteTime": {
     "end_time": "2023-07-08T13:39:37.161594Z",
     "start_time": "2023-07-08T13:39:37.104612Z"
    }
   },
   "outputs": [],
   "source": [
    "def get_channel_tensors(channel_id):\n",
    "    index = channel_data.query(\"channel_id == @channel_id\").index[0]\n",
    "    return channel_feature_tensors[index]"
   ]
  },
  {
   "cell_type": "code",
   "execution_count": 34,
   "id": "mathematical-associate",
   "metadata": {
    "ExecuteTime": {
     "end_time": "2023-07-08T13:39:37.232390Z",
     "start_time": "2023-07-08T13:39:37.162912Z"
    }
   },
   "outputs": [],
   "source": [
    "def get_video_tensors(video_id):\n",
    "    index = channel_videos.query(\"video_id == @video_id\").index[0]\n",
    "    return video_feature_tensors[index]"
   ]
  },
  {
   "cell_type": "code",
   "execution_count": 35,
   "id": "reserved-colombia",
   "metadata": {
    "ExecuteTime": {
     "end_time": "2023-07-08T13:39:37.303575Z",
     "start_time": "2023-07-08T13:39:37.233763Z"
    }
   },
   "outputs": [],
   "source": [
    "def get_host_past_K_videos(video_id, K=K):\n",
    "    row = channel_videos.query(\"video_id == @video_id\")\n",
    "    videos_in_same_channel = (channel_videos[channel_videos.channel_id == row.channel_id.values[0]]\n",
    "                              .sort_values(by=\"video_published_at\")\n",
    "                              .reset_index(drop=True))\n",
    "    index = videos_in_same_channel.query(\"video_id == @video_id\").index[0]\n",
    "    past_K_video_ids = videos_in_same_channel[\"video_id\"].iloc[index-K:index]\n",
    "    return torch.stack([get_video_tensors(past_vid_id) for past_vid_id in past_K_video_ids], axis=0)"
   ]
  },
  {
   "cell_type": "code",
   "execution_count": 36,
   "id": "proof-bullet",
   "metadata": {
    "ExecuteTime": {
     "end_time": "2023-07-08T13:39:37.399358Z",
     "start_time": "2023-07-08T13:39:37.304966Z"
    }
   },
   "outputs": [],
   "source": [
    "def get_guests_channel_tensors(guest_channel_ids):\n",
    "    return torch.stack([get_channel_tensors(guest_channel_id)\n",
    "                        for guest_channel_id in guest_channel_ids], axis=0)"
   ]
  },
  {
   "cell_type": "code",
   "execution_count": 37,
   "id": "apart-hundred",
   "metadata": {
    "ExecuteTime": {
     "end_time": "2023-07-08T13:39:37.470708Z",
     "start_time": "2023-07-08T13:39:37.400768Z"
    }
   },
   "outputs": [],
   "source": [
    "def get_one_guest_video_tensors(guest_channel_id, feat_video_published_at):\n",
    "    guest_videos = (channel_videos\n",
    "                        .query(\"channel_id == @guest_channel_id & video_published_at <= @feat_video_published_at\")\n",
    "                        .sort_values(by=\"video_published_at\")\n",
    "                        .reset_index(drop=True))\n",
    "    guest_past_K_video_ids = guest_videos[\"video_id\"].iloc[-K:] # 這邊數量可能不是K\n",
    "    if len(guest_past_K_video_ids) == 0:\n",
    "        return torch.zeros(K, len(video_feature_tensors[0])).cpu()\n",
    "    \n",
    "    return torch.stack([get_video_tensors(past_vid_id)\n",
    "                        for past_vid_id in guest_past_K_video_ids]).cpu()\n",
    "\n",
    "\n",
    "def get_guests_video_features(feat_video_id, guest_channel_ids, K=K):\n",
    "    feat_video = channel_videos.query(\"video_id == @feat_video_id\")\n",
    "    feat_video_published_at = feat_video.video_published_at.values[0]\n",
    "    return pad_sequence([get_one_guest_video_tensors(guest_channel_id, feat_video_published_at)\n",
    "                        for guest_channel_id in guest_channel_ids])"
   ]
  },
  {
   "cell_type": "markdown",
   "id": "brilliant-teddy",
   "metadata": {},
   "source": [
    "###### host_channel_data"
   ]
  },
  {
   "cell_type": "code",
   "execution_count": 38,
   "id": "super-implement",
   "metadata": {
    "ExecuteTime": {
     "end_time": "2023-07-08T13:39:46.355160Z",
     "start_time": "2023-07-08T13:39:37.472117Z"
    }
   },
   "outputs": [
    {
     "name": "stdout",
     "output_type": "stream",
     "text": [
      "CPU times: user 3.07 s, sys: 32.2 ms, total: 3.11 s\n",
      "Wall time: 3.07 s\n"
     ]
    },
    {
     "data": {
      "text/plain": [
       "torch.Size([5990, 2781])"
      ]
     },
     "execution_count": 38,
     "metadata": {},
     "output_type": "execute_result"
    }
   ],
   "source": [
    "%%time\n",
    "host_channel_data = torch.stack(\n",
    "                            tuple(available_feat_videos.channel_id\n",
    "                                  .apply(get_channel_tensors)\n",
    "                                  .values), axis=0)\n",
    "host_channel_data.shape # (# of feat videos) x (# of channel features)"
   ]
  },
  {
   "cell_type": "markdown",
   "id": "substantial-rebate",
   "metadata": {},
   "source": [
    "###### host_past_videos_data"
   ]
  },
  {
   "cell_type": "code",
   "execution_count": 39,
   "id": "streaming-ebony",
   "metadata": {
    "ExecuteTime": {
     "end_time": "2023-07-08T13:39:47.421440Z",
     "start_time": "2023-07-08T13:39:46.356392Z"
    }
   },
   "outputs": [],
   "source": [
    "# %%time\n",
    "# host_past_videos_data = torch.stack(tuple(available_feat_videos\n",
    "#                                           .video_id\n",
    "#                                           .apply(get_host_past_K_videos)\n",
    "#                                           .values), axis=0)\n",
    "# torch.save(host_past_videos_data, \"embeddings/final_host_past_videos_data.pt\")\n",
    "\n",
    "# CPU times: user 12min 58s, sys: 8.22 s, total: 13min 7s\n",
    "# Wall time: 12min 46s"
   ]
  },
  {
   "cell_type": "code",
   "execution_count": 40,
   "id": "alive-perry",
   "metadata": {
    "ExecuteTime": {
     "end_time": "2023-07-08T13:39:50.250378Z",
     "start_time": "2023-07-08T13:39:47.422627Z"
    }
   },
   "outputs": [
    {
     "data": {
      "text/plain": [
       "torch.Size([5990, 10, 1776])"
      ]
     },
     "execution_count": 40,
     "metadata": {},
     "output_type": "execute_result"
    }
   ],
   "source": [
    "host_past_videos_data = torch.load(\"embeddings/final_host_past_videos_data.pt\")\n",
    "host_past_videos_data.shape # (# of feat videos) x (K past videos) x (# of video features)"
   ]
  },
  {
   "cell_type": "code",
   "execution_count": null,
   "id": "fitting-wheat",
   "metadata": {
    "ExecuteTime": {
     "end_time": "2023-07-06T09:38:12.931374Z",
     "start_time": "2023-07-06T09:38:12.927575Z"
    }
   },
   "outputs": [],
   "source": []
  },
  {
   "cell_type": "markdown",
   "id": "solar-validation",
   "metadata": {},
   "source": [
    "###### guests_channel_data"
   ]
  },
  {
   "cell_type": "code",
   "execution_count": 41,
   "id": "weekly-piano",
   "metadata": {
    "ExecuteTime": {
     "end_time": "2023-07-08T13:40:04.814193Z",
     "start_time": "2023-07-08T13:39:50.251748Z"
    }
   },
   "outputs": [
    {
     "name": "stdout",
     "output_type": "stream",
     "text": [
      "CPU times: user 5.09 s, sys: 18.5 ms, total: 5.1 s\n",
      "Wall time: 5.1 s\n"
     ]
    }
   ],
   "source": [
    "%%time\n",
    "# guests_channel_data:  an ndarray of 2D tensors\n",
    "guests_channel_data = available_feat_videos[\"guest_channel_id\"].apply(get_guests_channel_tensors).values"
   ]
  },
  {
   "cell_type": "code",
   "execution_count": 42,
   "id": "chief-hazard",
   "metadata": {
    "ExecuteTime": {
     "end_time": "2023-07-08T13:40:04.827179Z",
     "start_time": "2023-07-08T13:40:04.815571Z"
    },
    "code_folding": []
   },
   "outputs": [
    {
     "name": "stdout",
     "output_type": "stream",
     "text": [
      "- num of feat videos: 5990\n",
      "- num_guests (before padding): 1.642237061769616\n",
      "- channel tensor shape: torch.Size([2781])\n"
     ]
    }
   ],
   "source": [
    "# Dimensions in guests_channel_data (# of feat videos, # of guest channels, # of channel features)\n",
    "print(f\"- num of feat videos: {len(guests_channel_data)}\") # train data size\n",
    "print(f\"- num_guests (before padding): {np.mean([len(guest_list) for guest_list in guests_channel_data])}\") # num_guests\n",
    "print(f\"- channel tensor shape: {guests_channel_data[0][0].shape}\") # channel feature tensor"
   ]
  },
  {
   "cell_type": "code",
   "execution_count": 43,
   "id": "latest-installation",
   "metadata": {
    "ExecuteTime": {
     "end_time": "2023-07-08T13:40:05.179822Z",
     "start_time": "2023-07-08T13:40:04.828530Z"
    }
   },
   "outputs": [],
   "source": [
    "# Save all num_guests\n",
    "num_guests_list = np.array([len(guest_list) for guest_list in guests_channel_data])\n",
    "# Pad num_guests to maximum value = 5\n",
    "guests_channel_data = pad_sequence(guests_channel_data, batch_first=True)"
   ]
  },
  {
   "cell_type": "markdown",
   "id": "thrown-aaron",
   "metadata": {},
   "source": [
    "###### guests_past_videos_data"
   ]
  },
  {
   "cell_type": "code",
   "execution_count": 45,
   "id": "southeast-transport",
   "metadata": {
    "ExecuteTime": {
     "end_time": "2023-07-08T13:40:05.245135Z",
     "start_time": "2023-07-08T13:40:05.186333Z"
    }
   },
   "outputs": [],
   "source": [
    "# %%time\n",
    "# guests_past_videos_data = available_feat_videos[[\"video_id\", \"guest_channel_id\"]].apply(\n",
    "#             lambda row: get_guests_video_features(row[\"video_id\"], row[\"guest_channel_id\"]), axis=1).values\n",
    "\n",
    "# CPU times: user 49min 13s, sys: 1min 12s, total: 50min 25s\n",
    "# Wall time: 16min 23s"
   ]
  },
  {
   "cell_type": "code",
   "execution_count": 46,
   "id": "innocent-stroke",
   "metadata": {
    "ExecuteTime": {
     "end_time": "2023-07-08T13:40:05.322988Z",
     "start_time": "2023-07-08T13:40:05.246215Z"
    }
   },
   "outputs": [],
   "source": [
    "# with open(\"embeddings/final_guests_past_videos_data.pkl\", \"wb\") as pkl_file:\n",
    "#     pickle.dump(guests_past_videos_data, pkl_file)"
   ]
  },
  {
   "cell_type": "code",
   "execution_count": 47,
   "id": "aware-present",
   "metadata": {
    "ExecuteTime": {
     "end_time": "2023-07-08T13:40:09.566191Z",
     "start_time": "2023-07-08T13:40:05.324153Z"
    }
   },
   "outputs": [],
   "source": [
    "# guests_past_videos_data: an ndarray of lists of 2D tensors (5990, 5, 10, 789)\n",
    "with open(\"embeddings/final_guests_past_videos_data.pkl\", \"rb\") as pkl_file:\n",
    "    guests_past_videos_data = pickle.load(pkl_file) # np.array[list[torch.tensor[torch.tensor]]]"
   ]
  },
  {
   "cell_type": "code",
   "execution_count": 48,
   "id": "covered-sherman",
   "metadata": {
    "ExecuteTime": {
     "end_time": "2023-07-08T13:40:09.747132Z",
     "start_time": "2023-07-08T13:40:09.567540Z"
    }
   },
   "outputs": [
    {
     "name": "stdout",
     "output_type": "stream",
     "text": [
      "- num of feat videos: 5990\n",
      "- num_guests: 9.930717863105174\n",
      "- past K videos: 1.6472051777759098\n",
      "- video tensor shape: torch.Size([1776])\n"
     ]
    }
   ],
   "source": [
    "# Dimensions in guests_past_videos_data\n",
    "print(f\"- num of feat videos: {len(guests_past_videos_data)}\") # train data size\n",
    "print(f\"- num_guests: {np.mean([len(guest_list) for guest_list in guests_past_videos_data])}\") # num_guests\n",
    "print(f\"- past K videos: {np.mean([len(guest) for guest_list in guests_past_videos_data for guest in guest_list])}\") # 通常是 10 個 videos\n",
    "print(f\"- video tensor shape: {guests_past_videos_data[0][0][0].shape}\") # video feature tensor"
   ]
  },
  {
   "cell_type": "code",
   "execution_count": 49,
   "id": "inclusive-musician",
   "metadata": {
    "ExecuteTime": {
     "end_time": "2023-07-08T13:40:13.228550Z",
     "start_time": "2023-07-08T13:40:09.748370Z"
    }
   },
   "outputs": [
    {
     "name": "stdout",
     "output_type": "stream",
     "text": [
      "CPU times: user 1.44 s, sys: 1.01 s, total: 2.45 s\n",
      "Wall time: 1.4 s\n"
     ]
    }
   ],
   "source": [
    "%%time\n",
    "# Create a new array to store the padded tensors\n",
    "padded_data = []\n",
    "\n",
    "# Iterate over each tensor and pad it to the maximum size\n",
    "for data in guests_past_videos_data:\n",
    "    past_videos_current_size = data.shape[1]\n",
    "    past_videos_padding_width = K - past_videos_current_size\n",
    "    \n",
    "    num_guests_current_size = data.shape[0]\n",
    "    num_guests_padding_width = max(num_guests_list) - num_guests_current_size\n",
    "    \n",
    "    # Don't pad the last dim (0, 0)\n",
    "    # Pad the second-last dim to its right (0, past_videos_padding_width)\n",
    "    # Pad the third-last dim to its right (0, num_guests_padding_width)\n",
    "    padding_tuple = (0, 0, 0, past_videos_padding_width, 0, num_guests_padding_width) \n",
    "    padded_tensor = F.pad(data, padding_tuple, \"constant\", 0) # Multi-dimensional padding\n",
    "    \n",
    "    padded_data.append(padded_tensor)\n",
    "\n",
    "# Convert the padded tensors to a torch tensor\n",
    "guests_past_videos_data = torch.stack(padded_data)\n",
    "\n",
    "# CPU times: user 41.4 s, sys: 1.92 s, total: 43.3 s\n",
    "# Wall time: 7.22 s"
   ]
  },
  {
   "cell_type": "markdown",
   "id": "naughty-fourth",
   "metadata": {},
   "source": [
    "###### labels"
   ]
  },
  {
   "cell_type": "code",
   "execution_count": 51,
   "id": "intimate-turner",
   "metadata": {
    "ExecuteTime": {
     "end_time": "2023-07-08T13:40:13.487895Z",
     "start_time": "2023-07-08T13:40:13.234871Z"
    }
   },
   "outputs": [],
   "source": [
    "label_map_dict = {\"unaffected\": 0, \"boosted\": 1, \"cannibalized\": 2}\n",
    "labels = (available_feat_videos[LABEL]\n",
    "          .reset_index(drop=True)\n",
    "          .map(label_map_dict)\n",
    "          .values)"
   ]
  },
  {
   "cell_type": "code",
   "execution_count": 53,
   "id": "aggressive-medicare",
   "metadata": {
    "ExecuteTime": {
     "end_time": "2023-07-08T13:40:13.610530Z",
     "start_time": "2023-07-08T13:40:13.550314Z"
    }
   },
   "outputs": [],
   "source": [
    "# sample_indices = torch.randperm(host_channel_data.size(0))[:10]\n",
    "# pd.DataFrame(host_channel_data[sample_indices].numpy()).style.background_gradient(axis=None)"
   ]
  },
  {
   "cell_type": "code",
   "execution_count": null,
   "id": "still-practitioner",
   "metadata": {},
   "outputs": [],
   "source": []
  },
  {
   "cell_type": "markdown",
   "id": "flush-backing",
   "metadata": {},
   "source": [
    "## Stratified 5-fold Split"
   ]
  },
  {
   "cell_type": "code",
   "execution_count": null,
   "id": "raised-metadata",
   "metadata": {
    "ExecuteTime": {
     "end_time": "2023-07-08T13:40:13.678610Z",
     "start_time": "2023-07-08T13:40:13.611824Z"
    }
   },
   "outputs": [],
   "source": [
    "# Keep 990 data for testing\n",
    "train_indices, test_indices = train_test_split(np.arange(len(labels)),\n",
    "                                        stratify=labels,\n",
    "                                        test_size=990,\n",
    "                                        random_state=SEED)\n",
    "    \n",
    "# Stratified 5-fold for the rest 5000 data\n",
    "train_labels = labels[train_indices]\n",
    "splitter = StratifiedKFold(n_splits=5, shuffle=True, random_state=SEED)\n",
    "index_tuples = []\n",
    "for train_indices_train_fold_index, train_indices_val_fold_index in splitter.split(train_indices, train_labels):\n",
    "    # Get the original indices in train_indices, given the split indices\n",
    "    train_fold_indices = train_indices[train_indices_train_fold_index]\n",
    "    val_fold_indices = train_indices[train_indices_val_fold_index]\n",
    "    # Record the fold indices\n",
    "    index_tuple = (train_fold_indices, val_fold_indices, test_indices)\n",
    "    index_tuples.append(index_tuple)\n",
    "    \n",
    "# Collect all data\n",
    "all_data = [\n",
    "    host_channel_data,\n",
    "    host_past_videos_data,\n",
    "    guests_channel_data,\n",
    "    guests_past_videos_data,\n",
    "    num_guests_list,\n",
    "    labels,\n",
    "]"
   ]
  },
  {
   "cell_type": "code",
   "execution_count": 55,
   "id": "labeled-diesel",
   "metadata": {
    "ExecuteTime": {
     "end_time": "2023-07-08T13:40:13.750500Z",
     "start_time": "2023-07-08T13:40:13.679853Z"
    },
    "code_folding": []
   },
   "outputs": [],
   "source": [
    "# Use the above indices to perform stratified K-fold split for all data\n",
    "def get_train_val_test(data, train_indices, val_indices, test_indices):\n",
    "    return data[train_indices], data[val_indices], data[test_indices]\n",
    "\n",
    "def get_k_fold_train_val_test(all_data, index_tuples, show_shape=False, check_fold=0):\n",
    "    data_folds = []\n",
    "    for i, index_tuple in enumerate(index_tuples):\n",
    "        data_fold = [get_train_val_test(data, *index_tuple) for data in all_data]\n",
    "        data_folds.append(data_fold)\n",
    "        if i == check_fold and show_shape:\n",
    "            for train, val, test in data_fold:\n",
    "                print(train.shape, val.shape, test.shape)\n",
    "    return data_folds"
   ]
  },
  {
   "cell_type": "code",
   "execution_count": null,
   "id": "narrow-funeral",
   "metadata": {
    "ExecuteTime": {
     "end_time": "2023-07-08T13:40:15.314531Z",
     "start_time": "2023-07-08T13:40:13.751757Z"
    }
   },
   "outputs": [],
   "source": [
    "data_folds = get_k_fold_train_val_test(all_data, index_tuples)"
   ]
  },
  {
   "cell_type": "code",
   "execution_count": 57,
   "id": "spoken-initial",
   "metadata": {
    "ExecuteTime": {
     "end_time": "2023-07-08T13:40:15.317971Z",
     "start_time": "2023-07-08T13:40:15.315681Z"
    }
   },
   "outputs": [
    {
     "name": "stdout",
     "output_type": "stream",
     "text": [
      "5\n"
     ]
    }
   ],
   "source": [
    "print(len(data_folds))"
   ]
  },
  {
   "cell_type": "code",
   "execution_count": null,
   "id": "fixed-average",
   "metadata": {},
   "outputs": [],
   "source": []
  },
  {
   "cell_type": "markdown",
   "id": "297a7048",
   "metadata": {},
   "source": [
    "# Random Guess Model (RGM)"
   ]
  },
  {
   "cell_type": "code",
   "execution_count": 58,
   "id": "stupid-covering",
   "metadata": {
    "ExecuteTime": {
     "end_time": "2023-07-08T13:40:15.551353Z",
     "start_time": "2023-07-08T13:40:15.475458Z"
    },
    "code_folding": []
   },
   "outputs": [],
   "source": [
    "@mpl.rc_context({'font.size': 16})\n",
    "def plot_confusion_matrix(true_values, predictions, labels):\n",
    "    cm = confusion_matrix(true_values, predictions, labels=labels)\n",
    "    pct_cm = confusion_matrix(true_values, predictions, labels=labels, normalize=\"true\")\n",
    "    \n",
    "    cm_display = ConfusionMatrixDisplay(cm, display_labels=labels)\n",
    "    pct_cm_display = ConfusionMatrixDisplay(pct_cm, display_labels=labels)\n",
    "    \n",
    "    fig, axes = plt.subplots(nrows=1, ncols=2, figsize=(24, 12))\n",
    "    cm_display.plot(ax=axes[0], cmap=plt.cm.Blues)\n",
    "    pct_cm_display.plot(ax=axes[1], cmap=plt.cm.Blues, values_format=\".2%\")\n",
    "    \n",
    "    axes[0].grid(False)\n",
    "    axes[1].grid(False)\n",
    "    \n",
    "    plt.show()\n",
    "\n",
    "def get_classification_report_dict(true_values, predictions, show_report=False, show_confusion_matrix=False):\n",
    "    \n",
    "    convert_datatype = lambda array: array if isinstance(array, list) else array.values\n",
    "    true_values = convert_datatype(true_values)\n",
    "    predictions = convert_datatype(predictions)\n",
    "\n",
    "    report_dict = classification_report(true_values, predictions, output_dict=True, zero_division=0.0)\n",
    "    \n",
    "    if show_report:\n",
    "        print(classification_report(true_values, predictions))\n",
    "        \n",
    "    if show_confusion_matrix:\n",
    "        labels = [\"cannibalized\", \"boosted\", \"unaffected\"]\n",
    "        plot_confusion_matrix(true_values, predictions, labels)\n",
    "    \n",
    "    return report_dict"
   ]
  },
  {
   "cell_type": "code",
   "execution_count": 59,
   "id": "823f291d",
   "metadata": {},
   "outputs": [],
   "source": [
    "def get_max_all_occurrences(df):\n",
    "    index_matrix = np.where(df.values == df.max(axis=1).values.reshape(-1, 1))\n",
    "    index_groups = itertools.groupby(zip(*index_matrix), key=operator.itemgetter(0)) # groupby x coordinates\n",
    "    return [[df.columns[c] for r, c in coords] for _, coords in index_groups]"
   ]
  },
  {
   "cell_type": "code",
   "execution_count": 60,
   "id": "1ab87b22",
   "metadata": {},
   "outputs": [],
   "source": [
    "def random_make_predictions(feat_df, guest_channel_preds):    \n",
    "    prediction_candidates_df = (feat_df\n",
    "        .explode(\"guest_channel_id\")\n",
    "        .merge(guest_channel_preds, on=\"guest_channel_id\", how=\"left\")\n",
    "        .groupby(\"video_id\")\n",
    "        [\"prediction\"]\n",
    "        .value_counts()\n",
    "        .unstack()\n",
    "        .assign(prediction_candidates=get_max_all_occurrences)\n",
    "        .assign(final_prediction=lambda df: df.prediction_candidates\n",
    "                .apply(lambda label_list: label_list[0] \n",
    "                       if len(label_list) == 1 \n",
    "                       else np.random.choice(label_list))) # random choice for ties\n",
    "    )\n",
    "    return prediction_candidates_df"
   ]
  },
  {
   "cell_type": "code",
   "execution_count": 61,
   "id": "foreign-bulgarian",
   "metadata": {
    "ExecuteTime": {
     "end_time": "2023-07-08T13:40:15.628782Z",
     "start_time": "2023-07-08T13:40:15.552572Z"
    },
    "code_folding": []
   },
   "outputs": [],
   "source": [
    "def get_Kfold_report(fold_reports, fold_num=5, keys=None, metrics=None):\n",
    "    if keys is None:\n",
    "        keys = [\"cannibalized\", \"boosted\", \"unaffected\", \"macro avg\", \"weighted avg\"]\n",
    "        \n",
    "    if metrics is None:\n",
    "        metrics = [\"precision\", \"recall\", \"f1-score\"]\n",
    "\n",
    "    # Collect metrics from all reports\n",
    "    all_fold_metrics = []\n",
    "    for fold_report in fold_reports:\n",
    "        fold_metrics = []\n",
    "        for avg, metric in itertools.product(keys, metrics):\n",
    "            fold_metrics.append(fold_report[avg][metric])\n",
    "        all_fold_metrics.append(fold_metrics)\n",
    "    # Create K-fold report\n",
    "    multiindex_columns = pd.MultiIndex.from_tuples(itertools.product(keys, metrics))\n",
    "    Kfold_report = pd.DataFrame(all_fold_metrics, columns=multiindex_columns, index=range(1, fold_num+1))\n",
    "    Kfold_report.index.name = \"fold\"\n",
    "    # Add bottom avg row\n",
    "    bottem_avg_row = Kfold_report.mean().rename(\"avg\").to_frame().T\n",
    "    Kfold_report = pd.concat((Kfold_report, bottem_avg_row))\n",
    "\n",
    "    return Kfold_report"
   ]
  },
  {
   "cell_type": "code",
   "execution_count": 62,
   "id": "eded7bf2",
   "metadata": {},
   "outputs": [],
   "source": [
    "def run_experiments(feat_train, feat_val, feat_test, prob_dist, choices, num_experiments=1000):\n",
    "    \n",
    "    all_guests = feat_train[\"guest_channel_id\"].explode().drop_duplicates().reset_index(drop=True)\n",
    "    \n",
    "    val_random_guesses_list = []\n",
    "    test_random_guesses_list = []\n",
    "    \n",
    "    val_experiment_reports = []\n",
    "    test_experiment_reports = []\n",
    "    for _ in range(num_experiments):\n",
    "        # Make randomly assigned labels for guests within the training data\n",
    "        random_assignment = pd.Series(np.random.choice(choices, size=len(all_guests), p=prob_dist), name=\"prediction\")\n",
    "        guest_channel_preds = pd.concat((all_guests, random_assignment), axis=1)\n",
    "        \n",
    "        # Make predictions based on randomly assigned labels\n",
    "        val_random_guesses = random_make_predictions(feat_val, guest_channel_preds)\n",
    "        test_random_guesses = random_make_predictions(feat_test, guest_channel_preds)\n",
    "        \n",
    "        # Get ground truths\n",
    "        val_true_labels = feat_val.set_index(\"video_id\")[[LABEL]]\n",
    "        test_true_labels = feat_test.set_index(\"video_id\")[[LABEL]]\n",
    "        # Align ground truths & predictions\n",
    "        val_true_pred_df = val_true_labels.merge(val_random_guesses, on=\"video_id\", how=\"left\")\n",
    "        test_true_pred_df = test_true_labels.merge(test_random_guesses, on=\"video_id\", how=\"left\")\n",
    "        \n",
    "        # Get & Collect predictions\n",
    "        val_final_predictions = val_true_pred_df.final_prediction.fillna(\"unaffected\")\n",
    "        test_final_predictions = test_true_pred_df.final_prediction.fillna(\"unaffected\")\n",
    "        val_random_guesses_list.extend(val_final_predictions.to_list())\n",
    "        test_random_guesses_list.extend(test_final_predictions.to_list())\n",
    "\n",
    "        # Get & Collect reports\n",
    "        val_report = get_classification_report_dict(val_true_pred_df[LABEL], val_final_predictions)\n",
    "        test_report = get_classification_report_dict(test_true_pred_df[LABEL], test_final_predictions)\n",
    "        val_experiment_reports.append(val_report)\n",
    "        test_experiment_reports.append(test_report)\n",
    "        \n",
    "    val_experiments_avg_report = get_Kfold_report(val_experiment_reports, fold_num=num_experiments).loc[[\"avg\"]]\n",
    "    test_experiments_avg_report = get_Kfold_report(test_experiment_reports, fold_num=num_experiments).loc[[\"avg\"]]\n",
    "    \n",
    "    return val_experiments_avg_report, test_experiments_avg_report, val_random_guesses_list, test_random_guesses_list"
   ]
  },
  {
   "cell_type": "code",
   "execution_count": 63,
   "id": "58272447",
   "metadata": {},
   "outputs": [],
   "source": [
    "def get_value_counts_with_percentage(lst):\n",
    "    value_counts = pd.Series(lst).value_counts(dropna=False)\n",
    "    value_pct = pd.Series(lst).value_counts(dropna=False, normalize=True)\n",
    "    value_pct.index = [f\"{idx}%\" for idx in value_pct.index]\n",
    "    return pd.concat((value_counts, value_pct), axis=0)"
   ]
  },
  {
   "cell_type": "code",
   "execution_count": 64,
   "id": "8d5b8007",
   "metadata": {},
   "outputs": [],
   "source": [
    "def random_cross_validation(available_feat_videos, index_tuples, prob_dist=None, choices=None, num_experiments=1000):\n",
    "    \n",
    "    if prob_dist is None:\n",
    "        prob_dist = [0.05, 0.05, 0.90]\n",
    "        \n",
    "    if choices is None:\n",
    "        choices = [\"cannibalized\", \"boosted\", \"unaffected\"]\n",
    "\n",
    "    random_val_Kfold_report = []\n",
    "    random_test_Kfold_report = []\n",
    "    random_val_Kfold_preds_dist = []\n",
    "    random_test_Kfold_preds_dist = []\n",
    "    for index_tuple in index_tuples:\n",
    "        # Split on the stratified K-fold indices\n",
    "        feat_train, feat_val, feat_test = get_train_val_test(available_feat_videos.values, *index_tuple)\n",
    "        # Convert to Data Frame\n",
    "        feat_train = pd.DataFrame(feat_train, columns=available_feat_videos.columns, index=index_tuple[0]).rename_axis(LABEL, axis=1)\n",
    "        feat_val = pd.DataFrame(feat_val, columns=available_feat_videos.columns, index=index_tuple[1])\n",
    "        feat_test = pd.DataFrame(feat_test, columns=available_feat_videos.columns, index=index_tuple[2])\n",
    "        # Get & Collect experiment average result\n",
    "        val_experiments_avg_report, test_experiments_avg_report, val_random_guesses_list, test_random_guesses_list = run_experiments(feat_train, feat_val, feat_test, prob_dist=prob_dist, choices=choices, num_experiments=num_experiments)\n",
    "        random_val_Kfold_report.append(val_experiments_avg_report)\n",
    "        random_test_Kfold_report.append(test_experiments_avg_report)\n",
    "        # Collect distribution of predictions for each fold\n",
    "        val_random_guesses_distribution = get_value_counts_with_percentage(val_random_guesses_list)\n",
    "        test_random_guesses_distribution = get_value_counts_with_percentage(test_random_guesses_list)        \n",
    "        random_val_Kfold_preds_dist.append(val_random_guesses_distribution)\n",
    "        random_test_Kfold_preds_dist.append(test_random_guesses_distribution)\n",
    "\n",
    "    # Finalize Kfold reports\n",
    "    random_val_Kfold_report = pd.concat(random_val_Kfold_report)\n",
    "    random_test_Kfold_report = pd.concat(random_test_Kfold_report)\n",
    "    random_val_Kfold_report.index = range(1, len(index_tuples)+1)\n",
    "    random_test_Kfold_report.index = range(1, len(index_tuples)+1)\n",
    "    random_val_Kfold_report.loc[\"avg\"] = random_val_Kfold_report.mean(axis=0)\n",
    "    random_test_Kfold_report.loc[\"avg\"] = random_test_Kfold_report.mean(axis=0)\n",
    "    \n",
    "    # Finalize Kfold prediction distibutions\n",
    "    random_val_Kfold_preds_dist = pd.concat(random_val_Kfold_preds_dist, axis=1).T\n",
    "    random_test_Kfold_preds_dist = pd.concat(random_test_Kfold_preds_dist, axis=1).T\n",
    "    random_val_Kfold_preds_dist.index = range(1, len(index_tuples)+1)\n",
    "    random_test_Kfold_preds_dist.index = range(1, len(index_tuples)+1)\n",
    "    \n",
    "    random_val_Kfold_preds_dist.loc[\"total\", choices] = random_val_Kfold_preds_dist[choices].sum(axis=0)\n",
    "    random_test_Kfold_preds_dist.loc[\"total\", choices] = random_test_Kfold_preds_dist[choices].sum(axis=0)\n",
    "    \n",
    "    choices_pct = [f\"{choice}%\" for choice in choices]\n",
    "    val_total_preds_dist = (random_val_Kfold_preds_dist.loc[\"total\", choices] / random_val_Kfold_preds_dist.loc[\"total\", choices].sum())\n",
    "    test_total_preds_dist = (random_test_Kfold_preds_dist.loc[\"total\", choices] / random_test_Kfold_preds_dist.loc[\"total\", choices].sum())\n",
    "    val_total_preds_dist.index = [f\"{idx}%\" for idx in val_total_preds_dist.index]\n",
    "    test_total_preds_dist.index = [f\"{idx}%\" for idx in test_total_preds_dist.index]\n",
    "    random_val_Kfold_preds_dist.loc[\"total\", choices_pct] = val_total_preds_dist\n",
    "    random_test_Kfold_preds_dist.loc[\"total\", choices_pct] = test_total_preds_dist\n",
    "    \n",
    "    return random_val_Kfold_report, random_test_Kfold_report, random_val_Kfold_preds_dist, random_test_Kfold_preds_dist"
   ]
  },
  {
   "cell_type": "code",
   "execution_count": 65,
   "id": "c4964108",
   "metadata": {},
   "outputs": [],
   "source": [
    "def plot_Kfold_report(Kfold_report, title=\"\", **style_kwargs):\n",
    "    if not style_kwargs:\n",
    "        style_kwargs = dict(background_color=\"lightblue\", font_color=\"black\", bold=True)\n",
    "    with pd.option_context(\"display.colheader_justify\", \"left\"):\n",
    "        if title:\n",
    "            print_colored_text(title, **style_kwargs)\n",
    "        display(Kfold_report)"
   ]
  },
  {
   "cell_type": "markdown",
   "id": "d849d3af",
   "metadata": {},
   "source": [
    "## RGM (10%-10%-80%)\n",
    "Assign the below labels with its corresponding probabilities:\n",
    "- `Cannibalized`:  10%\n",
    "- `Boosted`: 10%\n",
    "- `Unaffected`: 80%,\n",
    "\n",
    "and run 1000 experiments and take the average of their metrics."
   ]
  },
  {
   "cell_type": "code",
   "execution_count": 67,
   "id": "2959f834",
   "metadata": {},
   "outputs": [
    {
     "data": {
      "text/html": [
       "<div style=\"background-color: lightblue; color: black; font-weight: bold; padding: 10px; display: inline-block;\">Random Guess on Val (10%-10%-80%)</div>"
      ],
      "text/plain": [
       "<IPython.core.display.HTML object>"
      ]
     },
     "metadata": {},
     "output_type": "display_data"
    },
    {
     "data": {
      "text/html": [
       "<div>\n",
       "<style scoped>\n",
       "    .dataframe tbody tr th:only-of-type {\n",
       "        vertical-align: middle;\n",
       "    }\n",
       "\n",
       "    .dataframe tbody tr th {\n",
       "        vertical-align: top;\n",
       "    }\n",
       "\n",
       "    .dataframe thead tr th {\n",
       "        text-align: left;\n",
       "    }\n",
       "</style>\n",
       "<table border=\"1\" class=\"dataframe\">\n",
       "  <thead>\n",
       "    <tr>\n",
       "      <th></th>\n",
       "      <th colspan=\"3\" halign=\"left\">cannibalized</th>\n",
       "      <th colspan=\"3\" halign=\"left\">boosted</th>\n",
       "      <th colspan=\"3\" halign=\"left\">unaffected</th>\n",
       "      <th colspan=\"3\" halign=\"left\">macro avg</th>\n",
       "      <th colspan=\"3\" halign=\"left\">weighted avg</th>\n",
       "    </tr>\n",
       "    <tr>\n",
       "      <th></th>\n",
       "      <th>precision</th>\n",
       "      <th>recall</th>\n",
       "      <th>f1-score</th>\n",
       "      <th>precision</th>\n",
       "      <th>recall</th>\n",
       "      <th>f1-score</th>\n",
       "      <th>precision</th>\n",
       "      <th>recall</th>\n",
       "      <th>f1-score</th>\n",
       "      <th>precision</th>\n",
       "      <th>recall</th>\n",
       "      <th>f1-score</th>\n",
       "      <th>precision</th>\n",
       "      <th>recall</th>\n",
       "      <th>f1-score</th>\n",
       "    </tr>\n",
       "  </thead>\n",
       "  <tbody>\n",
       "    <tr>\n",
       "      <th>1</th>\n",
       "      <td>0.086247</td>\n",
       "      <td>0.089694</td>\n",
       "      <td>0.083803</td>\n",
       "      <td>0.094300</td>\n",
       "      <td>0.089440</td>\n",
       "      <td>0.087536</td>\n",
       "      <td>0.823999</td>\n",
       "      <td>0.821775</td>\n",
       "      <td>0.821935</td>\n",
       "      <td>0.334849</td>\n",
       "      <td>0.333636</td>\n",
       "      <td>0.331091</td>\n",
       "      <td>0.694887</td>\n",
       "      <td>0.692906</td>\n",
       "      <td>0.692363</td>\n",
       "    </tr>\n",
       "    <tr>\n",
       "      <th>2</th>\n",
       "      <td>0.086488</td>\n",
       "      <td>0.087353</td>\n",
       "      <td>0.083057</td>\n",
       "      <td>0.097371</td>\n",
       "      <td>0.094165</td>\n",
       "      <td>0.091355</td>\n",
       "      <td>0.824896</td>\n",
       "      <td>0.823711</td>\n",
       "      <td>0.823419</td>\n",
       "      <td>0.336252</td>\n",
       "      <td>0.335076</td>\n",
       "      <td>0.332611</td>\n",
       "      <td>0.695927</td>\n",
       "      <td>0.694732</td>\n",
       "      <td>0.693871</td>\n",
       "    </tr>\n",
       "    <tr>\n",
       "      <th>3</th>\n",
       "      <td>0.087088</td>\n",
       "      <td>0.086094</td>\n",
       "      <td>0.083197</td>\n",
       "      <td>0.094073</td>\n",
       "      <td>0.093077</td>\n",
       "      <td>0.089891</td>\n",
       "      <td>0.824254</td>\n",
       "      <td>0.823937</td>\n",
       "      <td>0.823377</td>\n",
       "      <td>0.335138</td>\n",
       "      <td>0.334369</td>\n",
       "      <td>0.332155</td>\n",
       "      <td>0.695148</td>\n",
       "      <td>0.694712</td>\n",
       "      <td>0.693715</td>\n",
       "    </tr>\n",
       "    <tr>\n",
       "      <th>4</th>\n",
       "      <td>0.091651</td>\n",
       "      <td>0.090988</td>\n",
       "      <td>0.087713</td>\n",
       "      <td>0.094293</td>\n",
       "      <td>0.091934</td>\n",
       "      <td>0.089193</td>\n",
       "      <td>0.824245</td>\n",
       "      <td>0.821379</td>\n",
       "      <td>0.821950</td>\n",
       "      <td>0.336729</td>\n",
       "      <td>0.334767</td>\n",
       "      <td>0.332952</td>\n",
       "      <td>0.695548</td>\n",
       "      <td>0.692916</td>\n",
       "      <td>0.692859</td>\n",
       "    </tr>\n",
       "    <tr>\n",
       "      <th>5</th>\n",
       "      <td>0.081751</td>\n",
       "      <td>0.080494</td>\n",
       "      <td>0.077721</td>\n",
       "      <td>0.094225</td>\n",
       "      <td>0.086527</td>\n",
       "      <td>0.086438</td>\n",
       "      <td>0.822586</td>\n",
       "      <td>0.825231</td>\n",
       "      <td>0.823132</td>\n",
       "      <td>0.332854</td>\n",
       "      <td>0.330751</td>\n",
       "      <td>0.329097</td>\n",
       "      <td>0.693334</td>\n",
       "      <td>0.694706</td>\n",
       "      <td>0.692733</td>\n",
       "    </tr>\n",
       "    <tr>\n",
       "      <th>avg</th>\n",
       "      <td>0.086645</td>\n",
       "      <td>0.086925</td>\n",
       "      <td>0.083098</td>\n",
       "      <td>0.094852</td>\n",
       "      <td>0.091029</td>\n",
       "      <td>0.088882</td>\n",
       "      <td>0.823996</td>\n",
       "      <td>0.823207</td>\n",
       "      <td>0.822763</td>\n",
       "      <td>0.335164</td>\n",
       "      <td>0.333720</td>\n",
       "      <td>0.331581</td>\n",
       "      <td>0.694969</td>\n",
       "      <td>0.693994</td>\n",
       "      <td>0.693108</td>\n",
       "    </tr>\n",
       "  </tbody>\n",
       "</table>\n",
       "</div>"
      ],
      "text/plain": [
       "    cannibalized                     boosted                       unaffected  \\\n",
       "    precision    recall    f1-score  precision recall    f1-score  precision    \n",
       "1    0.086247     0.089694  0.083803  0.094300  0.089440  0.087536  0.823999    \n",
       "2    0.086488     0.087353  0.083057  0.097371  0.094165  0.091355  0.824896    \n",
       "3    0.087088     0.086094  0.083197  0.094073  0.093077  0.089891  0.824254    \n",
       "4    0.091651     0.090988  0.087713  0.094293  0.091934  0.089193  0.824245    \n",
       "5    0.081751     0.080494  0.077721  0.094225  0.086527  0.086438  0.822586    \n",
       "avg  0.086645     0.086925  0.083098  0.094852  0.091029  0.088882  0.823996    \n",
       "\n",
       "                        macro avg                     weighted avg            \\\n",
       "    recall    f1-score  precision recall    f1-score  precision    recall      \n",
       "1    0.821775  0.821935  0.334849  0.333636  0.331091  0.694887     0.692906   \n",
       "2    0.823711  0.823419  0.336252  0.335076  0.332611  0.695927     0.694732   \n",
       "3    0.823937  0.823377  0.335138  0.334369  0.332155  0.695148     0.694712   \n",
       "4    0.821379  0.821950  0.336729  0.334767  0.332952  0.695548     0.692916   \n",
       "5    0.825231  0.823132  0.332854  0.330751  0.329097  0.693334     0.694706   \n",
       "avg  0.823207  0.822763  0.335164  0.333720  0.331581  0.694969     0.693994   \n",
       "\n",
       "               \n",
       "    f1-score   \n",
       "1    0.692363  \n",
       "2    0.693871  \n",
       "3    0.693715  \n",
       "4    0.692859  \n",
       "5    0.692733  \n",
       "avg  0.693108  "
      ]
     },
     "metadata": {},
     "output_type": "display_data"
    },
    {
     "data": {
      "text/html": [
       "<div style=\"background-color: lightblue; color: black; font-weight: bold; padding: 10px; display: inline-block;\">Random Guess on Test (10%-10%-80%)</div>"
      ],
      "text/plain": [
       "<IPython.core.display.HTML object>"
      ]
     },
     "metadata": {},
     "output_type": "display_data"
    },
    {
     "data": {
      "text/html": [
       "<div>\n",
       "<style scoped>\n",
       "    .dataframe tbody tr th:only-of-type {\n",
       "        vertical-align: middle;\n",
       "    }\n",
       "\n",
       "    .dataframe tbody tr th {\n",
       "        vertical-align: top;\n",
       "    }\n",
       "\n",
       "    .dataframe thead tr th {\n",
       "        text-align: left;\n",
       "    }\n",
       "</style>\n",
       "<table border=\"1\" class=\"dataframe\">\n",
       "  <thead>\n",
       "    <tr>\n",
       "      <th></th>\n",
       "      <th colspan=\"3\" halign=\"left\">cannibalized</th>\n",
       "      <th colspan=\"3\" halign=\"left\">boosted</th>\n",
       "      <th colspan=\"3\" halign=\"left\">unaffected</th>\n",
       "      <th colspan=\"3\" halign=\"left\">macro avg</th>\n",
       "      <th colspan=\"3\" halign=\"left\">weighted avg</th>\n",
       "    </tr>\n",
       "    <tr>\n",
       "      <th></th>\n",
       "      <th>precision</th>\n",
       "      <th>recall</th>\n",
       "      <th>f1-score</th>\n",
       "      <th>precision</th>\n",
       "      <th>recall</th>\n",
       "      <th>f1-score</th>\n",
       "      <th>precision</th>\n",
       "      <th>recall</th>\n",
       "      <th>f1-score</th>\n",
       "      <th>precision</th>\n",
       "      <th>recall</th>\n",
       "      <th>f1-score</th>\n",
       "      <th>precision</th>\n",
       "      <th>recall</th>\n",
       "      <th>f1-score</th>\n",
       "    </tr>\n",
       "  </thead>\n",
       "  <tbody>\n",
       "    <tr>\n",
       "      <th>1</th>\n",
       "      <td>0.084948</td>\n",
       "      <td>0.085881</td>\n",
       "      <td>0.081735</td>\n",
       "      <td>0.090061</td>\n",
       "      <td>0.085144</td>\n",
       "      <td>0.083379</td>\n",
       "      <td>0.823211</td>\n",
       "      <td>0.822504</td>\n",
       "      <td>0.821960</td>\n",
       "      <td>0.332740</td>\n",
       "      <td>0.331176</td>\n",
       "      <td>0.329025</td>\n",
       "      <td>0.693921</td>\n",
       "      <td>0.692970</td>\n",
       "      <td>0.692009</td>\n",
       "    </tr>\n",
       "    <tr>\n",
       "      <th>2</th>\n",
       "      <td>0.086763</td>\n",
       "      <td>0.088274</td>\n",
       "      <td>0.083856</td>\n",
       "      <td>0.088672</td>\n",
       "      <td>0.084633</td>\n",
       "      <td>0.082582</td>\n",
       "      <td>0.822989</td>\n",
       "      <td>0.820820</td>\n",
       "      <td>0.820982</td>\n",
       "      <td>0.332808</td>\n",
       "      <td>0.331242</td>\n",
       "      <td>0.329140</td>\n",
       "      <td>0.693765</td>\n",
       "      <td>0.691738</td>\n",
       "      <td>0.691311</td>\n",
       "    </tr>\n",
       "    <tr>\n",
       "      <th>3</th>\n",
       "      <td>0.086889</td>\n",
       "      <td>0.086488</td>\n",
       "      <td>0.083276</td>\n",
       "      <td>0.090962</td>\n",
       "      <td>0.087944</td>\n",
       "      <td>0.085357</td>\n",
       "      <td>0.823485</td>\n",
       "      <td>0.822531</td>\n",
       "      <td>0.822219</td>\n",
       "      <td>0.333779</td>\n",
       "      <td>0.332321</td>\n",
       "      <td>0.330284</td>\n",
       "      <td>0.694393</td>\n",
       "      <td>0.693298</td>\n",
       "      <td>0.692534</td>\n",
       "    </tr>\n",
       "    <tr>\n",
       "      <th>4</th>\n",
       "      <td>0.086313</td>\n",
       "      <td>0.087821</td>\n",
       "      <td>0.083610</td>\n",
       "      <td>0.089686</td>\n",
       "      <td>0.085233</td>\n",
       "      <td>0.083666</td>\n",
       "      <td>0.823158</td>\n",
       "      <td>0.821680</td>\n",
       "      <td>0.821599</td>\n",
       "      <td>0.333052</td>\n",
       "      <td>0.331578</td>\n",
       "      <td>0.329625</td>\n",
       "      <td>0.693959</td>\n",
       "      <td>0.692464</td>\n",
       "      <td>0.691897</td>\n",
       "    </tr>\n",
       "    <tr>\n",
       "      <th>5</th>\n",
       "      <td>0.085954</td>\n",
       "      <td>0.086810</td>\n",
       "      <td>0.082583</td>\n",
       "      <td>0.091431</td>\n",
       "      <td>0.087278</td>\n",
       "      <td>0.085571</td>\n",
       "      <td>0.823376</td>\n",
       "      <td>0.821765</td>\n",
       "      <td>0.821737</td>\n",
       "      <td>0.333587</td>\n",
       "      <td>0.331951</td>\n",
       "      <td>0.329964</td>\n",
       "      <td>0.694266</td>\n",
       "      <td>0.692633</td>\n",
       "      <td>0.692097</td>\n",
       "    </tr>\n",
       "    <tr>\n",
       "      <th>avg</th>\n",
       "      <td>0.086173</td>\n",
       "      <td>0.087055</td>\n",
       "      <td>0.083012</td>\n",
       "      <td>0.090162</td>\n",
       "      <td>0.086047</td>\n",
       "      <td>0.084111</td>\n",
       "      <td>0.823244</td>\n",
       "      <td>0.821860</td>\n",
       "      <td>0.821700</td>\n",
       "      <td>0.333193</td>\n",
       "      <td>0.331654</td>\n",
       "      <td>0.329607</td>\n",
       "      <td>0.694061</td>\n",
       "      <td>0.692621</td>\n",
       "      <td>0.691970</td>\n",
       "    </tr>\n",
       "  </tbody>\n",
       "</table>\n",
       "</div>"
      ],
      "text/plain": [
       "    cannibalized                     boosted                       unaffected  \\\n",
       "    precision    recall    f1-score  precision recall    f1-score  precision    \n",
       "1    0.084948     0.085881  0.081735  0.090061  0.085144  0.083379  0.823211    \n",
       "2    0.086763     0.088274  0.083856  0.088672  0.084633  0.082582  0.822989    \n",
       "3    0.086889     0.086488  0.083276  0.090962  0.087944  0.085357  0.823485    \n",
       "4    0.086313     0.087821  0.083610  0.089686  0.085233  0.083666  0.823158    \n",
       "5    0.085954     0.086810  0.082583  0.091431  0.087278  0.085571  0.823376    \n",
       "avg  0.086173     0.087055  0.083012  0.090162  0.086047  0.084111  0.823244    \n",
       "\n",
       "                        macro avg                     weighted avg            \\\n",
       "    recall    f1-score  precision recall    f1-score  precision    recall      \n",
       "1    0.822504  0.821960  0.332740  0.331176  0.329025  0.693921     0.692970   \n",
       "2    0.820820  0.820982  0.332808  0.331242  0.329140  0.693765     0.691738   \n",
       "3    0.822531  0.822219  0.333779  0.332321  0.330284  0.694393     0.693298   \n",
       "4    0.821680  0.821599  0.333052  0.331578  0.329625  0.693959     0.692464   \n",
       "5    0.821765  0.821737  0.333587  0.331951  0.329964  0.694266     0.692633   \n",
       "avg  0.821860  0.821700  0.333193  0.331654  0.329607  0.694061     0.692621   \n",
       "\n",
       "               \n",
       "    f1-score   \n",
       "1    0.692009  \n",
       "2    0.691311  \n",
       "3    0.692534  \n",
       "4    0.691897  \n",
       "5    0.692097  \n",
       "avg  0.691970  "
      ]
     },
     "metadata": {},
     "output_type": "display_data"
    },
    {
     "data": {
      "text/html": [
       "<div style=\"background-color: lightblue; color: black; font-weight: bold; padding: 10px; display: inline-block;\">Prediction Distribution on Val (10%-10%-80%)</div>"
      ],
      "text/plain": [
       "<IPython.core.display.HTML object>"
      ]
     },
     "metadata": {},
     "output_type": "display_data"
    },
    {
     "data": {
      "text/html": [
       "<div>\n",
       "<style scoped>\n",
       "    .dataframe tbody tr th:only-of-type {\n",
       "        vertical-align: middle;\n",
       "    }\n",
       "\n",
       "    .dataframe tbody tr th {\n",
       "        vertical-align: top;\n",
       "    }\n",
       "\n",
       "    .dataframe thead th {\n",
       "        text-align: right;\n",
       "    }\n",
       "</style>\n",
       "<table border=\"1\" class=\"dataframe\">\n",
       "  <thead>\n",
       "    <tr style=\"text-align: left;\">\n",
       "      <th></th>\n",
       "      <th>unaffected</th>\n",
       "      <th>boosted</th>\n",
       "      <th>cannibalized</th>\n",
       "      <th>unaffected%</th>\n",
       "      <th>boosted%</th>\n",
       "      <th>cannibalized%</th>\n",
       "    </tr>\n",
       "  </thead>\n",
       "  <tbody>\n",
       "    <tr>\n",
       "      <th>1</th>\n",
       "      <td>821633.0</td>\n",
       "      <td>89363.0</td>\n",
       "      <td>89004.0</td>\n",
       "      <td>0.821633</td>\n",
       "      <td>0.089363</td>\n",
       "      <td>0.089004</td>\n",
       "    </tr>\n",
       "    <tr>\n",
       "      <th>2</th>\n",
       "      <td>822735.0</td>\n",
       "      <td>89541.0</td>\n",
       "      <td>87724.0</td>\n",
       "      <td>0.822735</td>\n",
       "      <td>0.089541</td>\n",
       "      <td>0.087724</td>\n",
       "    </tr>\n",
       "    <tr>\n",
       "      <th>3</th>\n",
       "      <td>823600.0</td>\n",
       "      <td>90739.0</td>\n",
       "      <td>85661.0</td>\n",
       "      <td>0.823600</td>\n",
       "      <td>0.090739</td>\n",
       "      <td>0.085661</td>\n",
       "    </tr>\n",
       "    <tr>\n",
       "      <th>4</th>\n",
       "      <td>820942.0</td>\n",
       "      <td>90115.0</td>\n",
       "      <td>88943.0</td>\n",
       "      <td>0.820942</td>\n",
       "      <td>0.090115</td>\n",
       "      <td>0.088943</td>\n",
       "    </tr>\n",
       "    <tr>\n",
       "      <th>5</th>\n",
       "      <td>826477.0</td>\n",
       "      <td>87255.0</td>\n",
       "      <td>86268.0</td>\n",
       "      <td>0.826477</td>\n",
       "      <td>0.087255</td>\n",
       "      <td>0.086268</td>\n",
       "    </tr>\n",
       "    <tr>\n",
       "      <th>total</th>\n",
       "      <td>4115387.0</td>\n",
       "      <td>447013.0</td>\n",
       "      <td>437600.0</td>\n",
       "      <td>0.823077</td>\n",
       "      <td>0.089403</td>\n",
       "      <td>0.087520</td>\n",
       "    </tr>\n",
       "  </tbody>\n",
       "</table>\n",
       "</div>"
      ],
      "text/plain": [
       "       unaffected  boosted   cannibalized  unaffected%  boosted%  \\\n",
       "1       821633.0    89363.0   89004.0      0.821633     0.089363   \n",
       "2       822735.0    89541.0   87724.0      0.822735     0.089541   \n",
       "3       823600.0    90739.0   85661.0      0.823600     0.090739   \n",
       "4       820942.0    90115.0   88943.0      0.820942     0.090115   \n",
       "5       826477.0    87255.0   86268.0      0.826477     0.087255   \n",
       "total  4115387.0   447013.0  437600.0      0.823077     0.089403   \n",
       "\n",
       "       cannibalized%  \n",
       "1      0.089004       \n",
       "2      0.087724       \n",
       "3      0.085661       \n",
       "4      0.088943       \n",
       "5      0.086268       \n",
       "total  0.087520       "
      ]
     },
     "metadata": {},
     "output_type": "display_data"
    },
    {
     "data": {
      "text/html": [
       "<div style=\"background-color: lightblue; color: black; font-weight: bold; padding: 10px; display: inline-block;\">Prediction Distribution on Test (10%-10%-80%)</div>"
      ],
      "text/plain": [
       "<IPython.core.display.HTML object>"
      ]
     },
     "metadata": {},
     "output_type": "display_data"
    },
    {
     "data": {
      "text/html": [
       "<div>\n",
       "<style scoped>\n",
       "    .dataframe tbody tr th:only-of-type {\n",
       "        vertical-align: middle;\n",
       "    }\n",
       "\n",
       "    .dataframe tbody tr th {\n",
       "        vertical-align: top;\n",
       "    }\n",
       "\n",
       "    .dataframe thead th {\n",
       "        text-align: right;\n",
       "    }\n",
       "</style>\n",
       "<table border=\"1\" class=\"dataframe\">\n",
       "  <thead>\n",
       "    <tr style=\"text-align: left;\">\n",
       "      <th></th>\n",
       "      <th>unaffected</th>\n",
       "      <th>cannibalized</th>\n",
       "      <th>boosted</th>\n",
       "      <th>unaffected%</th>\n",
       "      <th>cannibalized%</th>\n",
       "      <th>boosted%</th>\n",
       "    </tr>\n",
       "  </thead>\n",
       "  <tbody>\n",
       "    <tr>\n",
       "      <th>1</th>\n",
       "      <td>815126.0</td>\n",
       "      <td>87486.0</td>\n",
       "      <td>87388.0</td>\n",
       "      <td>0.823360</td>\n",
       "      <td>0.088370</td>\n",
       "      <td>0.088271</td>\n",
       "    </tr>\n",
       "    <tr>\n",
       "      <th>2</th>\n",
       "      <td>813663.0</td>\n",
       "      <td>87830.0</td>\n",
       "      <td>88507.0</td>\n",
       "      <td>0.821882</td>\n",
       "      <td>0.088717</td>\n",
       "      <td>0.089401</td>\n",
       "    </tr>\n",
       "    <tr>\n",
       "      <th>3</th>\n",
       "      <td>814895.0</td>\n",
       "      <td>84913.0</td>\n",
       "      <td>90192.0</td>\n",
       "      <td>0.823126</td>\n",
       "      <td>0.085771</td>\n",
       "      <td>0.091103</td>\n",
       "    </tr>\n",
       "    <tr>\n",
       "      <th>4</th>\n",
       "      <td>814355.0</td>\n",
       "      <td>87522.0</td>\n",
       "      <td>88123.0</td>\n",
       "      <td>0.822581</td>\n",
       "      <td>0.088406</td>\n",
       "      <td>0.089013</td>\n",
       "    </tr>\n",
       "    <tr>\n",
       "      <th>5</th>\n",
       "      <td>814254.0</td>\n",
       "      <td>87454.0</td>\n",
       "      <td>88292.0</td>\n",
       "      <td>0.822479</td>\n",
       "      <td>0.088337</td>\n",
       "      <td>0.089184</td>\n",
       "    </tr>\n",
       "    <tr>\n",
       "      <th>total</th>\n",
       "      <td>4072293.0</td>\n",
       "      <td>435205.0</td>\n",
       "      <td>442502.0</td>\n",
       "      <td>0.822685</td>\n",
       "      <td>0.087920</td>\n",
       "      <td>0.089394</td>\n",
       "    </tr>\n",
       "  </tbody>\n",
       "</table>\n",
       "</div>"
      ],
      "text/plain": [
       "       unaffected  cannibalized  boosted   unaffected%  cannibalized%  \\\n",
       "1       815126.0    87486.0       87388.0  0.823360     0.088370        \n",
       "2       813663.0    87830.0       88507.0  0.821882     0.088717        \n",
       "3       814895.0    84913.0       90192.0  0.823126     0.085771        \n",
       "4       814355.0    87522.0       88123.0  0.822581     0.088406        \n",
       "5       814254.0    87454.0       88292.0  0.822479     0.088337        \n",
       "total  4072293.0   435205.0      442502.0  0.822685     0.087920        \n",
       "\n",
       "       boosted%  \n",
       "1      0.088271  \n",
       "2      0.089401  \n",
       "3      0.091103  \n",
       "4      0.089013  \n",
       "5      0.089184  \n",
       "total  0.089394  "
      ]
     },
     "metadata": {},
     "output_type": "display_data"
    },
    {
     "name": "stdout",
     "output_type": "stream",
     "text": [
      "CPU times: user 2min 35s, sys: 0 ns, total: 2min 35s\n",
      "Wall time: 2min 35s\n"
     ]
    }
   ],
   "source": [
    "%%time\n",
    "num_experiments = 1000\n",
    "choices = [\"cannibalized\", \"boosted\", \"unaffected\"]\n",
    "prob_dist = [0.10, 0.10, 0.80]\n",
    "\n",
    "random_val_Kfold_report, random_test_Kfold_report, random_val_Kfold_preds_dist, random_test_Kfold_preds_dist = random_cross_validation(available_feat_videos, index_tuples,\n",
    "                                                                            prob_dist=prob_dist,\n",
    "                                                                            choices=choices,\n",
    "                                                                            num_experiments=num_experiments)\n",
    "\n",
    "proportion_string = '-'.join(f'{p:.0%}' for p in prob_dist)\n",
    "plot_Kfold_report(random_val_Kfold_report, title=f\"Random Guess on Val ({proportion_string})\")\n",
    "plot_Kfold_report(random_test_Kfold_report, title=f\"Random Guess on Test ({proportion_string})\")\n",
    "\n",
    "plot_Kfold_report(random_val_Kfold_preds_dist, title=f\"Prediction Distribution on Val ({proportion_string})\")\n",
    "plot_Kfold_report(random_test_Kfold_preds_dist, title=f\"Prediction Distribution on Test ({proportion_string})\")"
   ]
  },
  {
   "cell_type": "markdown",
   "id": "c39bb273",
   "metadata": {},
   "source": [
    "## RGM (5%-5%-90%)\n",
    "Assign the below labels with its corresponding probabilities:\n",
    "- `Cannibalized`:  5%\n",
    "- `Boosted`: 5%\n",
    "- `Unaffected`: 90%,\n",
    "\n",
    "and run 1000 experiments and take the average of their metrics."
   ]
  },
  {
   "cell_type": "code",
   "execution_count": 66,
   "id": "7bdcfa0d",
   "metadata": {},
   "outputs": [
    {
     "data": {
      "text/html": [
       "<div style=\"background-color: lightblue; color: black; font-weight: bold; padding: 10px; display: inline-block;\">Random Guess on Val (5%-5%-90%)</div>"
      ],
      "text/plain": [
       "<IPython.core.display.HTML object>"
      ]
     },
     "metadata": {},
     "output_type": "display_data"
    },
    {
     "data": {
      "text/html": [
       "<div>\n",
       "<style scoped>\n",
       "    .dataframe tbody tr th:only-of-type {\n",
       "        vertical-align: middle;\n",
       "    }\n",
       "\n",
       "    .dataframe tbody tr th {\n",
       "        vertical-align: top;\n",
       "    }\n",
       "\n",
       "    .dataframe thead tr th {\n",
       "        text-align: left;\n",
       "    }\n",
       "</style>\n",
       "<table border=\"1\" class=\"dataframe\">\n",
       "  <thead>\n",
       "    <tr>\n",
       "      <th></th>\n",
       "      <th colspan=\"3\" halign=\"left\">cannibalized</th>\n",
       "      <th colspan=\"3\" halign=\"left\">boosted</th>\n",
       "      <th colspan=\"3\" halign=\"left\">unaffected</th>\n",
       "      <th colspan=\"3\" halign=\"left\">macro avg</th>\n",
       "      <th colspan=\"3\" halign=\"left\">weighted avg</th>\n",
       "    </tr>\n",
       "    <tr>\n",
       "      <th></th>\n",
       "      <th>precision</th>\n",
       "      <th>recall</th>\n",
       "      <th>f1-score</th>\n",
       "      <th>precision</th>\n",
       "      <th>recall</th>\n",
       "      <th>f1-score</th>\n",
       "      <th>precision</th>\n",
       "      <th>recall</th>\n",
       "      <th>f1-score</th>\n",
       "      <th>precision</th>\n",
       "      <th>recall</th>\n",
       "      <th>f1-score</th>\n",
       "      <th>precision</th>\n",
       "      <th>recall</th>\n",
       "      <th>f1-score</th>\n",
       "    </tr>\n",
       "  </thead>\n",
       "  <tbody>\n",
       "    <tr>\n",
       "      <th>1</th>\n",
       "      <td>0.086939</td>\n",
       "      <td>0.043682</td>\n",
       "      <td>0.053773</td>\n",
       "      <td>0.092263</td>\n",
       "      <td>0.041659</td>\n",
       "      <td>0.053414</td>\n",
       "      <td>0.823657</td>\n",
       "      <td>0.913017</td>\n",
       "      <td>0.865657</td>\n",
       "      <td>0.334286</td>\n",
       "      <td>0.332786</td>\n",
       "      <td>0.324281</td>\n",
       "      <td>0.694479</td>\n",
       "      <td>0.759830</td>\n",
       "      <td>0.722733</td>\n",
       "    </tr>\n",
       "    <tr>\n",
       "      <th>2</th>\n",
       "      <td>0.088789</td>\n",
       "      <td>0.041706</td>\n",
       "      <td>0.052776</td>\n",
       "      <td>0.097434</td>\n",
       "      <td>0.046022</td>\n",
       "      <td>0.058606</td>\n",
       "      <td>0.824416</td>\n",
       "      <td>0.915475</td>\n",
       "      <td>0.867224</td>\n",
       "      <td>0.336879</td>\n",
       "      <td>0.334401</td>\n",
       "      <td>0.326202</td>\n",
       "      <td>0.695732</td>\n",
       "      <td>0.762084</td>\n",
       "      <td>0.724412</td>\n",
       "    </tr>\n",
       "    <tr>\n",
       "      <th>3</th>\n",
       "      <td>0.086791</td>\n",
       "      <td>0.041153</td>\n",
       "      <td>0.052072</td>\n",
       "      <td>0.097138</td>\n",
       "      <td>0.043527</td>\n",
       "      <td>0.056064</td>\n",
       "      <td>0.823996</td>\n",
       "      <td>0.915481</td>\n",
       "      <td>0.867011</td>\n",
       "      <td>0.335975</td>\n",
       "      <td>0.333387</td>\n",
       "      <td>0.325049</td>\n",
       "      <td>0.695190</td>\n",
       "      <td>0.761815</td>\n",
       "      <td>0.723945</td>\n",
       "    </tr>\n",
       "    <tr>\n",
       "      <th>4</th>\n",
       "      <td>0.099484</td>\n",
       "      <td>0.045176</td>\n",
       "      <td>0.057805</td>\n",
       "      <td>0.091880</td>\n",
       "      <td>0.042473</td>\n",
       "      <td>0.053195</td>\n",
       "      <td>0.823977</td>\n",
       "      <td>0.913402</td>\n",
       "      <td>0.865952</td>\n",
       "      <td>0.338447</td>\n",
       "      <td>0.333684</td>\n",
       "      <td>0.325651</td>\n",
       "      <td>0.695774</td>\n",
       "      <td>0.760348</td>\n",
       "      <td>0.723299</td>\n",
       "    </tr>\n",
       "    <tr>\n",
       "      <th>5</th>\n",
       "      <td>0.079990</td>\n",
       "      <td>0.037482</td>\n",
       "      <td>0.047687</td>\n",
       "      <td>0.099092</td>\n",
       "      <td>0.042648</td>\n",
       "      <td>0.056155</td>\n",
       "      <td>0.823295</td>\n",
       "      <td>0.916142</td>\n",
       "      <td>0.866908</td>\n",
       "      <td>0.334126</td>\n",
       "      <td>0.332091</td>\n",
       "      <td>0.323583</td>\n",
       "      <td>0.694211</td>\n",
       "      <td>0.761968</td>\n",
       "      <td>0.723496</td>\n",
       "    </tr>\n",
       "    <tr>\n",
       "      <th>avg</th>\n",
       "      <td>0.088398</td>\n",
       "      <td>0.041840</td>\n",
       "      <td>0.052822</td>\n",
       "      <td>0.095561</td>\n",
       "      <td>0.043266</td>\n",
       "      <td>0.055487</td>\n",
       "      <td>0.823868</td>\n",
       "      <td>0.914703</td>\n",
       "      <td>0.866551</td>\n",
       "      <td>0.335943</td>\n",
       "      <td>0.333270</td>\n",
       "      <td>0.324953</td>\n",
       "      <td>0.695077</td>\n",
       "      <td>0.761209</td>\n",
       "      <td>0.723577</td>\n",
       "    </tr>\n",
       "  </tbody>\n",
       "</table>\n",
       "</div>"
      ],
      "text/plain": [
       "    cannibalized                     boosted                       unaffected  \\\n",
       "    precision    recall    f1-score  precision recall    f1-score  precision    \n",
       "1    0.086939     0.043682  0.053773  0.092263  0.041659  0.053414  0.823657    \n",
       "2    0.088789     0.041706  0.052776  0.097434  0.046022  0.058606  0.824416    \n",
       "3    0.086791     0.041153  0.052072  0.097138  0.043527  0.056064  0.823996    \n",
       "4    0.099484     0.045176  0.057805  0.091880  0.042473  0.053195  0.823977    \n",
       "5    0.079990     0.037482  0.047687  0.099092  0.042648  0.056155  0.823295    \n",
       "avg  0.088398     0.041840  0.052822  0.095561  0.043266  0.055487  0.823868    \n",
       "\n",
       "                        macro avg                     weighted avg            \\\n",
       "    recall    f1-score  precision recall    f1-score  precision    recall      \n",
       "1    0.913017  0.865657  0.334286  0.332786  0.324281  0.694479     0.759830   \n",
       "2    0.915475  0.867224  0.336879  0.334401  0.326202  0.695732     0.762084   \n",
       "3    0.915481  0.867011  0.335975  0.333387  0.325049  0.695190     0.761815   \n",
       "4    0.913402  0.865952  0.338447  0.333684  0.325651  0.695774     0.760348   \n",
       "5    0.916142  0.866908  0.334126  0.332091  0.323583  0.694211     0.761968   \n",
       "avg  0.914703  0.866551  0.335943  0.333270  0.324953  0.695077     0.761209   \n",
       "\n",
       "               \n",
       "    f1-score   \n",
       "1    0.722733  \n",
       "2    0.724412  \n",
       "3    0.723945  \n",
       "4    0.723299  \n",
       "5    0.723496  \n",
       "avg  0.723577  "
      ]
     },
     "metadata": {},
     "output_type": "display_data"
    },
    {
     "data": {
      "text/html": [
       "<div style=\"background-color: lightblue; color: black; font-weight: bold; padding: 10px; display: inline-block;\">Random Guess on Test (5%-5%-90%)</div>"
      ],
      "text/plain": [
       "<IPython.core.display.HTML object>"
      ]
     },
     "metadata": {},
     "output_type": "display_data"
    },
    {
     "data": {
      "text/html": [
       "<div>\n",
       "<style scoped>\n",
       "    .dataframe tbody tr th:only-of-type {\n",
       "        vertical-align: middle;\n",
       "    }\n",
       "\n",
       "    .dataframe tbody tr th {\n",
       "        vertical-align: top;\n",
       "    }\n",
       "\n",
       "    .dataframe thead tr th {\n",
       "        text-align: left;\n",
       "    }\n",
       "</style>\n",
       "<table border=\"1\" class=\"dataframe\">\n",
       "  <thead>\n",
       "    <tr>\n",
       "      <th></th>\n",
       "      <th colspan=\"3\" halign=\"left\">cannibalized</th>\n",
       "      <th colspan=\"3\" halign=\"left\">boosted</th>\n",
       "      <th colspan=\"3\" halign=\"left\">unaffected</th>\n",
       "      <th colspan=\"3\" halign=\"left\">macro avg</th>\n",
       "      <th colspan=\"3\" halign=\"left\">weighted avg</th>\n",
       "    </tr>\n",
       "    <tr>\n",
       "      <th></th>\n",
       "      <th>precision</th>\n",
       "      <th>recall</th>\n",
       "      <th>f1-score</th>\n",
       "      <th>precision</th>\n",
       "      <th>recall</th>\n",
       "      <th>f1-score</th>\n",
       "      <th>precision</th>\n",
       "      <th>recall</th>\n",
       "      <th>f1-score</th>\n",
       "      <th>precision</th>\n",
       "      <th>recall</th>\n",
       "      <th>f1-score</th>\n",
       "      <th>precision</th>\n",
       "      <th>recall</th>\n",
       "      <th>f1-score</th>\n",
       "    </tr>\n",
       "  </thead>\n",
       "  <tbody>\n",
       "    <tr>\n",
       "      <th>1</th>\n",
       "      <td>0.086402</td>\n",
       "      <td>0.043964</td>\n",
       "      <td>0.054513</td>\n",
       "      <td>0.089371</td>\n",
       "      <td>0.041444</td>\n",
       "      <td>0.052820</td>\n",
       "      <td>0.823780</td>\n",
       "      <td>0.913104</td>\n",
       "      <td>0.865793</td>\n",
       "      <td>0.333184</td>\n",
       "      <td>0.332838</td>\n",
       "      <td>0.324375</td>\n",
       "      <td>0.694450</td>\n",
       "      <td>0.760117</td>\n",
       "      <td>0.723050</td>\n",
       "    </tr>\n",
       "    <tr>\n",
       "      <th>2</th>\n",
       "      <td>0.087064</td>\n",
       "      <td>0.042012</td>\n",
       "      <td>0.053011</td>\n",
       "      <td>0.089388</td>\n",
       "      <td>0.041222</td>\n",
       "      <td>0.052860</td>\n",
       "      <td>0.823688</td>\n",
       "      <td>0.914072</td>\n",
       "      <td>0.866181</td>\n",
       "      <td>0.333380</td>\n",
       "      <td>0.332435</td>\n",
       "      <td>0.324017</td>\n",
       "      <td>0.694432</td>\n",
       "      <td>0.760729</td>\n",
       "      <td>0.723246</td>\n",
       "    </tr>\n",
       "    <tr>\n",
       "      <th>3</th>\n",
       "      <td>0.087435</td>\n",
       "      <td>0.041464</td>\n",
       "      <td>0.052394</td>\n",
       "      <td>0.092969</td>\n",
       "      <td>0.041478</td>\n",
       "      <td>0.053089</td>\n",
       "      <td>0.823788</td>\n",
       "      <td>0.914850</td>\n",
       "      <td>0.866573</td>\n",
       "      <td>0.334731</td>\n",
       "      <td>0.332598</td>\n",
       "      <td>0.324019</td>\n",
       "      <td>0.694872</td>\n",
       "      <td>0.761347</td>\n",
       "      <td>0.723538</td>\n",
       "    </tr>\n",
       "    <tr>\n",
       "      <th>4</th>\n",
       "      <td>0.089307</td>\n",
       "      <td>0.042429</td>\n",
       "      <td>0.053330</td>\n",
       "      <td>0.089761</td>\n",
       "      <td>0.041056</td>\n",
       "      <td>0.052078</td>\n",
       "      <td>0.823610</td>\n",
       "      <td>0.913333</td>\n",
       "      <td>0.865754</td>\n",
       "      <td>0.334226</td>\n",
       "      <td>0.332272</td>\n",
       "      <td>0.323720</td>\n",
       "      <td>0.694592</td>\n",
       "      <td>0.760140</td>\n",
       "      <td>0.722850</td>\n",
       "    </tr>\n",
       "    <tr>\n",
       "      <th>5</th>\n",
       "      <td>0.089077</td>\n",
       "      <td>0.043857</td>\n",
       "      <td>0.054923</td>\n",
       "      <td>0.089825</td>\n",
       "      <td>0.041333</td>\n",
       "      <td>0.053052</td>\n",
       "      <td>0.823818</td>\n",
       "      <td>0.914012</td>\n",
       "      <td>0.866208</td>\n",
       "      <td>0.334240</td>\n",
       "      <td>0.333068</td>\n",
       "      <td>0.324728</td>\n",
       "      <td>0.694750</td>\n",
       "      <td>0.760846</td>\n",
       "      <td>0.723448</td>\n",
       "    </tr>\n",
       "    <tr>\n",
       "      <th>avg</th>\n",
       "      <td>0.087857</td>\n",
       "      <td>0.042745</td>\n",
       "      <td>0.053634</td>\n",
       "      <td>0.090263</td>\n",
       "      <td>0.041307</td>\n",
       "      <td>0.052780</td>\n",
       "      <td>0.823737</td>\n",
       "      <td>0.913875</td>\n",
       "      <td>0.866102</td>\n",
       "      <td>0.333952</td>\n",
       "      <td>0.332642</td>\n",
       "      <td>0.324172</td>\n",
       "      <td>0.694619</td>\n",
       "      <td>0.760636</td>\n",
       "      <td>0.723227</td>\n",
       "    </tr>\n",
       "  </tbody>\n",
       "</table>\n",
       "</div>"
      ],
      "text/plain": [
       "    cannibalized                     boosted                       unaffected  \\\n",
       "    precision    recall    f1-score  precision recall    f1-score  precision    \n",
       "1    0.086402     0.043964  0.054513  0.089371  0.041444  0.052820  0.823780    \n",
       "2    0.087064     0.042012  0.053011  0.089388  0.041222  0.052860  0.823688    \n",
       "3    0.087435     0.041464  0.052394  0.092969  0.041478  0.053089  0.823788    \n",
       "4    0.089307     0.042429  0.053330  0.089761  0.041056  0.052078  0.823610    \n",
       "5    0.089077     0.043857  0.054923  0.089825  0.041333  0.053052  0.823818    \n",
       "avg  0.087857     0.042745  0.053634  0.090263  0.041307  0.052780  0.823737    \n",
       "\n",
       "                        macro avg                     weighted avg            \\\n",
       "    recall    f1-score  precision recall    f1-score  precision    recall      \n",
       "1    0.913104  0.865793  0.333184  0.332838  0.324375  0.694450     0.760117   \n",
       "2    0.914072  0.866181  0.333380  0.332435  0.324017  0.694432     0.760729   \n",
       "3    0.914850  0.866573  0.334731  0.332598  0.324019  0.694872     0.761347   \n",
       "4    0.913333  0.865754  0.334226  0.332272  0.323720  0.694592     0.760140   \n",
       "5    0.914012  0.866208  0.334240  0.333068  0.324728  0.694750     0.760846   \n",
       "avg  0.913875  0.866102  0.333952  0.332642  0.324172  0.694619     0.760636   \n",
       "\n",
       "               \n",
       "    f1-score   \n",
       "1    0.723050  \n",
       "2    0.723246  \n",
       "3    0.723538  \n",
       "4    0.722850  \n",
       "5    0.723448  \n",
       "avg  0.723227  "
      ]
     },
     "metadata": {},
     "output_type": "display_data"
    },
    {
     "data": {
      "text/html": [
       "<div style=\"background-color: lightblue; color: black; font-weight: bold; padding: 10px; display: inline-block;\">Prediction Distribution on Val (5%-5%-90%)</div>"
      ],
      "text/plain": [
       "<IPython.core.display.HTML object>"
      ]
     },
     "metadata": {},
     "output_type": "display_data"
    },
    {
     "data": {
      "text/html": [
       "<div>\n",
       "<style scoped>\n",
       "    .dataframe tbody tr th:only-of-type {\n",
       "        vertical-align: middle;\n",
       "    }\n",
       "\n",
       "    .dataframe tbody tr th {\n",
       "        vertical-align: top;\n",
       "    }\n",
       "\n",
       "    .dataframe thead th {\n",
       "        text-align: right;\n",
       "    }\n",
       "</style>\n",
       "<table border=\"1\" class=\"dataframe\">\n",
       "  <thead>\n",
       "    <tr style=\"text-align: left;\">\n",
       "      <th></th>\n",
       "      <th>unaffected</th>\n",
       "      <th>cannibalized</th>\n",
       "      <th>boosted</th>\n",
       "      <th>unaffected%</th>\n",
       "      <th>cannibalized%</th>\n",
       "      <th>boosted%</th>\n",
       "    </tr>\n",
       "  </thead>\n",
       "  <tbody>\n",
       "    <tr>\n",
       "      <th>1</th>\n",
       "      <td>913319.0</td>\n",
       "      <td>43629.0</td>\n",
       "      <td>43052.0</td>\n",
       "      <td>0.913319</td>\n",
       "      <td>0.043629</td>\n",
       "      <td>0.043052</td>\n",
       "    </tr>\n",
       "    <tr>\n",
       "      <th>2</th>\n",
       "      <td>914982.0</td>\n",
       "      <td>42098.0</td>\n",
       "      <td>42920.0</td>\n",
       "      <td>0.914982</td>\n",
       "      <td>0.042098</td>\n",
       "      <td>0.042920</td>\n",
       "    </tr>\n",
       "    <tr>\n",
       "      <th>3</th>\n",
       "      <td>915433.0</td>\n",
       "      <td>41743.0</td>\n",
       "      <td>42824.0</td>\n",
       "      <td>0.915433</td>\n",
       "      <td>0.041743</td>\n",
       "      <td>0.042824</td>\n",
       "    </tr>\n",
       "    <tr>\n",
       "      <th>4</th>\n",
       "      <td>913312.0</td>\n",
       "      <td>43055.0</td>\n",
       "      <td>43633.0</td>\n",
       "      <td>0.913312</td>\n",
       "      <td>0.043055</td>\n",
       "      <td>0.043633</td>\n",
       "    </tr>\n",
       "    <tr>\n",
       "      <th>5</th>\n",
       "      <td>916838.0</td>\n",
       "      <td>41820.0</td>\n",
       "      <td>41342.0</td>\n",
       "      <td>0.916838</td>\n",
       "      <td>0.041820</td>\n",
       "      <td>0.041342</td>\n",
       "    </tr>\n",
       "    <tr>\n",
       "      <th>total</th>\n",
       "      <td>4573884.0</td>\n",
       "      <td>212345.0</td>\n",
       "      <td>213771.0</td>\n",
       "      <td>0.914777</td>\n",
       "      <td>0.042469</td>\n",
       "      <td>0.042754</td>\n",
       "    </tr>\n",
       "  </tbody>\n",
       "</table>\n",
       "</div>"
      ],
      "text/plain": [
       "       unaffected  cannibalized  boosted   unaffected%  cannibalized%  \\\n",
       "1       913319.0    43629.0       43052.0  0.913319     0.043629        \n",
       "2       914982.0    42098.0       42920.0  0.914982     0.042098        \n",
       "3       915433.0    41743.0       42824.0  0.915433     0.041743        \n",
       "4       913312.0    43055.0       43633.0  0.913312     0.043055        \n",
       "5       916838.0    41820.0       41342.0  0.916838     0.041820        \n",
       "total  4573884.0   212345.0      213771.0  0.914777     0.042469        \n",
       "\n",
       "       boosted%  \n",
       "1      0.043052  \n",
       "2      0.042920  \n",
       "3      0.042824  \n",
       "4      0.043633  \n",
       "5      0.041342  \n",
       "total  0.042754  "
      ]
     },
     "metadata": {},
     "output_type": "display_data"
    },
    {
     "data": {
      "text/html": [
       "<div style=\"background-color: lightblue; color: black; font-weight: bold; padding: 10px; display: inline-block;\">Prediction Distribution on Test (5%-5%-90%)</div>"
      ],
      "text/plain": [
       "<IPython.core.display.HTML object>"
      ]
     },
     "metadata": {},
     "output_type": "display_data"
    },
    {
     "data": {
      "text/html": [
       "<div>\n",
       "<style scoped>\n",
       "    .dataframe tbody tr th:only-of-type {\n",
       "        vertical-align: middle;\n",
       "    }\n",
       "\n",
       "    .dataframe tbody tr th {\n",
       "        vertical-align: top;\n",
       "    }\n",
       "\n",
       "    .dataframe thead th {\n",
       "        text-align: right;\n",
       "    }\n",
       "</style>\n",
       "<table border=\"1\" class=\"dataframe\">\n",
       "  <thead>\n",
       "    <tr style=\"text-align: left;\">\n",
       "      <th></th>\n",
       "      <th>unaffected</th>\n",
       "      <th>cannibalized</th>\n",
       "      <th>boosted</th>\n",
       "      <th>unaffected%</th>\n",
       "      <th>cannibalized%</th>\n",
       "      <th>boosted%</th>\n",
       "    </tr>\n",
       "  </thead>\n",
       "  <tbody>\n",
       "    <tr>\n",
       "      <th>1</th>\n",
       "      <td>904401.0</td>\n",
       "      <td>43047.0</td>\n",
       "      <td>42552.0</td>\n",
       "      <td>0.913536</td>\n",
       "      <td>0.043482</td>\n",
       "      <td>0.042982</td>\n",
       "    </tr>\n",
       "    <tr>\n",
       "      <th>2</th>\n",
       "      <td>905465.0</td>\n",
       "      <td>41620.0</td>\n",
       "      <td>42915.0</td>\n",
       "      <td>0.914611</td>\n",
       "      <td>0.042040</td>\n",
       "      <td>0.043348</td>\n",
       "    </tr>\n",
       "    <tr>\n",
       "      <th>3</th>\n",
       "      <td>906118.0</td>\n",
       "      <td>41283.0</td>\n",
       "      <td>42599.0</td>\n",
       "      <td>0.915271</td>\n",
       "      <td>0.041700</td>\n",
       "      <td>0.043029</td>\n",
       "    </tr>\n",
       "    <tr>\n",
       "      <th>4</th>\n",
       "      <td>904785.0</td>\n",
       "      <td>42225.0</td>\n",
       "      <td>42990.0</td>\n",
       "      <td>0.913924</td>\n",
       "      <td>0.042652</td>\n",
       "      <td>0.043424</td>\n",
       "    </tr>\n",
       "    <tr>\n",
       "      <th>5</th>\n",
       "      <td>905254.0</td>\n",
       "      <td>42859.0</td>\n",
       "      <td>41887.0</td>\n",
       "      <td>0.914398</td>\n",
       "      <td>0.043292</td>\n",
       "      <td>0.042310</td>\n",
       "    </tr>\n",
       "    <tr>\n",
       "      <th>total</th>\n",
       "      <td>4526023.0</td>\n",
       "      <td>211034.0</td>\n",
       "      <td>212943.0</td>\n",
       "      <td>0.914348</td>\n",
       "      <td>0.042633</td>\n",
       "      <td>0.043019</td>\n",
       "    </tr>\n",
       "  </tbody>\n",
       "</table>\n",
       "</div>"
      ],
      "text/plain": [
       "       unaffected  cannibalized  boosted   unaffected%  cannibalized%  \\\n",
       "1       904401.0    43047.0       42552.0  0.913536     0.043482        \n",
       "2       905465.0    41620.0       42915.0  0.914611     0.042040        \n",
       "3       906118.0    41283.0       42599.0  0.915271     0.041700        \n",
       "4       904785.0    42225.0       42990.0  0.913924     0.042652        \n",
       "5       905254.0    42859.0       41887.0  0.914398     0.043292        \n",
       "total  4526023.0   211034.0      212943.0  0.914348     0.042633        \n",
       "\n",
       "       boosted%  \n",
       "1      0.042982  \n",
       "2      0.043348  \n",
       "3      0.043029  \n",
       "4      0.043424  \n",
       "5      0.042310  \n",
       "total  0.043019  "
      ]
     },
     "metadata": {},
     "output_type": "display_data"
    },
    {
     "name": "stdout",
     "output_type": "stream",
     "text": [
      "CPU times: user 2min 31s, sys: 0 ns, total: 2min 31s\n",
      "Wall time: 2min 31s\n"
     ]
    }
   ],
   "source": [
    "%%time\n",
    "num_experiments = 1000\n",
    "choices = [\"cannibalized\", \"boosted\", \"unaffected\"]\n",
    "prob_dist = [0.05, 0.05, 0.90]\n",
    "\n",
    "random_val_Kfold_report, random_test_Kfold_report, random_val_Kfold_preds_dist, random_test_Kfold_preds_dist = random_cross_validation(available_feat_videos, index_tuples,\n",
    "                                                                            prob_dist=prob_dist,\n",
    "                                                                            choices=choices,\n",
    "                                                                            num_experiments=num_experiments)\n",
    "\n",
    "proportion_string = '-'.join(f'{p:.0%}' for p in prob_dist)\n",
    "plot_Kfold_report(random_val_Kfold_report, title=f\"Random Guess on Val ({proportion_string})\")\n",
    "plot_Kfold_report(random_test_Kfold_report, title=f\"Random Guess on Test ({proportion_string})\")\n",
    "\n",
    "plot_Kfold_report(random_val_Kfold_preds_dist, title=f\"Prediction Distribution on Val ({proportion_string})\")\n",
    "plot_Kfold_report(random_test_Kfold_preds_dist, title=f\"Prediction Distribution on Test ({proportion_string})\")"
   ]
  },
  {
   "cell_type": "code",
   "execution_count": 68,
   "id": "768140de",
   "metadata": {},
   "outputs": [],
   "source": [
    "# = = = = = = Random Guess on Video Level = = = = = = #\n",
    "#  Not considered for comparability with other models #\n",
    "\n",
    "# %%time\n",
    "# choices = [\"cannibalized\", \"boosted\", \"unaffected\"]\n",
    "# prob_dist = [0.05, 0.05, 0.90]\n",
    "# true_labels = available_feat_videos[LABEL].reset_index(drop=True)\n",
    "# num_experiments = 1000\n",
    "\n",
    "# random_guess_reports = []\n",
    "# for _ in range(num_experiments):\n",
    "#     random_guesses = pd.Series(np.random.choice(choices, size=len(available_feat_videos), p=prob_dist))\n",
    "#     report = get_classification_report_dict(true_labels, random_guesses, show_report=False, show_confusion_matrix=False)\n",
    "#     random_guess_reports.append(report)\n",
    "    \n",
    "# random_guess_experiments_report = get_Kfold_report(random_guess_reports, fold_num=num_experiments)\n",
    "# plot_Kfold_report(random_guess_experiments_report, \"Random Guess (5%-5%-90%)\")"
   ]
  },
  {
   "cell_type": "code",
   "execution_count": null,
   "id": "4a540cbe",
   "metadata": {},
   "outputs": [],
   "source": []
  },
  {
   "cell_type": "code",
   "execution_count": null,
   "id": "8e0f4b85",
   "metadata": {},
   "outputs": [],
   "source": []
  },
  {
   "cell_type": "code",
   "execution_count": null,
   "id": "ed812277",
   "metadata": {},
   "outputs": [],
   "source": []
  },
  {
   "cell_type": "markdown",
   "id": "d719596f",
   "metadata": {},
   "source": [
    "# Prior Probablistic Model (PPM) - Baseline\n",
    "The general idea is that not all guests are equal in terms of their potential to cannibalize or boost others.<br>\n",
    "Therefore, for each guest, we can calculated the probability of them cannibalizing/boosting others in the training set. There would be highs and lows.<br>\n",
    "After normalization, the label with the highest normalized probability is assigned to that guest as its prediction."
   ]
  },
  {
   "cell_type": "code",
   "execution_count": 69,
   "id": "close-caribbean",
   "metadata": {
    "ExecuteTime": {
     "end_time": "2023-07-08T13:40:15.396296Z",
     "start_time": "2023-07-08T13:40:15.319071Z"
    },
    "code_folding": []
   },
   "outputs": [],
   "source": [
    "def get_class_Zscores(feat_train, feat_val, feat_test):\n",
    "    # Get predictions for training data\n",
    "    feat_train_Zscore_preds = (feat_train\n",
    "         .explode(\"guest_channel_id\")\n",
    "         .groupby(\"guest_channel_id\")\n",
    "         [LABEL].value_counts()\n",
    "         .unstack()\n",
    "         .fillna(0)\n",
    "         .apply(lambda column: \n",
    "                StandardScaler().fit_transform(column.values.reshape(-1, 1)).flatten()\n",
    "               )\n",
    "         .assign(prediction=lambda df: df.idxmax(axis=1))\n",
    "    )\n",
    "    # Predict unseen data as \"unaffected\"\n",
    "    feat_Zscore_preds = (pd.concat((feat_train_Zscore_preds.reset_index(),\n",
    "               feat_val.explode(\"guest_channel_id\").guest_channel_id.to_frame(),\n",
    "               feat_test.explode(\"guest_channel_id\").guest_channel_id.to_frame())\n",
    "             )\n",
    "         .drop_duplicates(subset=\"guest_channel_id\")\n",
    "         .assign(prediction=lambda df: df.prediction.fillna(\"unaffected\"))\n",
    "         .set_index(\"guest_channel_id\")\n",
    "         .rename_axis(LABEL, axis=1)\n",
    "    )\n",
    "    return feat_Zscore_preds"
   ]
  },
  {
   "cell_type": "code",
   "execution_count": 70,
   "id": "c576e3a1",
   "metadata": {},
   "outputs": [],
   "source": [
    "def prediction_pct_constrain(feat_Zscore_preds, minority_pct=0.1):\n",
    "    target_num = round(len(feat_Zscore_preds) * minority_pct)\n",
    "    cannibalized_index = feat_Zscore_preds.query(\"prediction == 'cannibalized'\").nlargest(target_num, \"cannibalized\").index\n",
    "    boosted_index = feat_Zscore_preds.query(\"prediction == 'boosted'\").nlargest(target_num, \"boosted\").index\n",
    "    feat_Zscore_preds.prediction = \"unaffected\"\n",
    "    feat_Zscore_preds.loc[cannibalized_index, \"prediction\"] = \"cannibalized\"\n",
    "    feat_Zscore_preds.loc[boosted_index, \"prediction\"] = \"boosted\"\n",
    "    return feat_Zscore_preds"
   ]
  },
  {
   "cell_type": "code",
   "execution_count": 71,
   "id": "flush-crash",
   "metadata": {
    "ExecuteTime": {
     "end_time": "2023-07-08T13:40:15.474158Z",
     "start_time": "2023-07-08T13:40:15.397447Z"
    },
    "code_folding": []
   },
   "outputs": [],
   "source": [
    "def baseline_make_predictions(feat_df, feat_Zscore_preds):\n",
    "    \"\"\"Get prediction candidates based on Z-scores for each channel; then, decide the final predictions\"\"\"\n",
    "    set_seed()\n",
    "    prediction_candidates_df = (feat_df\n",
    "        .explode(\"guest_channel_id\")\n",
    "        .merge(feat_Zscore_preds.prediction, on=\"guest_channel_id\", how=\"left\")\n",
    "        .groupby(\"video_id\")\n",
    "        [\"prediction\"]\n",
    "        .value_counts()\n",
    "        .unstack()\n",
    "        .assign(prediction_candidates=get_max_all_occurrences)\n",
    "        .assign(final_prediction=lambda df: df.prediction_candidates\n",
    "                .apply(lambda label_list: label_list[0] \n",
    "                       if len(label_list) == 1 \n",
    "                       else np.random.choice(label_list))) # random choice for ties\n",
    "    )\n",
    "    return prediction_candidates_df.final_prediction.sort_index()"
   ]
  },
  {
   "cell_type": "code",
   "execution_count": 72,
   "id": "18b0c081",
   "metadata": {},
   "outputs": [],
   "source": [
    "def baseline_cross_validation(available_feat_videos, index_tuples, pct_constrain=False, minority_pct=0.1):\n",
    "    feat_val_fold_reports = []\n",
    "    feat_test_fold_reports = []\n",
    "    feat_test_all_fold_preds = []\n",
    "    feat_val_Kfold_preds_dists = []\n",
    "    feat_test_Kfold_preds_dists = []\n",
    "    for index_tuple in index_tuples:\n",
    "        # Split on the stratified K-fold indices\n",
    "        feat_train, feat_val, feat_test = get_train_val_test(available_feat_videos.values, *index_tuple)\n",
    "        # Convert to Data Frame\n",
    "        feat_train = pd.DataFrame(feat_train, columns=available_feat_videos.columns, index=index_tuple[0]).rename_axis(LABEL, axis=1)\n",
    "        feat_val = pd.DataFrame(feat_val, columns=available_feat_videos.columns, index=index_tuple[1])\n",
    "        feat_test = pd.DataFrame(feat_test, columns=available_feat_videos.columns, index=index_tuple[2])\n",
    "        # Get Z-score for each class for each channel\n",
    "        feat_Zscore_preds = get_class_Zscores(feat_train, feat_val, feat_test)\n",
    "        # Postprocessing for feat_Zscore_preds\n",
    "        if pct_constrain:\n",
    "            feat_Zscore_preds = prediction_pct_constrain(feat_Zscore_preds, minority_pct=minority_pct)\n",
    "        # Make predictions for each channel based on Z-scores on val & test set\n",
    "        feat_val_fold_preds = baseline_make_predictions(feat_val, feat_Zscore_preds)\n",
    "        feat_test_fold_preds = baseline_make_predictions(feat_test, feat_Zscore_preds)\n",
    "        # Collect the prediction distributions\n",
    "        feat_val_fold_preds_dist = get_value_counts_with_percentage(feat_val_fold_preds.to_list())\n",
    "        feat_test_fold_preds_dist = get_value_counts_with_percentage(feat_test_fold_preds.to_list())\n",
    "        feat_val_Kfold_preds_dists.append(feat_val_fold_preds_dist)\n",
    "        feat_test_Kfold_preds_dists.append(feat_test_fold_preds_dist)\n",
    "        # Get classification report for val & test set\n",
    "        feat_val_fold_report = get_classification_report_dict(feat_val.set_index(\"video_id\")[LABEL].sort_index(), feat_val_fold_preds)\n",
    "        feat_test_fold_report = get_classification_report_dict(feat_test.set_index(\"video_id\")[LABEL].sort_index(), feat_test_fold_preds)\n",
    "        # Record the classification reports\n",
    "        feat_val_fold_reports.append(feat_val_fold_report)\n",
    "        feat_test_fold_reports.append(feat_test_fold_report)\n",
    "        # Record the test predictions\n",
    "        feat_test_all_fold_preds.append(feat_test_fold_preds)\n",
    "        \n",
    "    # Finalize Kfold prediction distibutions\n",
    "    feat_val_Kfold_preds_dists = pd.concat(feat_val_Kfold_preds_dists, axis=1).T\n",
    "    feat_test_Kfold_preds_dists = pd.concat(feat_test_Kfold_preds_dists, axis=1).T\n",
    "    feat_val_Kfold_preds_dists.index = range(1, len(index_tuples)+1)\n",
    "    feat_test_Kfold_preds_dists.index = range(1, len(index_tuples)+1)\n",
    "    \n",
    "    choices = [\"cannibalized\", \"boosted\", \"unaffected\"]\n",
    "    feat_val_Kfold_preds_dists.loc[\"total\", choices] = feat_val_Kfold_preds_dists[choices].sum(axis=0)\n",
    "    feat_test_Kfold_preds_dists.loc[\"total\", choices] = feat_test_Kfold_preds_dists[choices].sum(axis=0)\n",
    "    \n",
    "    choices_pct = [f\"{choice}%\" for choice in choices]\n",
    "    val_total_preds_dist = (feat_val_Kfold_preds_dists.loc[\"total\", choices] / feat_val_Kfold_preds_dists.loc[\"total\", choices].sum())\n",
    "    test_total_preds_dist = (feat_test_Kfold_preds_dists.loc[\"total\", choices] / feat_test_Kfold_preds_dists.loc[\"total\", choices].sum())\n",
    "    val_total_preds_dist.index = [f\"{idx}%\" for idx in val_total_preds_dist.index]\n",
    "    test_total_preds_dist.index = [f\"{idx}%\" for idx in test_total_preds_dist.index]\n",
    "    feat_val_Kfold_preds_dists.loc[\"total\", choices_pct] = val_total_preds_dist\n",
    "    feat_test_Kfold_preds_dists.loc[\"total\", choices_pct] = test_total_preds_dist\n",
    "        \n",
    "    return feat_val_fold_reports, feat_test_fold_reports, feat_test_all_fold_preds, feat_val_Kfold_preds_dists, feat_test_Kfold_preds_dists"
   ]
  },
  {
   "cell_type": "code",
   "execution_count": 73,
   "id": "b6290fe9",
   "metadata": {},
   "outputs": [],
   "source": [
    "def test_baseline_model_with_best_fold(baseline_val_Kfold_report, feat_test_all_fold_preds):\n",
    "    # Get the testing result with the best val macro f1-score\n",
    "    best_val_macro_f1_index = baseline_val_Kfold_report[\"macro avg\"][\"f1-score\"].idxmax() - 1\n",
    "    # Get best prediction\n",
    "    best_test_preds = feat_test_all_fold_preds[best_val_macro_f1_index]\n",
    "    # Get true values\n",
    "    _, _, feat_test = get_train_val_test(available_feat_videos.values, *index_tuples[0])\n",
    "    feat_test = pd.DataFrame(feat_test, columns=available_feat_videos.columns, index=index_tuples[0][2])\n",
    "    get_classification_report_dict(feat_test.set_index(\"video_id\")[LABEL].sort_index(),\n",
    "                                   best_test_preds,\n",
    "                                   show_report=True, show_confusion_matrix=True);"
   ]
  },
  {
   "cell_type": "code",
   "execution_count": 74,
   "id": "495286f7",
   "metadata": {},
   "outputs": [],
   "source": [
    "def check_fold_train_distribution(pct_constrain=False, minority_pct=0.1):\n",
    "    for index_tuple in index_tuples:\n",
    "        # Split on the stratified K-fold indices\n",
    "        feat_train, feat_val, feat_test = get_train_val_test(available_feat_videos.values, *index_tuple)\n",
    "        # Convert to Data Frame\n",
    "        feat_train = pd.DataFrame(feat_train, columns=available_feat_videos.columns, index=index_tuple[0]).rename_axis(LABEL, axis=1)\n",
    "        feat_val = pd.DataFrame(feat_val, columns=available_feat_videos.columns, index=index_tuple[1])\n",
    "        feat_test = pd.DataFrame(feat_test, columns=available_feat_videos.columns, index=index_tuple[2])\n",
    "        # Get Z-score for each class for each channel\n",
    "        feat_Zscore_preds = get_class_Zscores(feat_train, feat_val, feat_test)\n",
    "        # Postprocessing for feat_Zscore_preds\n",
    "        if pct_constrain:\n",
    "            feat_Zscore_preds = prediction_pct_constrain(feat_Zscore_preds, minority_pct=minority_pct)\n",
    "        display(feat_Zscore_preds.prediction.value_counts(dropna=False).sort_index())"
   ]
  },
  {
   "cell_type": "markdown",
   "id": "dried-yemen",
   "metadata": {},
   "source": [
    "## PPM"
   ]
  },
  {
   "cell_type": "code",
   "execution_count": 75,
   "id": "4a11dbac",
   "metadata": {},
   "outputs": [],
   "source": [
    "pct_constrain = False"
   ]
  },
  {
   "cell_type": "code",
   "execution_count": 76,
   "id": "discrete-print",
   "metadata": {
    "ExecuteTime": {
     "end_time": "2023-07-08T13:40:16.448247Z",
     "start_time": "2023-07-08T13:40:15.630110Z"
    }
   },
   "outputs": [],
   "source": [
    "feat_val_fold_reports, feat_test_fold_reports, feat_test_all_fold_preds, feat_val_Kfold_preds_dists, feat_test_Kfold_preds_dists = baseline_cross_validation(available_feat_videos,\n",
    "                                                                                                    index_tuples,\n",
    "                                                                                                    pct_constrain=pct_constrain)"
   ]
  },
  {
   "cell_type": "code",
   "execution_count": 77,
   "id": "353ab32c",
   "metadata": {
    "ExecuteTime": {
     "end_time": "2023-07-08T13:40:16.461179Z",
     "start_time": "2023-07-08T13:40:16.449579Z"
    }
   },
   "outputs": [
    {
     "data": {
      "text/html": [
       "<div style=\"background-color: lightblue; color: black; font-weight: bold; padding: 10px; display: inline-block;\">Validation (Each fold has different val data):</div>"
      ],
      "text/plain": [
       "<IPython.core.display.HTML object>"
      ]
     },
     "metadata": {},
     "output_type": "display_data"
    },
    {
     "data": {
      "text/html": [
       "<div>\n",
       "<style scoped>\n",
       "    .dataframe tbody tr th:only-of-type {\n",
       "        vertical-align: middle;\n",
       "    }\n",
       "\n",
       "    .dataframe tbody tr th {\n",
       "        vertical-align: top;\n",
       "    }\n",
       "\n",
       "    .dataframe thead tr th {\n",
       "        text-align: left;\n",
       "    }\n",
       "</style>\n",
       "<table border=\"1\" class=\"dataframe\">\n",
       "  <thead>\n",
       "    <tr>\n",
       "      <th></th>\n",
       "      <th colspan=\"3\" halign=\"left\">cannibalized</th>\n",
       "      <th colspan=\"3\" halign=\"left\">boosted</th>\n",
       "      <th colspan=\"3\" halign=\"left\">unaffected</th>\n",
       "      <th colspan=\"3\" halign=\"left\">macro avg</th>\n",
       "      <th colspan=\"3\" halign=\"left\">weighted avg</th>\n",
       "    </tr>\n",
       "    <tr>\n",
       "      <th></th>\n",
       "      <th>precision</th>\n",
       "      <th>recall</th>\n",
       "      <th>f1-score</th>\n",
       "      <th>precision</th>\n",
       "      <th>recall</th>\n",
       "      <th>f1-score</th>\n",
       "      <th>precision</th>\n",
       "      <th>recall</th>\n",
       "      <th>f1-score</th>\n",
       "      <th>precision</th>\n",
       "      <th>recall</th>\n",
       "      <th>f1-score</th>\n",
       "      <th>precision</th>\n",
       "      <th>recall</th>\n",
       "      <th>f1-score</th>\n",
       "    </tr>\n",
       "  </thead>\n",
       "  <tbody>\n",
       "    <tr>\n",
       "      <th>1</th>\n",
       "      <td>0.083077</td>\n",
       "      <td>0.317647</td>\n",
       "      <td>0.131707</td>\n",
       "      <td>0.093199</td>\n",
       "      <td>0.406593</td>\n",
       "      <td>0.151639</td>\n",
       "      <td>0.823741</td>\n",
       "      <td>0.277913</td>\n",
       "      <td>0.415608</td>\n",
       "      <td>0.333339</td>\n",
       "      <td>0.334051</td>\n",
       "      <td>0.232985</td>\n",
       "      <td>0.694305</td>\n",
       "      <td>0.2930</td>\n",
       "      <td>0.367455</td>\n",
       "    </tr>\n",
       "    <tr>\n",
       "      <th>2</th>\n",
       "      <td>0.094241</td>\n",
       "      <td>0.423529</td>\n",
       "      <td>0.154176</td>\n",
       "      <td>0.094340</td>\n",
       "      <td>0.384615</td>\n",
       "      <td>0.151515</td>\n",
       "      <td>0.842105</td>\n",
       "      <td>0.252427</td>\n",
       "      <td>0.388422</td>\n",
       "      <td>0.343562</td>\n",
       "      <td>0.353524</td>\n",
       "      <td>0.231371</td>\n",
       "      <td>0.710490</td>\n",
       "      <td>0.2790</td>\n",
       "      <td>0.346953</td>\n",
       "    </tr>\n",
       "    <tr>\n",
       "      <th>3</th>\n",
       "      <td>0.094851</td>\n",
       "      <td>0.411765</td>\n",
       "      <td>0.154185</td>\n",
       "      <td>0.124601</td>\n",
       "      <td>0.428571</td>\n",
       "      <td>0.193069</td>\n",
       "      <td>0.849057</td>\n",
       "      <td>0.327670</td>\n",
       "      <td>0.472855</td>\n",
       "      <td>0.356169</td>\n",
       "      <td>0.389335</td>\n",
       "      <td>0.273370</td>\n",
       "      <td>0.719024</td>\n",
       "      <td>0.3440</td>\n",
       "      <td>0.420307</td>\n",
       "    </tr>\n",
       "    <tr>\n",
       "      <th>4</th>\n",
       "      <td>0.137124</td>\n",
       "      <td>0.482353</td>\n",
       "      <td>0.213542</td>\n",
       "      <td>0.098266</td>\n",
       "      <td>0.373626</td>\n",
       "      <td>0.155606</td>\n",
       "      <td>0.867606</td>\n",
       "      <td>0.373786</td>\n",
       "      <td>0.522477</td>\n",
       "      <td>0.367665</td>\n",
       "      <td>0.409922</td>\n",
       "      <td>0.297208</td>\n",
       "      <td>0.735505</td>\n",
       "      <td>0.3830</td>\n",
       "      <td>0.462832</td>\n",
       "    </tr>\n",
       "    <tr>\n",
       "      <th>5</th>\n",
       "      <td>0.110818</td>\n",
       "      <td>0.494118</td>\n",
       "      <td>0.181034</td>\n",
       "      <td>0.114007</td>\n",
       "      <td>0.384615</td>\n",
       "      <td>0.175879</td>\n",
       "      <td>0.831210</td>\n",
       "      <td>0.316748</td>\n",
       "      <td>0.458699</td>\n",
       "      <td>0.352012</td>\n",
       "      <td>0.398494</td>\n",
       "      <td>0.271871</td>\n",
       "      <td>0.704711</td>\n",
       "      <td>0.3380</td>\n",
       "      <td>0.409361</td>\n",
       "    </tr>\n",
       "    <tr>\n",
       "      <th>avg</th>\n",
       "      <td>0.104022</td>\n",
       "      <td>0.425882</td>\n",
       "      <td>0.166929</td>\n",
       "      <td>0.104882</td>\n",
       "      <td>0.395604</td>\n",
       "      <td>0.165542</td>\n",
       "      <td>0.842744</td>\n",
       "      <td>0.309709</td>\n",
       "      <td>0.451612</td>\n",
       "      <td>0.350549</td>\n",
       "      <td>0.377065</td>\n",
       "      <td>0.261361</td>\n",
       "      <td>0.712807</td>\n",
       "      <td>0.3274</td>\n",
       "      <td>0.401382</td>\n",
       "    </tr>\n",
       "  </tbody>\n",
       "</table>\n",
       "</div>"
      ],
      "text/plain": [
       "    cannibalized                     boosted                       unaffected  \\\n",
       "    precision    recall    f1-score  precision recall    f1-score  precision    \n",
       "1    0.083077     0.317647  0.131707  0.093199  0.406593  0.151639  0.823741    \n",
       "2    0.094241     0.423529  0.154176  0.094340  0.384615  0.151515  0.842105    \n",
       "3    0.094851     0.411765  0.154185  0.124601  0.428571  0.193069  0.849057    \n",
       "4    0.137124     0.482353  0.213542  0.098266  0.373626  0.155606  0.867606    \n",
       "5    0.110818     0.494118  0.181034  0.114007  0.384615  0.175879  0.831210    \n",
       "avg  0.104022     0.425882  0.166929  0.104882  0.395604  0.165542  0.842744    \n",
       "\n",
       "                        macro avg                     weighted avg          \\\n",
       "    recall    f1-score  precision recall    f1-score  precision    recall    \n",
       "1    0.277913  0.415608  0.333339  0.334051  0.232985  0.694305     0.2930   \n",
       "2    0.252427  0.388422  0.343562  0.353524  0.231371  0.710490     0.2790   \n",
       "3    0.327670  0.472855  0.356169  0.389335  0.273370  0.719024     0.3440   \n",
       "4    0.373786  0.522477  0.367665  0.409922  0.297208  0.735505     0.3830   \n",
       "5    0.316748  0.458699  0.352012  0.398494  0.271871  0.704711     0.3380   \n",
       "avg  0.309709  0.451612  0.350549  0.377065  0.261361  0.712807     0.3274   \n",
       "\n",
       "               \n",
       "    f1-score   \n",
       "1    0.367455  \n",
       "2    0.346953  \n",
       "3    0.420307  \n",
       "4    0.462832  \n",
       "5    0.409361  \n",
       "avg  0.401382  "
      ]
     },
     "metadata": {},
     "output_type": "display_data"
    },
    {
     "data": {
      "text/html": [
       "<div style=\"background-color: lightblue; color: black; font-weight: bold; padding: 10px; display: inline-block;\">Testing (Each fold has the same test data):</div>"
      ],
      "text/plain": [
       "<IPython.core.display.HTML object>"
      ]
     },
     "metadata": {},
     "output_type": "display_data"
    },
    {
     "data": {
      "text/html": [
       "<div>\n",
       "<style scoped>\n",
       "    .dataframe tbody tr th:only-of-type {\n",
       "        vertical-align: middle;\n",
       "    }\n",
       "\n",
       "    .dataframe tbody tr th {\n",
       "        vertical-align: top;\n",
       "    }\n",
       "\n",
       "    .dataframe thead tr th {\n",
       "        text-align: left;\n",
       "    }\n",
       "</style>\n",
       "<table border=\"1\" class=\"dataframe\">\n",
       "  <thead>\n",
       "    <tr>\n",
       "      <th></th>\n",
       "      <th colspan=\"3\" halign=\"left\">cannibalized</th>\n",
       "      <th colspan=\"3\" halign=\"left\">boosted</th>\n",
       "      <th colspan=\"3\" halign=\"left\">unaffected</th>\n",
       "      <th colspan=\"3\" halign=\"left\">macro avg</th>\n",
       "      <th colspan=\"3\" halign=\"left\">weighted avg</th>\n",
       "    </tr>\n",
       "    <tr>\n",
       "      <th></th>\n",
       "      <th>precision</th>\n",
       "      <th>recall</th>\n",
       "      <th>f1-score</th>\n",
       "      <th>precision</th>\n",
       "      <th>recall</th>\n",
       "      <th>f1-score</th>\n",
       "      <th>precision</th>\n",
       "      <th>recall</th>\n",
       "      <th>f1-score</th>\n",
       "      <th>precision</th>\n",
       "      <th>recall</th>\n",
       "      <th>f1-score</th>\n",
       "      <th>precision</th>\n",
       "      <th>recall</th>\n",
       "      <th>f1-score</th>\n",
       "    </tr>\n",
       "  </thead>\n",
       "  <tbody>\n",
       "    <tr>\n",
       "      <th>1</th>\n",
       "      <td>0.088146</td>\n",
       "      <td>0.345238</td>\n",
       "      <td>0.140436</td>\n",
       "      <td>0.105943</td>\n",
       "      <td>0.455556</td>\n",
       "      <td>0.171908</td>\n",
       "      <td>0.879562</td>\n",
       "      <td>0.295343</td>\n",
       "      <td>0.442202</td>\n",
       "      <td>0.357884</td>\n",
       "      <td>0.365379</td>\n",
       "      <td>0.251515</td>\n",
       "      <td>0.742083</td>\n",
       "      <td>0.314141</td>\n",
       "      <td>0.392025</td>\n",
       "    </tr>\n",
       "    <tr>\n",
       "      <th>2</th>\n",
       "      <td>0.090164</td>\n",
       "      <td>0.392857</td>\n",
       "      <td>0.146667</td>\n",
       "      <td>0.124277</td>\n",
       "      <td>0.477778</td>\n",
       "      <td>0.197248</td>\n",
       "      <td>0.859712</td>\n",
       "      <td>0.292892</td>\n",
       "      <td>0.436929</td>\n",
       "      <td>0.358051</td>\n",
       "      <td>0.387842</td>\n",
       "      <td>0.260281</td>\n",
       "      <td>0.727560</td>\n",
       "      <td>0.318182</td>\n",
       "      <td>0.390511</td>\n",
       "    </tr>\n",
       "    <tr>\n",
       "      <th>3</th>\n",
       "      <td>0.101695</td>\n",
       "      <td>0.428571</td>\n",
       "      <td>0.164384</td>\n",
       "      <td>0.132203</td>\n",
       "      <td>0.433333</td>\n",
       "      <td>0.202597</td>\n",
       "      <td>0.882698</td>\n",
       "      <td>0.368873</td>\n",
       "      <td>0.520311</td>\n",
       "      <td>0.372199</td>\n",
       "      <td>0.410259</td>\n",
       "      <td>0.295764</td>\n",
       "      <td>0.748204</td>\n",
       "      <td>0.379798</td>\n",
       "      <td>0.461228</td>\n",
       "    </tr>\n",
       "    <tr>\n",
       "      <th>4</th>\n",
       "      <td>0.100000</td>\n",
       "      <td>0.357143</td>\n",
       "      <td>0.156250</td>\n",
       "      <td>0.125749</td>\n",
       "      <td>0.466667</td>\n",
       "      <td>0.198113</td>\n",
       "      <td>0.873596</td>\n",
       "      <td>0.381127</td>\n",
       "      <td>0.530717</td>\n",
       "      <td>0.366448</td>\n",
       "      <td>0.401646</td>\n",
       "      <td>0.295027</td>\n",
       "      <td>0.739971</td>\n",
       "      <td>0.386869</td>\n",
       "      <td>0.468707</td>\n",
       "    </tr>\n",
       "    <tr>\n",
       "      <th>5</th>\n",
       "      <td>0.098667</td>\n",
       "      <td>0.440476</td>\n",
       "      <td>0.161220</td>\n",
       "      <td>0.130872</td>\n",
       "      <td>0.433333</td>\n",
       "      <td>0.201031</td>\n",
       "      <td>0.864353</td>\n",
       "      <td>0.335784</td>\n",
       "      <td>0.483672</td>\n",
       "      <td>0.364631</td>\n",
       "      <td>0.403198</td>\n",
       "      <td>0.281974</td>\n",
       "      <td>0.732706</td>\n",
       "      <td>0.353535</td>\n",
       "      <td>0.430618</td>\n",
       "    </tr>\n",
       "    <tr>\n",
       "      <th>avg</th>\n",
       "      <td>0.095734</td>\n",
       "      <td>0.392857</td>\n",
       "      <td>0.153791</td>\n",
       "      <td>0.123809</td>\n",
       "      <td>0.453333</td>\n",
       "      <td>0.194179</td>\n",
       "      <td>0.871984</td>\n",
       "      <td>0.334804</td>\n",
       "      <td>0.482766</td>\n",
       "      <td>0.363842</td>\n",
       "      <td>0.393665</td>\n",
       "      <td>0.276912</td>\n",
       "      <td>0.738105</td>\n",
       "      <td>0.350505</td>\n",
       "      <td>0.428618</td>\n",
       "    </tr>\n",
       "  </tbody>\n",
       "</table>\n",
       "</div>"
      ],
      "text/plain": [
       "    cannibalized                     boosted                       unaffected  \\\n",
       "    precision    recall    f1-score  precision recall    f1-score  precision    \n",
       "1    0.088146     0.345238  0.140436  0.105943  0.455556  0.171908  0.879562    \n",
       "2    0.090164     0.392857  0.146667  0.124277  0.477778  0.197248  0.859712    \n",
       "3    0.101695     0.428571  0.164384  0.132203  0.433333  0.202597  0.882698    \n",
       "4    0.100000     0.357143  0.156250  0.125749  0.466667  0.198113  0.873596    \n",
       "5    0.098667     0.440476  0.161220  0.130872  0.433333  0.201031  0.864353    \n",
       "avg  0.095734     0.392857  0.153791  0.123809  0.453333  0.194179  0.871984    \n",
       "\n",
       "                        macro avg                     weighted avg            \\\n",
       "    recall    f1-score  precision recall    f1-score  precision    recall      \n",
       "1    0.295343  0.442202  0.357884  0.365379  0.251515  0.742083     0.314141   \n",
       "2    0.292892  0.436929  0.358051  0.387842  0.260281  0.727560     0.318182   \n",
       "3    0.368873  0.520311  0.372199  0.410259  0.295764  0.748204     0.379798   \n",
       "4    0.381127  0.530717  0.366448  0.401646  0.295027  0.739971     0.386869   \n",
       "5    0.335784  0.483672  0.364631  0.403198  0.281974  0.732706     0.353535   \n",
       "avg  0.334804  0.482766  0.363842  0.393665  0.276912  0.738105     0.350505   \n",
       "\n",
       "               \n",
       "    f1-score   \n",
       "1    0.392025  \n",
       "2    0.390511  \n",
       "3    0.461228  \n",
       "4    0.468707  \n",
       "5    0.430618  \n",
       "avg  0.428618  "
      ]
     },
     "metadata": {},
     "output_type": "display_data"
    },
    {
     "data": {
      "text/html": [
       "<div style=\"background-color: yellow; color: black; font-weight: bold; padding: 10px; display: inline-block;\">Prediction Distribution on Val (Baseline: constraint=False)</div>"
      ],
      "text/plain": [
       "<IPython.core.display.HTML object>"
      ]
     },
     "metadata": {},
     "output_type": "display_data"
    },
    {
     "data": {
      "text/html": [
       "<div>\n",
       "<style scoped>\n",
       "    .dataframe tbody tr th:only-of-type {\n",
       "        vertical-align: middle;\n",
       "    }\n",
       "\n",
       "    .dataframe tbody tr th {\n",
       "        vertical-align: top;\n",
       "    }\n",
       "\n",
       "    .dataframe thead th {\n",
       "        text-align: right;\n",
       "    }\n",
       "</style>\n",
       "<table border=\"1\" class=\"dataframe\">\n",
       "  <thead>\n",
       "    <tr style=\"text-align: left;\">\n",
       "      <th></th>\n",
       "      <th>boosted</th>\n",
       "      <th>cannibalized</th>\n",
       "      <th>unaffected</th>\n",
       "      <th>boosted%</th>\n",
       "      <th>cannibalized%</th>\n",
       "      <th>unaffected%</th>\n",
       "    </tr>\n",
       "  </thead>\n",
       "  <tbody>\n",
       "    <tr>\n",
       "      <th>1</th>\n",
       "      <td>397.0</td>\n",
       "      <td>325.0</td>\n",
       "      <td>278.0</td>\n",
       "      <td>0.3970</td>\n",
       "      <td>0.3250</td>\n",
       "      <td>0.2780</td>\n",
       "    </tr>\n",
       "    <tr>\n",
       "      <th>2</th>\n",
       "      <td>371.0</td>\n",
       "      <td>382.0</td>\n",
       "      <td>247.0</td>\n",
       "      <td>0.3710</td>\n",
       "      <td>0.3820</td>\n",
       "      <td>0.2470</td>\n",
       "    </tr>\n",
       "    <tr>\n",
       "      <th>3</th>\n",
       "      <td>313.0</td>\n",
       "      <td>369.0</td>\n",
       "      <td>318.0</td>\n",
       "      <td>0.3130</td>\n",
       "      <td>0.3690</td>\n",
       "      <td>0.3180</td>\n",
       "    </tr>\n",
       "    <tr>\n",
       "      <th>4</th>\n",
       "      <td>346.0</td>\n",
       "      <td>299.0</td>\n",
       "      <td>355.0</td>\n",
       "      <td>0.3460</td>\n",
       "      <td>0.2990</td>\n",
       "      <td>0.3550</td>\n",
       "    </tr>\n",
       "    <tr>\n",
       "      <th>5</th>\n",
       "      <td>307.0</td>\n",
       "      <td>379.0</td>\n",
       "      <td>314.0</td>\n",
       "      <td>0.3070</td>\n",
       "      <td>0.3790</td>\n",
       "      <td>0.3140</td>\n",
       "    </tr>\n",
       "    <tr>\n",
       "      <th>total</th>\n",
       "      <td>1734.0</td>\n",
       "      <td>1754.0</td>\n",
       "      <td>1512.0</td>\n",
       "      <td>0.3468</td>\n",
       "      <td>0.3508</td>\n",
       "      <td>0.3024</td>\n",
       "    </tr>\n",
       "  </tbody>\n",
       "</table>\n",
       "</div>"
      ],
      "text/plain": [
       "       boosted  cannibalized  unaffected  boosted%  cannibalized%  unaffected%\n",
       "1       397.0    325.0         278.0      0.3970    0.3250         0.2780     \n",
       "2       371.0    382.0         247.0      0.3710    0.3820         0.2470     \n",
       "3       313.0    369.0         318.0      0.3130    0.3690         0.3180     \n",
       "4       346.0    299.0         355.0      0.3460    0.2990         0.3550     \n",
       "5       307.0    379.0         314.0      0.3070    0.3790         0.3140     \n",
       "total  1734.0   1754.0        1512.0      0.3468    0.3508         0.3024     "
      ]
     },
     "metadata": {},
     "output_type": "display_data"
    },
    {
     "data": {
      "text/html": [
       "<div style=\"background-color: yellow; color: black; font-weight: bold; padding: 10px; display: inline-block;\">Prediction Distribution on Test (Baseline: constraint=False)</div>"
      ],
      "text/plain": [
       "<IPython.core.display.HTML object>"
      ]
     },
     "metadata": {},
     "output_type": "display_data"
    },
    {
     "data": {
      "text/html": [
       "<div>\n",
       "<style scoped>\n",
       "    .dataframe tbody tr th:only-of-type {\n",
       "        vertical-align: middle;\n",
       "    }\n",
       "\n",
       "    .dataframe tbody tr th {\n",
       "        vertical-align: top;\n",
       "    }\n",
       "\n",
       "    .dataframe thead th {\n",
       "        text-align: right;\n",
       "    }\n",
       "</style>\n",
       "<table border=\"1\" class=\"dataframe\">\n",
       "  <thead>\n",
       "    <tr style=\"text-align: left;\">\n",
       "      <th></th>\n",
       "      <th>boosted</th>\n",
       "      <th>cannibalized</th>\n",
       "      <th>unaffected</th>\n",
       "      <th>boosted%</th>\n",
       "      <th>cannibalized%</th>\n",
       "      <th>unaffected%</th>\n",
       "    </tr>\n",
       "  </thead>\n",
       "  <tbody>\n",
       "    <tr>\n",
       "      <th>1</th>\n",
       "      <td>387.0</td>\n",
       "      <td>329.0</td>\n",
       "      <td>274.0</td>\n",
       "      <td>0.390909</td>\n",
       "      <td>0.332323</td>\n",
       "      <td>0.276768</td>\n",
       "    </tr>\n",
       "    <tr>\n",
       "      <th>2</th>\n",
       "      <td>346.0</td>\n",
       "      <td>366.0</td>\n",
       "      <td>278.0</td>\n",
       "      <td>0.349495</td>\n",
       "      <td>0.369697</td>\n",
       "      <td>0.280808</td>\n",
       "    </tr>\n",
       "    <tr>\n",
       "      <th>3</th>\n",
       "      <td>295.0</td>\n",
       "      <td>354.0</td>\n",
       "      <td>341.0</td>\n",
       "      <td>0.297980</td>\n",
       "      <td>0.357576</td>\n",
       "      <td>0.344444</td>\n",
       "    </tr>\n",
       "    <tr>\n",
       "      <th>4</th>\n",
       "      <td>334.0</td>\n",
       "      <td>300.0</td>\n",
       "      <td>356.0</td>\n",
       "      <td>0.337374</td>\n",
       "      <td>0.303030</td>\n",
       "      <td>0.359596</td>\n",
       "    </tr>\n",
       "    <tr>\n",
       "      <th>5</th>\n",
       "      <td>298.0</td>\n",
       "      <td>375.0</td>\n",
       "      <td>317.0</td>\n",
       "      <td>0.301010</td>\n",
       "      <td>0.378788</td>\n",
       "      <td>0.320202</td>\n",
       "    </tr>\n",
       "    <tr>\n",
       "      <th>total</th>\n",
       "      <td>1660.0</td>\n",
       "      <td>1724.0</td>\n",
       "      <td>1566.0</td>\n",
       "      <td>0.335354</td>\n",
       "      <td>0.348283</td>\n",
       "      <td>0.316364</td>\n",
       "    </tr>\n",
       "  </tbody>\n",
       "</table>\n",
       "</div>"
      ],
      "text/plain": [
       "       boosted  cannibalized  unaffected  boosted%  cannibalized%  unaffected%\n",
       "1       387.0    329.0         274.0      0.390909  0.332323       0.276768   \n",
       "2       346.0    366.0         278.0      0.349495  0.369697       0.280808   \n",
       "3       295.0    354.0         341.0      0.297980  0.357576       0.344444   \n",
       "4       334.0    300.0         356.0      0.337374  0.303030       0.359596   \n",
       "5       298.0    375.0         317.0      0.301010  0.378788       0.320202   \n",
       "total  1660.0   1724.0        1566.0      0.335354  0.348283       0.316364   "
      ]
     },
     "metadata": {},
     "output_type": "display_data"
    }
   ],
   "source": [
    "baseline_val_Kfold_report = get_Kfold_report(feat_val_fold_reports)\n",
    "baseline_test_Kfold_report = get_Kfold_report(feat_test_fold_reports)\n",
    "plot_Kfold_report(baseline_val_Kfold_report, \"Validation (Each fold has different val data):\")\n",
    "plot_Kfold_report(baseline_test_Kfold_report, \"Testing (Each fold has the same test data):\") # The difference arises from the different slices of training data given to the \"model\"\n",
    "\n",
    "plot_Kfold_report(feat_val_Kfold_preds_dists, f\"Prediction Distribution on Val (Baseline: constraint={pct_constrain})\", background_color=\"yellow\", bold=True)\n",
    "plot_Kfold_report(feat_test_Kfold_preds_dists, f\"Prediction Distribution on Test (Baseline: constraint={pct_constrain})\", background_color=\"yellow\", bold=True)"
   ]
  },
  {
   "cell_type": "code",
   "execution_count": 78,
   "id": "acting-convert",
   "metadata": {
    "ExecuteTime": {
     "end_time": "2023-07-08T13:40:16.461179Z",
     "start_time": "2023-07-08T13:40:16.449579Z"
    }
   },
   "outputs": [
    {
     "name": "stdout",
     "output_type": "stream",
     "text": [
      "              precision    recall  f1-score   support\n",
      "\n",
      "     boosted       0.13      0.47      0.20        90\n",
      "cannibalized       0.10      0.36      0.16        84\n",
      "  unaffected       0.87      0.38      0.53       816\n",
      "\n",
      "    accuracy                           0.39       990\n",
      "   macro avg       0.37      0.40      0.30       990\n",
      "weighted avg       0.74      0.39      0.47       990\n",
      "\n"
     ]
    },
    {
     "data": {
      "image/png": "[encoded data removed]",
      "text/plain": [
       "<Figure size 2400x1200 with 4 Axes>"
      ]
     },
     "metadata": {},
     "output_type": "display_data"
    }
   ],
   "source": [
    "test_baseline_model_with_best_fold(baseline_val_Kfold_report, feat_test_all_fold_preds)"
   ]
  },
  {
   "cell_type": "code",
   "execution_count": 79,
   "id": "1a13764f",
   "metadata": {},
   "outputs": [
    {
     "data": {
      "text/plain": [
       "boosted         58\n",
       "cannibalized    46\n",
       "unaffected      54\n",
       "Name: prediction, dtype: int64"
      ]
     },
     "metadata": {},
     "output_type": "display_data"
    },
    {
     "data": {
      "text/plain": [
       "boosted         56\n",
       "cannibalized    52\n",
       "unaffected      50\n",
       "Name: prediction, dtype: int64"
      ]
     },
     "metadata": {},
     "output_type": "display_data"
    },
    {
     "data": {
      "text/plain": [
       "boosted         47\n",
       "cannibalized    55\n",
       "unaffected      56\n",
       "Name: prediction, dtype: int64"
      ]
     },
     "metadata": {},
     "output_type": "display_data"
    },
    {
     "data": {
      "text/plain": [
       "boosted         52\n",
       "cannibalized    50\n",
       "unaffected      56\n",
       "Name: prediction, dtype: int64"
      ]
     },
     "metadata": {},
     "output_type": "display_data"
    },
    {
     "data": {
      "text/plain": [
       "boosted         52\n",
       "cannibalized    53\n",
       "unaffected      53\n",
       "Name: prediction, dtype: int64"
      ]
     },
     "metadata": {},
     "output_type": "display_data"
    }
   ],
   "source": [
    "check_fold_train_distribution(pct_constrain=pct_constrain)"
   ]
  },
  {
   "cell_type": "code",
   "execution_count": null,
   "id": "d0a68c24",
   "metadata": {},
   "outputs": [],
   "source": []
  },
  {
   "cell_type": "markdown",
   "id": "131fccd2",
   "metadata": {},
   "source": [
    "# Constrained Prior Probabilistic Model (CPPM)\n",
    "The idea is the same to PPM except that we impose a constraint to the distribution of the labels.<br>\n",
    "Specifically, it constrains the percentage of “cannibalizing” and “boosting” channels to a small fixed pre-determined proportion, __alpha__.<br>\n",
    "For example, we can constrain __alpha__ to 0.1 or 0.05.\n",
    "\n",
    "## CPPM (10%-10%-80%)"
   ]
  },
  {
   "cell_type": "code",
   "execution_count": 80,
   "id": "446d3ef9",
   "metadata": {},
   "outputs": [],
   "source": [
    "pct_constrain = True"
   ]
  },
  {
   "cell_type": "code",
   "execution_count": 82,
   "id": "6c717f2b",
   "metadata": {},
   "outputs": [],
   "source": [
    "feat_val_fold_reports, feat_test_fold_reports, feat_test_all_fold_preds, feat_val_Kfold_preds_dists, feat_test_Kfold_preds_dists = baseline_cross_validation(available_feat_videos,\n",
    "                                                                                                    index_tuples,\n",
    "                                                                                                    pct_constrain=pct_constrain)"
   ]
  },
  {
   "cell_type": "code",
   "execution_count": 83,
   "id": "8e1d0781",
   "metadata": {},
   "outputs": [
    {
     "data": {
      "text/html": [
       "<div style=\"background-color: lightblue; color: black; font-weight: bold; padding: 10px; display: inline-block;\">Validation (Each fold has different val data):</div>"
      ],
      "text/plain": [
       "<IPython.core.display.HTML object>"
      ]
     },
     "metadata": {},
     "output_type": "display_data"
    },
    {
     "data": {
      "text/html": [
       "<div>\n",
       "<style scoped>\n",
       "    .dataframe tbody tr th:only-of-type {\n",
       "        vertical-align: middle;\n",
       "    }\n",
       "\n",
       "    .dataframe tbody tr th {\n",
       "        vertical-align: top;\n",
       "    }\n",
       "\n",
       "    .dataframe thead tr th {\n",
       "        text-align: left;\n",
       "    }\n",
       "</style>\n",
       "<table border=\"1\" class=\"dataframe\">\n",
       "  <thead>\n",
       "    <tr>\n",
       "      <th></th>\n",
       "      <th colspan=\"3\" halign=\"left\">cannibalized</th>\n",
       "      <th colspan=\"3\" halign=\"left\">boosted</th>\n",
       "      <th colspan=\"3\" halign=\"left\">unaffected</th>\n",
       "      <th colspan=\"3\" halign=\"left\">macro avg</th>\n",
       "      <th colspan=\"3\" halign=\"left\">weighted avg</th>\n",
       "    </tr>\n",
       "    <tr>\n",
       "      <th></th>\n",
       "      <th>precision</th>\n",
       "      <th>recall</th>\n",
       "      <th>f1-score</th>\n",
       "      <th>precision</th>\n",
       "      <th>recall</th>\n",
       "      <th>f1-score</th>\n",
       "      <th>precision</th>\n",
       "      <th>recall</th>\n",
       "      <th>f1-score</th>\n",
       "      <th>precision</th>\n",
       "      <th>recall</th>\n",
       "      <th>f1-score</th>\n",
       "      <th>precision</th>\n",
       "      <th>recall</th>\n",
       "      <th>f1-score</th>\n",
       "    </tr>\n",
       "  </thead>\n",
       "  <tbody>\n",
       "    <tr>\n",
       "      <th>1</th>\n",
       "      <td>0.120253</td>\n",
       "      <td>0.223529</td>\n",
       "      <td>0.156379</td>\n",
       "      <td>0.065844</td>\n",
       "      <td>0.175824</td>\n",
       "      <td>0.095808</td>\n",
       "      <td>0.811352</td>\n",
       "      <td>0.589806</td>\n",
       "      <td>0.683064</td>\n",
       "      <td>0.332483</td>\n",
       "      <td>0.329720</td>\n",
       "      <td>0.311750</td>\n",
       "      <td>0.684768</td>\n",
       "      <td>0.5210</td>\n",
       "      <td>0.584855</td>\n",
       "    </tr>\n",
       "    <tr>\n",
       "      <th>2</th>\n",
       "      <td>0.089286</td>\n",
       "      <td>0.235294</td>\n",
       "      <td>0.129450</td>\n",
       "      <td>0.088710</td>\n",
       "      <td>0.241758</td>\n",
       "      <td>0.129794</td>\n",
       "      <td>0.829545</td>\n",
       "      <td>0.531553</td>\n",
       "      <td>0.647929</td>\n",
       "      <td>0.335847</td>\n",
       "      <td>0.336202</td>\n",
       "      <td>0.302391</td>\n",
       "      <td>0.699207</td>\n",
       "      <td>0.4800</td>\n",
       "      <td>0.556708</td>\n",
       "    </tr>\n",
       "    <tr>\n",
       "      <th>3</th>\n",
       "      <td>0.107784</td>\n",
       "      <td>0.211765</td>\n",
       "      <td>0.142857</td>\n",
       "      <td>0.127854</td>\n",
       "      <td>0.307692</td>\n",
       "      <td>0.180645</td>\n",
       "      <td>0.828990</td>\n",
       "      <td>0.617718</td>\n",
       "      <td>0.707928</td>\n",
       "      <td>0.354876</td>\n",
       "      <td>0.379058</td>\n",
       "      <td>0.343810</td>\n",
       "      <td>0.703884</td>\n",
       "      <td>0.5550</td>\n",
       "      <td>0.611914</td>\n",
       "    </tr>\n",
       "    <tr>\n",
       "      <th>4</th>\n",
       "      <td>0.096552</td>\n",
       "      <td>0.164706</td>\n",
       "      <td>0.121739</td>\n",
       "      <td>0.097872</td>\n",
       "      <td>0.252747</td>\n",
       "      <td>0.141104</td>\n",
       "      <td>0.820968</td>\n",
       "      <td>0.617718</td>\n",
       "      <td>0.704986</td>\n",
       "      <td>0.338464</td>\n",
       "      <td>0.345057</td>\n",
       "      <td>0.322610</td>\n",
       "      <td>0.693591</td>\n",
       "      <td>0.5460</td>\n",
       "      <td>0.604097</td>\n",
       "    </tr>\n",
       "    <tr>\n",
       "      <th>5</th>\n",
       "      <td>0.110526</td>\n",
       "      <td>0.247059</td>\n",
       "      <td>0.152727</td>\n",
       "      <td>0.106383</td>\n",
       "      <td>0.219780</td>\n",
       "      <td>0.143369</td>\n",
       "      <td>0.819936</td>\n",
       "      <td>0.618932</td>\n",
       "      <td>0.705394</td>\n",
       "      <td>0.345615</td>\n",
       "      <td>0.361924</td>\n",
       "      <td>0.333830</td>\n",
       "      <td>0.694703</td>\n",
       "      <td>0.5510</td>\n",
       "      <td>0.607273</td>\n",
       "    </tr>\n",
       "    <tr>\n",
       "      <th>avg</th>\n",
       "      <td>0.104880</td>\n",
       "      <td>0.216471</td>\n",
       "      <td>0.140630</td>\n",
       "      <td>0.097332</td>\n",
       "      <td>0.239560</td>\n",
       "      <td>0.138144</td>\n",
       "      <td>0.822158</td>\n",
       "      <td>0.595146</td>\n",
       "      <td>0.689860</td>\n",
       "      <td>0.341457</td>\n",
       "      <td>0.350392</td>\n",
       "      <td>0.322878</td>\n",
       "      <td>0.695230</td>\n",
       "      <td>0.5306</td>\n",
       "      <td>0.592969</td>\n",
       "    </tr>\n",
       "  </tbody>\n",
       "</table>\n",
       "</div>"
      ],
      "text/plain": [
       "    cannibalized                     boosted                       unaffected  \\\n",
       "    precision    recall    f1-score  precision recall    f1-score  precision    \n",
       "1    0.120253     0.223529  0.156379  0.065844  0.175824  0.095808  0.811352    \n",
       "2    0.089286     0.235294  0.129450  0.088710  0.241758  0.129794  0.829545    \n",
       "3    0.107784     0.211765  0.142857  0.127854  0.307692  0.180645  0.828990    \n",
       "4    0.096552     0.164706  0.121739  0.097872  0.252747  0.141104  0.820968    \n",
       "5    0.110526     0.247059  0.152727  0.106383  0.219780  0.143369  0.819936    \n",
       "avg  0.104880     0.216471  0.140630  0.097332  0.239560  0.138144  0.822158    \n",
       "\n",
       "                        macro avg                     weighted avg          \\\n",
       "    recall    f1-score  precision recall    f1-score  precision    recall    \n",
       "1    0.589806  0.683064  0.332483  0.329720  0.311750  0.684768     0.5210   \n",
       "2    0.531553  0.647929  0.335847  0.336202  0.302391  0.699207     0.4800   \n",
       "3    0.617718  0.707928  0.354876  0.379058  0.343810  0.703884     0.5550   \n",
       "4    0.617718  0.704986  0.338464  0.345057  0.322610  0.693591     0.5460   \n",
       "5    0.618932  0.705394  0.345615  0.361924  0.333830  0.694703     0.5510   \n",
       "avg  0.595146  0.689860  0.341457  0.350392  0.322878  0.695230     0.5306   \n",
       "\n",
       "               \n",
       "    f1-score   \n",
       "1    0.584855  \n",
       "2    0.556708  \n",
       "3    0.611914  \n",
       "4    0.604097  \n",
       "5    0.607273  \n",
       "avg  0.592969  "
      ]
     },
     "metadata": {},
     "output_type": "display_data"
    },
    {
     "data": {
      "text/html": [
       "<div style=\"background-color: lightblue; color: black; font-weight: bold; padding: 10px; display: inline-block;\">Testing (Each fold has the same test data):</div>"
      ],
      "text/plain": [
       "<IPython.core.display.HTML object>"
      ]
     },
     "metadata": {},
     "output_type": "display_data"
    },
    {
     "data": {
      "text/html": [
       "<div>\n",
       "<style scoped>\n",
       "    .dataframe tbody tr th:only-of-type {\n",
       "        vertical-align: middle;\n",
       "    }\n",
       "\n",
       "    .dataframe tbody tr th {\n",
       "        vertical-align: top;\n",
       "    }\n",
       "\n",
       "    .dataframe thead tr th {\n",
       "        text-align: left;\n",
       "    }\n",
       "</style>\n",
       "<table border=\"1\" class=\"dataframe\">\n",
       "  <thead>\n",
       "    <tr>\n",
       "      <th></th>\n",
       "      <th colspan=\"3\" halign=\"left\">cannibalized</th>\n",
       "      <th colspan=\"3\" halign=\"left\">boosted</th>\n",
       "      <th colspan=\"3\" halign=\"left\">unaffected</th>\n",
       "      <th colspan=\"3\" halign=\"left\">macro avg</th>\n",
       "      <th colspan=\"3\" halign=\"left\">weighted avg</th>\n",
       "    </tr>\n",
       "    <tr>\n",
       "      <th></th>\n",
       "      <th>precision</th>\n",
       "      <th>recall</th>\n",
       "      <th>f1-score</th>\n",
       "      <th>precision</th>\n",
       "      <th>recall</th>\n",
       "      <th>f1-score</th>\n",
       "      <th>precision</th>\n",
       "      <th>recall</th>\n",
       "      <th>f1-score</th>\n",
       "      <th>precision</th>\n",
       "      <th>recall</th>\n",
       "      <th>f1-score</th>\n",
       "      <th>precision</th>\n",
       "      <th>recall</th>\n",
       "      <th>f1-score</th>\n",
       "    </tr>\n",
       "  </thead>\n",
       "  <tbody>\n",
       "    <tr>\n",
       "      <th>1</th>\n",
       "      <td>0.078652</td>\n",
       "      <td>0.166667</td>\n",
       "      <td>0.106870</td>\n",
       "      <td>0.095618</td>\n",
       "      <td>0.266667</td>\n",
       "      <td>0.140762</td>\n",
       "      <td>0.836007</td>\n",
       "      <td>0.574755</td>\n",
       "      <td>0.681191</td>\n",
       "      <td>0.336759</td>\n",
       "      <td>0.336029</td>\n",
       "      <td>0.309608</td>\n",
       "      <td>0.704439</td>\n",
       "      <td>0.512121</td>\n",
       "      <td>0.583331</td>\n",
       "    </tr>\n",
       "    <tr>\n",
       "      <th>2</th>\n",
       "      <td>0.086538</td>\n",
       "      <td>0.214286</td>\n",
       "      <td>0.123288</td>\n",
       "      <td>0.121339</td>\n",
       "      <td>0.322222</td>\n",
       "      <td>0.176292</td>\n",
       "      <td>0.837937</td>\n",
       "      <td>0.557598</td>\n",
       "      <td>0.669610</td>\n",
       "      <td>0.348605</td>\n",
       "      <td>0.364702</td>\n",
       "      <td>0.323063</td>\n",
       "      <td>0.709037</td>\n",
       "      <td>0.507071</td>\n",
       "      <td>0.578408</td>\n",
       "    </tr>\n",
       "    <tr>\n",
       "      <th>3</th>\n",
       "      <td>0.087719</td>\n",
       "      <td>0.178571</td>\n",
       "      <td>0.117647</td>\n",
       "      <td>0.115385</td>\n",
       "      <td>0.266667</td>\n",
       "      <td>0.161074</td>\n",
       "      <td>0.836334</td>\n",
       "      <td>0.626225</td>\n",
       "      <td>0.716188</td>\n",
       "      <td>0.346479</td>\n",
       "      <td>0.357155</td>\n",
       "      <td>0.331636</td>\n",
       "      <td>0.707274</td>\n",
       "      <td>0.555556</td>\n",
       "      <td>0.614938</td>\n",
       "    </tr>\n",
       "    <tr>\n",
       "      <th>4</th>\n",
       "      <td>0.100671</td>\n",
       "      <td>0.178571</td>\n",
       "      <td>0.128755</td>\n",
       "      <td>0.124481</td>\n",
       "      <td>0.333333</td>\n",
       "      <td>0.181269</td>\n",
       "      <td>0.843333</td>\n",
       "      <td>0.620098</td>\n",
       "      <td>0.714689</td>\n",
       "      <td>0.356162</td>\n",
       "      <td>0.377334</td>\n",
       "      <td>0.341571</td>\n",
       "      <td>0.714969</td>\n",
       "      <td>0.556566</td>\n",
       "      <td>0.616481</td>\n",
       "    </tr>\n",
       "    <tr>\n",
       "      <th>5</th>\n",
       "      <td>0.091371</td>\n",
       "      <td>0.214286</td>\n",
       "      <td>0.128114</td>\n",
       "      <td>0.134615</td>\n",
       "      <td>0.311111</td>\n",
       "      <td>0.187919</td>\n",
       "      <td>0.841026</td>\n",
       "      <td>0.602941</td>\n",
       "      <td>0.702355</td>\n",
       "      <td>0.355671</td>\n",
       "      <td>0.376113</td>\n",
       "      <td>0.339463</td>\n",
       "      <td>0.713199</td>\n",
       "      <td>0.543434</td>\n",
       "      <td>0.606865</td>\n",
       "    </tr>\n",
       "    <tr>\n",
       "      <th>avg</th>\n",
       "      <td>0.088990</td>\n",
       "      <td>0.190476</td>\n",
       "      <td>0.120935</td>\n",
       "      <td>0.118288</td>\n",
       "      <td>0.300000</td>\n",
       "      <td>0.169463</td>\n",
       "      <td>0.838927</td>\n",
       "      <td>0.596324</td>\n",
       "      <td>0.696807</td>\n",
       "      <td>0.348735</td>\n",
       "      <td>0.362267</td>\n",
       "      <td>0.329068</td>\n",
       "      <td>0.709784</td>\n",
       "      <td>0.534949</td>\n",
       "      <td>0.600005</td>\n",
       "    </tr>\n",
       "  </tbody>\n",
       "</table>\n",
       "</div>"
      ],
      "text/plain": [
       "    cannibalized                     boosted                       unaffected  \\\n",
       "    precision    recall    f1-score  precision recall    f1-score  precision    \n",
       "1    0.078652     0.166667  0.106870  0.095618  0.266667  0.140762  0.836007    \n",
       "2    0.086538     0.214286  0.123288  0.121339  0.322222  0.176292  0.837937    \n",
       "3    0.087719     0.178571  0.117647  0.115385  0.266667  0.161074  0.836334    \n",
       "4    0.100671     0.178571  0.128755  0.124481  0.333333  0.181269  0.843333    \n",
       "5    0.091371     0.214286  0.128114  0.134615  0.311111  0.187919  0.841026    \n",
       "avg  0.088990     0.190476  0.120935  0.118288  0.300000  0.169463  0.838927    \n",
       "\n",
       "                        macro avg                     weighted avg            \\\n",
       "    recall    f1-score  precision recall    f1-score  precision    recall      \n",
       "1    0.574755  0.681191  0.336759  0.336029  0.309608  0.704439     0.512121   \n",
       "2    0.557598  0.669610  0.348605  0.364702  0.323063  0.709037     0.507071   \n",
       "3    0.626225  0.716188  0.346479  0.357155  0.331636  0.707274     0.555556   \n",
       "4    0.620098  0.714689  0.356162  0.377334  0.341571  0.714969     0.556566   \n",
       "5    0.602941  0.702355  0.355671  0.376113  0.339463  0.713199     0.543434   \n",
       "avg  0.596324  0.696807  0.348735  0.362267  0.329068  0.709784     0.534949   \n",
       "\n",
       "               \n",
       "    f1-score   \n",
       "1    0.583331  \n",
       "2    0.578408  \n",
       "3    0.614938  \n",
       "4    0.616481  \n",
       "5    0.606865  \n",
       "avg  0.600005  "
      ]
     },
     "metadata": {},
     "output_type": "display_data"
    },
    {
     "data": {
      "text/html": [
       "<div style=\"background-color: yellow; color: black; font-weight: bold; padding: 10px; display: inline-block;\">Prediction Distribution on Val (Baseline: constraint=True)</div>"
      ],
      "text/plain": [
       "<IPython.core.display.HTML object>"
      ]
     },
     "metadata": {},
     "output_type": "display_data"
    },
    {
     "data": {
      "text/html": [
       "<div>\n",
       "<style scoped>\n",
       "    .dataframe tbody tr th:only-of-type {\n",
       "        vertical-align: middle;\n",
       "    }\n",
       "\n",
       "    .dataframe tbody tr th {\n",
       "        vertical-align: top;\n",
       "    }\n",
       "\n",
       "    .dataframe thead th {\n",
       "        text-align: right;\n",
       "    }\n",
       "</style>\n",
       "<table border=\"1\" class=\"dataframe\">\n",
       "  <thead>\n",
       "    <tr style=\"text-align: left;\">\n",
       "      <th></th>\n",
       "      <th>unaffected</th>\n",
       "      <th>boosted</th>\n",
       "      <th>cannibalized</th>\n",
       "      <th>unaffected%</th>\n",
       "      <th>boosted%</th>\n",
       "      <th>cannibalized%</th>\n",
       "    </tr>\n",
       "  </thead>\n",
       "  <tbody>\n",
       "    <tr>\n",
       "      <th>1</th>\n",
       "      <td>599.0</td>\n",
       "      <td>243.0</td>\n",
       "      <td>158.0</td>\n",
       "      <td>0.5990</td>\n",
       "      <td>0.2430</td>\n",
       "      <td>0.1580</td>\n",
       "    </tr>\n",
       "    <tr>\n",
       "      <th>2</th>\n",
       "      <td>528.0</td>\n",
       "      <td>248.0</td>\n",
       "      <td>224.0</td>\n",
       "      <td>0.5280</td>\n",
       "      <td>0.2480</td>\n",
       "      <td>0.2240</td>\n",
       "    </tr>\n",
       "    <tr>\n",
       "      <th>3</th>\n",
       "      <td>614.0</td>\n",
       "      <td>219.0</td>\n",
       "      <td>167.0</td>\n",
       "      <td>0.6140</td>\n",
       "      <td>0.2190</td>\n",
       "      <td>0.1670</td>\n",
       "    </tr>\n",
       "    <tr>\n",
       "      <th>4</th>\n",
       "      <td>620.0</td>\n",
       "      <td>235.0</td>\n",
       "      <td>145.0</td>\n",
       "      <td>0.6200</td>\n",
       "      <td>0.2350</td>\n",
       "      <td>0.1450</td>\n",
       "    </tr>\n",
       "    <tr>\n",
       "      <th>5</th>\n",
       "      <td>622.0</td>\n",
       "      <td>188.0</td>\n",
       "      <td>190.0</td>\n",
       "      <td>0.6220</td>\n",
       "      <td>0.1880</td>\n",
       "      <td>0.1900</td>\n",
       "    </tr>\n",
       "    <tr>\n",
       "      <th>total</th>\n",
       "      <td>2983.0</td>\n",
       "      <td>1133.0</td>\n",
       "      <td>884.0</td>\n",
       "      <td>0.5966</td>\n",
       "      <td>0.2266</td>\n",
       "      <td>0.1768</td>\n",
       "    </tr>\n",
       "  </tbody>\n",
       "</table>\n",
       "</div>"
      ],
      "text/plain": [
       "       unaffected  boosted  cannibalized  unaffected%  boosted%  cannibalized%\n",
       "1       599.0       243.0   158.0         0.5990       0.2430    0.1580       \n",
       "2       528.0       248.0   224.0         0.5280       0.2480    0.2240       \n",
       "3       614.0       219.0   167.0         0.6140       0.2190    0.1670       \n",
       "4       620.0       235.0   145.0         0.6200       0.2350    0.1450       \n",
       "5       622.0       188.0   190.0         0.6220       0.1880    0.1900       \n",
       "total  2983.0      1133.0   884.0         0.5966       0.2266    0.1768       "
      ]
     },
     "metadata": {},
     "output_type": "display_data"
    },
    {
     "data": {
      "text/html": [
       "<div style=\"background-color: yellow; color: black; font-weight: bold; padding: 10px; display: inline-block;\">Prediction Distribution on Test (Baseline: constraint=True)</div>"
      ],
      "text/plain": [
       "<IPython.core.display.HTML object>"
      ]
     },
     "metadata": {},
     "output_type": "display_data"
    },
    {
     "data": {
      "text/html": [
       "<div>\n",
       "<style scoped>\n",
       "    .dataframe tbody tr th:only-of-type {\n",
       "        vertical-align: middle;\n",
       "    }\n",
       "\n",
       "    .dataframe tbody tr th {\n",
       "        vertical-align: top;\n",
       "    }\n",
       "\n",
       "    .dataframe thead th {\n",
       "        text-align: right;\n",
       "    }\n",
       "</style>\n",
       "<table border=\"1\" class=\"dataframe\">\n",
       "  <thead>\n",
       "    <tr style=\"text-align: left;\">\n",
       "      <th></th>\n",
       "      <th>unaffected</th>\n",
       "      <th>boosted</th>\n",
       "      <th>cannibalized</th>\n",
       "      <th>unaffected%</th>\n",
       "      <th>boosted%</th>\n",
       "      <th>cannibalized%</th>\n",
       "    </tr>\n",
       "  </thead>\n",
       "  <tbody>\n",
       "    <tr>\n",
       "      <th>1</th>\n",
       "      <td>561.0</td>\n",
       "      <td>251.0</td>\n",
       "      <td>178.0</td>\n",
       "      <td>0.566667</td>\n",
       "      <td>0.253535</td>\n",
       "      <td>0.179798</td>\n",
       "    </tr>\n",
       "    <tr>\n",
       "      <th>2</th>\n",
       "      <td>543.0</td>\n",
       "      <td>239.0</td>\n",
       "      <td>208.0</td>\n",
       "      <td>0.548485</td>\n",
       "      <td>0.241414</td>\n",
       "      <td>0.210101</td>\n",
       "    </tr>\n",
       "    <tr>\n",
       "      <th>3</th>\n",
       "      <td>611.0</td>\n",
       "      <td>208.0</td>\n",
       "      <td>171.0</td>\n",
       "      <td>0.617172</td>\n",
       "      <td>0.210101</td>\n",
       "      <td>0.172727</td>\n",
       "    </tr>\n",
       "    <tr>\n",
       "      <th>4</th>\n",
       "      <td>600.0</td>\n",
       "      <td>241.0</td>\n",
       "      <td>149.0</td>\n",
       "      <td>0.606061</td>\n",
       "      <td>0.243434</td>\n",
       "      <td>0.150505</td>\n",
       "    </tr>\n",
       "    <tr>\n",
       "      <th>5</th>\n",
       "      <td>585.0</td>\n",
       "      <td>208.0</td>\n",
       "      <td>197.0</td>\n",
       "      <td>0.590909</td>\n",
       "      <td>0.210101</td>\n",
       "      <td>0.198990</td>\n",
       "    </tr>\n",
       "    <tr>\n",
       "      <th>total</th>\n",
       "      <td>2900.0</td>\n",
       "      <td>1147.0</td>\n",
       "      <td>903.0</td>\n",
       "      <td>0.585859</td>\n",
       "      <td>0.231717</td>\n",
       "      <td>0.182424</td>\n",
       "    </tr>\n",
       "  </tbody>\n",
       "</table>\n",
       "</div>"
      ],
      "text/plain": [
       "       unaffected  boosted  cannibalized  unaffected%  boosted%  cannibalized%\n",
       "1       561.0       251.0   178.0         0.566667     0.253535  0.179798     \n",
       "2       543.0       239.0   208.0         0.548485     0.241414  0.210101     \n",
       "3       611.0       208.0   171.0         0.617172     0.210101  0.172727     \n",
       "4       600.0       241.0   149.0         0.606061     0.243434  0.150505     \n",
       "5       585.0       208.0   197.0         0.590909     0.210101  0.198990     \n",
       "total  2900.0      1147.0   903.0         0.585859     0.231717  0.182424     "
      ]
     },
     "metadata": {},
     "output_type": "display_data"
    }
   ],
   "source": [
    "baseline_val_Kfold_report = get_Kfold_report(feat_val_fold_reports)\n",
    "baseline_test_Kfold_report = get_Kfold_report(feat_test_fold_reports)\n",
    "plot_Kfold_report(baseline_val_Kfold_report, \"Validation (Each fold has different val data):\")\n",
    "plot_Kfold_report(baseline_test_Kfold_report, \"Testing (Each fold has the same test data):\") # The difference arises from the different slices of training data given to the \"model\"\n",
    "\n",
    "plot_Kfold_report(feat_val_Kfold_preds_dists, f\"Prediction Distribution on Val (Baseline: constraint={pct_constrain})\", background_color=\"yellow\", bold=True)\n",
    "plot_Kfold_report(feat_test_Kfold_preds_dists, f\"Prediction Distribution on Test (Baseline: constraint={pct_constrain})\", background_color=\"yellow\", bold=True)"
   ]
  },
  {
   "cell_type": "code",
   "execution_count": 84,
   "id": "923da52d",
   "metadata": {},
   "outputs": [
    {
     "name": "stdout",
     "output_type": "stream",
     "text": [
      "              precision    recall  f1-score   support\n",
      "\n",
      "     boosted       0.12      0.27      0.16        90\n",
      "cannibalized       0.09      0.18      0.12        84\n",
      "  unaffected       0.84      0.63      0.72       816\n",
      "\n",
      "    accuracy                           0.56       990\n",
      "   macro avg       0.35      0.36      0.33       990\n",
      "weighted avg       0.71      0.56      0.61       990\n",
      "\n"
     ]
    },
    {
     "data": {
      "image/png": "[encoded data removed]",
      "text/plain": [
       "<Figure size 2400x1200 with 4 Axes>"
      ]
     },
     "metadata": {},
     "output_type": "display_data"
    }
   ],
   "source": [
    "test_baseline_model_with_best_fold(baseline_val_Kfold_report, feat_test_all_fold_preds)"
   ]
  },
  {
   "cell_type": "code",
   "execution_count": 85,
   "id": "32799a75",
   "metadata": {},
   "outputs": [
    {
     "data": {
      "text/plain": [
       "boosted          16\n",
       "cannibalized     16\n",
       "unaffected      126\n",
       "Name: prediction, dtype: int64"
      ]
     },
     "metadata": {},
     "output_type": "display_data"
    },
    {
     "data": {
      "text/plain": [
       "boosted          16\n",
       "cannibalized     16\n",
       "unaffected      126\n",
       "Name: prediction, dtype: int64"
      ]
     },
     "metadata": {},
     "output_type": "display_data"
    },
    {
     "data": {
      "text/plain": [
       "boosted          16\n",
       "cannibalized     16\n",
       "unaffected      126\n",
       "Name: prediction, dtype: int64"
      ]
     },
     "metadata": {},
     "output_type": "display_data"
    },
    {
     "data": {
      "text/plain": [
       "boosted          16\n",
       "cannibalized     16\n",
       "unaffected      126\n",
       "Name: prediction, dtype: int64"
      ]
     },
     "metadata": {},
     "output_type": "display_data"
    },
    {
     "data": {
      "text/plain": [
       "boosted          16\n",
       "cannibalized     16\n",
       "unaffected      126\n",
       "Name: prediction, dtype: int64"
      ]
     },
     "metadata": {},
     "output_type": "display_data"
    }
   ],
   "source": [
    "check_fold_train_distribution(pct_constrain=pct_constrain)"
   ]
  },
  {
   "cell_type": "code",
   "execution_count": null,
   "id": "88d98489",
   "metadata": {},
   "outputs": [],
   "source": []
  },
  {
   "cell_type": "code",
   "execution_count": null,
   "id": "184c2b56",
   "metadata": {},
   "outputs": [],
   "source": []
  },
  {
   "cell_type": "markdown",
   "id": "db7b5bfe",
   "metadata": {},
   "source": [
    "## CPPM (5%-5%-90%)"
   ]
  },
  {
   "cell_type": "code",
   "execution_count": 86,
   "id": "7836defd",
   "metadata": {},
   "outputs": [],
   "source": [
    "pct_constrain = True\n",
    "minority_pct = 0.05"
   ]
  },
  {
   "cell_type": "code",
   "execution_count": 87,
   "id": "78ec4e0e",
   "metadata": {},
   "outputs": [],
   "source": [
    "feat_val_fold_reports, feat_test_fold_reports, feat_test_all_fold_preds,  feat_val_Kfold_preds_dists, feat_test_Kfold_preds_dists = baseline_cross_validation(available_feat_videos,\n",
    "                                                                                                    index_tuples,\n",
    "                                                                                                    pct_constrain=pct_constrain,\n",
    "                                                                                                    minority_pct=minority_pct)"
   ]
  },
  {
   "cell_type": "code",
   "execution_count": 88,
   "id": "114d1876",
   "metadata": {},
   "outputs": [
    {
     "data": {
      "text/html": [
       "<div style=\"background-color: lightblue; color: black; font-weight: bold; padding: 10px; display: inline-block;\">Validation (Each fold has different val data):</div>"
      ],
      "text/plain": [
       "<IPython.core.display.HTML object>"
      ]
     },
     "metadata": {},
     "output_type": "display_data"
    },
    {
     "data": {
      "text/html": [
       "<div>\n",
       "<style scoped>\n",
       "    .dataframe tbody tr th:only-of-type {\n",
       "        vertical-align: middle;\n",
       "    }\n",
       "\n",
       "    .dataframe tbody tr th {\n",
       "        vertical-align: top;\n",
       "    }\n",
       "\n",
       "    .dataframe thead tr th {\n",
       "        text-align: left;\n",
       "    }\n",
       "</style>\n",
       "<table border=\"1\" class=\"dataframe\">\n",
       "  <thead>\n",
       "    <tr>\n",
       "      <th></th>\n",
       "      <th colspan=\"3\" halign=\"left\">cannibalized</th>\n",
       "      <th colspan=\"3\" halign=\"left\">boosted</th>\n",
       "      <th colspan=\"3\" halign=\"left\">unaffected</th>\n",
       "      <th colspan=\"3\" halign=\"left\">macro avg</th>\n",
       "      <th colspan=\"3\" halign=\"left\">weighted avg</th>\n",
       "    </tr>\n",
       "    <tr>\n",
       "      <th></th>\n",
       "      <th>precision</th>\n",
       "      <th>recall</th>\n",
       "      <th>f1-score</th>\n",
       "      <th>precision</th>\n",
       "      <th>recall</th>\n",
       "      <th>f1-score</th>\n",
       "      <th>precision</th>\n",
       "      <th>recall</th>\n",
       "      <th>f1-score</th>\n",
       "      <th>precision</th>\n",
       "      <th>recall</th>\n",
       "      <th>f1-score</th>\n",
       "      <th>precision</th>\n",
       "      <th>recall</th>\n",
       "      <th>f1-score</th>\n",
       "    </tr>\n",
       "  </thead>\n",
       "  <tbody>\n",
       "    <tr>\n",
       "      <th>1</th>\n",
       "      <td>0.131579</td>\n",
       "      <td>0.176471</td>\n",
       "      <td>0.150754</td>\n",
       "      <td>0.065089</td>\n",
       "      <td>0.120879</td>\n",
       "      <td>0.084615</td>\n",
       "      <td>0.815900</td>\n",
       "      <td>0.709951</td>\n",
       "      <td>0.759247</td>\n",
       "      <td>0.337522</td>\n",
       "      <td>0.335767</td>\n",
       "      <td>0.331539</td>\n",
       "      <td>0.689409</td>\n",
       "      <td>0.6110</td>\n",
       "      <td>0.646134</td>\n",
       "    </tr>\n",
       "    <tr>\n",
       "      <th>2</th>\n",
       "      <td>0.076923</td>\n",
       "      <td>0.129412</td>\n",
       "      <td>0.096491</td>\n",
       "      <td>0.090361</td>\n",
       "      <td>0.164835</td>\n",
       "      <td>0.116732</td>\n",
       "      <td>0.811867</td>\n",
       "      <td>0.680825</td>\n",
       "      <td>0.740594</td>\n",
       "      <td>0.326384</td>\n",
       "      <td>0.325024</td>\n",
       "      <td>0.317939</td>\n",
       "      <td>0.683740</td>\n",
       "      <td>0.5870</td>\n",
       "      <td>0.629074</td>\n",
       "    </tr>\n",
       "    <tr>\n",
       "      <th>3</th>\n",
       "      <td>0.087379</td>\n",
       "      <td>0.105882</td>\n",
       "      <td>0.095745</td>\n",
       "      <td>0.137931</td>\n",
       "      <td>0.219780</td>\n",
       "      <td>0.169492</td>\n",
       "      <td>0.824468</td>\n",
       "      <td>0.752427</td>\n",
       "      <td>0.786802</td>\n",
       "      <td>0.349926</td>\n",
       "      <td>0.359363</td>\n",
       "      <td>0.350679</td>\n",
       "      <td>0.699341</td>\n",
       "      <td>0.6490</td>\n",
       "      <td>0.671887</td>\n",
       "    </tr>\n",
       "    <tr>\n",
       "      <th>4</th>\n",
       "      <td>0.047059</td>\n",
       "      <td>0.047059</td>\n",
       "      <td>0.047059</td>\n",
       "      <td>0.094488</td>\n",
       "      <td>0.131868</td>\n",
       "      <td>0.110092</td>\n",
       "      <td>0.817259</td>\n",
       "      <td>0.781553</td>\n",
       "      <td>0.799007</td>\n",
       "      <td>0.319602</td>\n",
       "      <td>0.320160</td>\n",
       "      <td>0.318719</td>\n",
       "      <td>0.686020</td>\n",
       "      <td>0.6600</td>\n",
       "      <td>0.672400</td>\n",
       "    </tr>\n",
       "    <tr>\n",
       "      <th>5</th>\n",
       "      <td>0.086957</td>\n",
       "      <td>0.117647</td>\n",
       "      <td>0.100000</td>\n",
       "      <td>0.096491</td>\n",
       "      <td>0.120879</td>\n",
       "      <td>0.107317</td>\n",
       "      <td>0.815824</td>\n",
       "      <td>0.763350</td>\n",
       "      <td>0.788715</td>\n",
       "      <td>0.333090</td>\n",
       "      <td>0.333959</td>\n",
       "      <td>0.332011</td>\n",
       "      <td>0.688411</td>\n",
       "      <td>0.6500</td>\n",
       "      <td>0.668167</td>\n",
       "    </tr>\n",
       "    <tr>\n",
       "      <th>avg</th>\n",
       "      <td>0.085979</td>\n",
       "      <td>0.115294</td>\n",
       "      <td>0.098010</td>\n",
       "      <td>0.096872</td>\n",
       "      <td>0.151648</td>\n",
       "      <td>0.117649</td>\n",
       "      <td>0.817063</td>\n",
       "      <td>0.737621</td>\n",
       "      <td>0.774873</td>\n",
       "      <td>0.333305</td>\n",
       "      <td>0.334855</td>\n",
       "      <td>0.330177</td>\n",
       "      <td>0.689384</td>\n",
       "      <td>0.6314</td>\n",
       "      <td>0.657532</td>\n",
       "    </tr>\n",
       "  </tbody>\n",
       "</table>\n",
       "</div>"
      ],
      "text/plain": [
       "    cannibalized                     boosted                       unaffected  \\\n",
       "    precision    recall    f1-score  precision recall    f1-score  precision    \n",
       "1    0.131579     0.176471  0.150754  0.065089  0.120879  0.084615  0.815900    \n",
       "2    0.076923     0.129412  0.096491  0.090361  0.164835  0.116732  0.811867    \n",
       "3    0.087379     0.105882  0.095745  0.137931  0.219780  0.169492  0.824468    \n",
       "4    0.047059     0.047059  0.047059  0.094488  0.131868  0.110092  0.817259    \n",
       "5    0.086957     0.117647  0.100000  0.096491  0.120879  0.107317  0.815824    \n",
       "avg  0.085979     0.115294  0.098010  0.096872  0.151648  0.117649  0.817063    \n",
       "\n",
       "                        macro avg                     weighted avg          \\\n",
       "    recall    f1-score  precision recall    f1-score  precision    recall    \n",
       "1    0.709951  0.759247  0.337522  0.335767  0.331539  0.689409     0.6110   \n",
       "2    0.680825  0.740594  0.326384  0.325024  0.317939  0.683740     0.5870   \n",
       "3    0.752427  0.786802  0.349926  0.359363  0.350679  0.699341     0.6490   \n",
       "4    0.781553  0.799007  0.319602  0.320160  0.318719  0.686020     0.6600   \n",
       "5    0.763350  0.788715  0.333090  0.333959  0.332011  0.688411     0.6500   \n",
       "avg  0.737621  0.774873  0.333305  0.334855  0.330177  0.689384     0.6314   \n",
       "\n",
       "               \n",
       "    f1-score   \n",
       "1    0.646134  \n",
       "2    0.629074  \n",
       "3    0.671887  \n",
       "4    0.672400  \n",
       "5    0.668167  \n",
       "avg  0.657532  "
      ]
     },
     "metadata": {},
     "output_type": "display_data"
    },
    {
     "data": {
      "text/html": [
       "<div style=\"background-color: lightblue; color: black; font-weight: bold; padding: 10px; display: inline-block;\">Testing (Each fold has the same test data):</div>"
      ],
      "text/plain": [
       "<IPython.core.display.HTML object>"
      ]
     },
     "metadata": {},
     "output_type": "display_data"
    },
    {
     "data": {
      "text/html": [
       "<div>\n",
       "<style scoped>\n",
       "    .dataframe tbody tr th:only-of-type {\n",
       "        vertical-align: middle;\n",
       "    }\n",
       "\n",
       "    .dataframe tbody tr th {\n",
       "        vertical-align: top;\n",
       "    }\n",
       "\n",
       "    .dataframe thead tr th {\n",
       "        text-align: left;\n",
       "    }\n",
       "</style>\n",
       "<table border=\"1\" class=\"dataframe\">\n",
       "  <thead>\n",
       "    <tr>\n",
       "      <th></th>\n",
       "      <th colspan=\"3\" halign=\"left\">cannibalized</th>\n",
       "      <th colspan=\"3\" halign=\"left\">boosted</th>\n",
       "      <th colspan=\"3\" halign=\"left\">unaffected</th>\n",
       "      <th colspan=\"3\" halign=\"left\">macro avg</th>\n",
       "      <th colspan=\"3\" halign=\"left\">weighted avg</th>\n",
       "    </tr>\n",
       "    <tr>\n",
       "      <th></th>\n",
       "      <th>precision</th>\n",
       "      <th>recall</th>\n",
       "      <th>f1-score</th>\n",
       "      <th>precision</th>\n",
       "      <th>recall</th>\n",
       "      <th>f1-score</th>\n",
       "      <th>precision</th>\n",
       "      <th>recall</th>\n",
       "      <th>f1-score</th>\n",
       "      <th>precision</th>\n",
       "      <th>recall</th>\n",
       "      <th>f1-score</th>\n",
       "      <th>precision</th>\n",
       "      <th>recall</th>\n",
       "      <th>f1-score</th>\n",
       "    </tr>\n",
       "  </thead>\n",
       "  <tbody>\n",
       "    <tr>\n",
       "      <th>1</th>\n",
       "      <td>0.076923</td>\n",
       "      <td>0.107143</td>\n",
       "      <td>0.089552</td>\n",
       "      <td>0.075949</td>\n",
       "      <td>0.133333</td>\n",
       "      <td>0.096774</td>\n",
       "      <td>0.823776</td>\n",
       "      <td>0.721814</td>\n",
       "      <td>0.769432</td>\n",
       "      <td>0.325550</td>\n",
       "      <td>0.320763</td>\n",
       "      <td>0.318586</td>\n",
       "      <td>0.692423</td>\n",
       "      <td>0.616162</td>\n",
       "      <td>0.650594</td>\n",
       "    </tr>\n",
       "    <tr>\n",
       "      <th>2</th>\n",
       "      <td>0.085714</td>\n",
       "      <td>0.142857</td>\n",
       "      <td>0.107143</td>\n",
       "      <td>0.085106</td>\n",
       "      <td>0.133333</td>\n",
       "      <td>0.103896</td>\n",
       "      <td>0.823695</td>\n",
       "      <td>0.715686</td>\n",
       "      <td>0.765902</td>\n",
       "      <td>0.331505</td>\n",
       "      <td>0.330626</td>\n",
       "      <td>0.325647</td>\n",
       "      <td>0.693934</td>\n",
       "      <td>0.614141</td>\n",
       "      <td>0.649825</td>\n",
       "    </tr>\n",
       "    <tr>\n",
       "      <th>3</th>\n",
       "      <td>0.068627</td>\n",
       "      <td>0.083333</td>\n",
       "      <td>0.075269</td>\n",
       "      <td>0.088235</td>\n",
       "      <td>0.133333</td>\n",
       "      <td>0.106195</td>\n",
       "      <td>0.824468</td>\n",
       "      <td>0.759804</td>\n",
       "      <td>0.790816</td>\n",
       "      <td>0.327110</td>\n",
       "      <td>0.325490</td>\n",
       "      <td>0.324093</td>\n",
       "      <td>0.693406</td>\n",
       "      <td>0.645455</td>\n",
       "      <td>0.667865</td>\n",
       "    </tr>\n",
       "    <tr>\n",
       "      <th>4</th>\n",
       "      <td>0.084337</td>\n",
       "      <td>0.083333</td>\n",
       "      <td>0.083832</td>\n",
       "      <td>0.073171</td>\n",
       "      <td>0.100000</td>\n",
       "      <td>0.084507</td>\n",
       "      <td>0.820153</td>\n",
       "      <td>0.787990</td>\n",
       "      <td>0.803750</td>\n",
       "      <td>0.325887</td>\n",
       "      <td>0.323775</td>\n",
       "      <td>0.324030</td>\n",
       "      <td>0.689813</td>\n",
       "      <td>0.665657</td>\n",
       "      <td>0.677280</td>\n",
       "    </tr>\n",
       "    <tr>\n",
       "      <th>5</th>\n",
       "      <td>0.072993</td>\n",
       "      <td>0.119048</td>\n",
       "      <td>0.090498</td>\n",
       "      <td>0.084034</td>\n",
       "      <td>0.111111</td>\n",
       "      <td>0.095694</td>\n",
       "      <td>0.818801</td>\n",
       "      <td>0.736520</td>\n",
       "      <td>0.775484</td>\n",
       "      <td>0.325276</td>\n",
       "      <td>0.322226</td>\n",
       "      <td>0.320558</td>\n",
       "      <td>0.688723</td>\n",
       "      <td>0.627273</td>\n",
       "      <td>0.655565</td>\n",
       "    </tr>\n",
       "    <tr>\n",
       "      <th>avg</th>\n",
       "      <td>0.077719</td>\n",
       "      <td>0.107143</td>\n",
       "      <td>0.089259</td>\n",
       "      <td>0.081299</td>\n",
       "      <td>0.122222</td>\n",
       "      <td>0.097413</td>\n",
       "      <td>0.822179</td>\n",
       "      <td>0.744363</td>\n",
       "      <td>0.781077</td>\n",
       "      <td>0.327066</td>\n",
       "      <td>0.324576</td>\n",
       "      <td>0.322583</td>\n",
       "      <td>0.691660</td>\n",
       "      <td>0.633737</td>\n",
       "      <td>0.660226</td>\n",
       "    </tr>\n",
       "  </tbody>\n",
       "</table>\n",
       "</div>"
      ],
      "text/plain": [
       "    cannibalized                     boosted                       unaffected  \\\n",
       "    precision    recall    f1-score  precision recall    f1-score  precision    \n",
       "1    0.076923     0.107143  0.089552  0.075949  0.133333  0.096774  0.823776    \n",
       "2    0.085714     0.142857  0.107143  0.085106  0.133333  0.103896  0.823695    \n",
       "3    0.068627     0.083333  0.075269  0.088235  0.133333  0.106195  0.824468    \n",
       "4    0.084337     0.083333  0.083832  0.073171  0.100000  0.084507  0.820153    \n",
       "5    0.072993     0.119048  0.090498  0.084034  0.111111  0.095694  0.818801    \n",
       "avg  0.077719     0.107143  0.089259  0.081299  0.122222  0.097413  0.822179    \n",
       "\n",
       "                        macro avg                     weighted avg            \\\n",
       "    recall    f1-score  precision recall    f1-score  precision    recall      \n",
       "1    0.721814  0.769432  0.325550  0.320763  0.318586  0.692423     0.616162   \n",
       "2    0.715686  0.765902  0.331505  0.330626  0.325647  0.693934     0.614141   \n",
       "3    0.759804  0.790816  0.327110  0.325490  0.324093  0.693406     0.645455   \n",
       "4    0.787990  0.803750  0.325887  0.323775  0.324030  0.689813     0.665657   \n",
       "5    0.736520  0.775484  0.325276  0.322226  0.320558  0.688723     0.627273   \n",
       "avg  0.744363  0.781077  0.327066  0.324576  0.322583  0.691660     0.633737   \n",
       "\n",
       "               \n",
       "    f1-score   \n",
       "1    0.650594  \n",
       "2    0.649825  \n",
       "3    0.667865  \n",
       "4    0.677280  \n",
       "5    0.655565  \n",
       "avg  0.660226  "
      ]
     },
     "metadata": {},
     "output_type": "display_data"
    },
    {
     "data": {
      "text/html": [
       "<div style=\"background-color: yellow; color: black; font-weight: bold; padding: 10px; display: inline-block;\">Prediction Distribution on Val (Baseline: constraint=True)</div>"
      ],
      "text/plain": [
       "<IPython.core.display.HTML object>"
      ]
     },
     "metadata": {},
     "output_type": "display_data"
    },
    {
     "data": {
      "text/html": [
       "<div>\n",
       "<style scoped>\n",
       "    .dataframe tbody tr th:only-of-type {\n",
       "        vertical-align: middle;\n",
       "    }\n",
       "\n",
       "    .dataframe tbody tr th {\n",
       "        vertical-align: top;\n",
       "    }\n",
       "\n",
       "    .dataframe thead th {\n",
       "        text-align: right;\n",
       "    }\n",
       "</style>\n",
       "<table border=\"1\" class=\"dataframe\">\n",
       "  <thead>\n",
       "    <tr style=\"text-align: left;\">\n",
       "      <th></th>\n",
       "      <th>unaffected</th>\n",
       "      <th>boosted</th>\n",
       "      <th>cannibalized</th>\n",
       "      <th>unaffected%</th>\n",
       "      <th>boosted%</th>\n",
       "      <th>cannibalized%</th>\n",
       "    </tr>\n",
       "  </thead>\n",
       "  <tbody>\n",
       "    <tr>\n",
       "      <th>1</th>\n",
       "      <td>717.0</td>\n",
       "      <td>169.0</td>\n",
       "      <td>114.0</td>\n",
       "      <td>0.7170</td>\n",
       "      <td>0.1690</td>\n",
       "      <td>0.114</td>\n",
       "    </tr>\n",
       "    <tr>\n",
       "      <th>2</th>\n",
       "      <td>691.0</td>\n",
       "      <td>166.0</td>\n",
       "      <td>143.0</td>\n",
       "      <td>0.6910</td>\n",
       "      <td>0.1660</td>\n",
       "      <td>0.143</td>\n",
       "    </tr>\n",
       "    <tr>\n",
       "      <th>3</th>\n",
       "      <td>752.0</td>\n",
       "      <td>145.0</td>\n",
       "      <td>103.0</td>\n",
       "      <td>0.7520</td>\n",
       "      <td>0.1450</td>\n",
       "      <td>0.103</td>\n",
       "    </tr>\n",
       "    <tr>\n",
       "      <th>4</th>\n",
       "      <td>788.0</td>\n",
       "      <td>127.0</td>\n",
       "      <td>85.0</td>\n",
       "      <td>0.7880</td>\n",
       "      <td>0.1270</td>\n",
       "      <td>0.085</td>\n",
       "    </tr>\n",
       "    <tr>\n",
       "      <th>5</th>\n",
       "      <td>771.0</td>\n",
       "      <td>114.0</td>\n",
       "      <td>115.0</td>\n",
       "      <td>0.7710</td>\n",
       "      <td>0.1140</td>\n",
       "      <td>0.115</td>\n",
       "    </tr>\n",
       "    <tr>\n",
       "      <th>total</th>\n",
       "      <td>3719.0</td>\n",
       "      <td>721.0</td>\n",
       "      <td>560.0</td>\n",
       "      <td>0.7438</td>\n",
       "      <td>0.1442</td>\n",
       "      <td>0.112</td>\n",
       "    </tr>\n",
       "  </tbody>\n",
       "</table>\n",
       "</div>"
      ],
      "text/plain": [
       "       unaffected  boosted  cannibalized  unaffected%  boosted%  cannibalized%\n",
       "1       717.0      169.0    114.0         0.7170       0.1690    0.114        \n",
       "2       691.0      166.0    143.0         0.6910       0.1660    0.143        \n",
       "3       752.0      145.0    103.0         0.7520       0.1450    0.103        \n",
       "4       788.0      127.0     85.0         0.7880       0.1270    0.085        \n",
       "5       771.0      114.0    115.0         0.7710       0.1140    0.115        \n",
       "total  3719.0      721.0    560.0         0.7438       0.1442    0.112        "
      ]
     },
     "metadata": {},
     "output_type": "display_data"
    },
    {
     "data": {
      "text/html": [
       "<div style=\"background-color: yellow; color: black; font-weight: bold; padding: 10px; display: inline-block;\">Prediction Distribution on Test (Baseline: constraint=True)</div>"
      ],
      "text/plain": [
       "<IPython.core.display.HTML object>"
      ]
     },
     "metadata": {},
     "output_type": "display_data"
    },
    {
     "data": {
      "text/html": [
       "<div>\n",
       "<style scoped>\n",
       "    .dataframe tbody tr th:only-of-type {\n",
       "        vertical-align: middle;\n",
       "    }\n",
       "\n",
       "    .dataframe tbody tr th {\n",
       "        vertical-align: top;\n",
       "    }\n",
       "\n",
       "    .dataframe thead th {\n",
       "        text-align: right;\n",
       "    }\n",
       "</style>\n",
       "<table border=\"1\" class=\"dataframe\">\n",
       "  <thead>\n",
       "    <tr style=\"text-align: left;\">\n",
       "      <th></th>\n",
       "      <th>unaffected</th>\n",
       "      <th>boosted</th>\n",
       "      <th>cannibalized</th>\n",
       "      <th>unaffected%</th>\n",
       "      <th>boosted%</th>\n",
       "      <th>cannibalized%</th>\n",
       "    </tr>\n",
       "  </thead>\n",
       "  <tbody>\n",
       "    <tr>\n",
       "      <th>1</th>\n",
       "      <td>715.0</td>\n",
       "      <td>158.0</td>\n",
       "      <td>117.0</td>\n",
       "      <td>0.722222</td>\n",
       "      <td>0.159596</td>\n",
       "      <td>0.118182</td>\n",
       "    </tr>\n",
       "    <tr>\n",
       "      <th>2</th>\n",
       "      <td>709.0</td>\n",
       "      <td>141.0</td>\n",
       "      <td>140.0</td>\n",
       "      <td>0.716162</td>\n",
       "      <td>0.142424</td>\n",
       "      <td>0.141414</td>\n",
       "    </tr>\n",
       "    <tr>\n",
       "      <th>3</th>\n",
       "      <td>752.0</td>\n",
       "      <td>136.0</td>\n",
       "      <td>102.0</td>\n",
       "      <td>0.759596</td>\n",
       "      <td>0.137374</td>\n",
       "      <td>0.103030</td>\n",
       "    </tr>\n",
       "    <tr>\n",
       "      <th>4</th>\n",
       "      <td>784.0</td>\n",
       "      <td>123.0</td>\n",
       "      <td>83.0</td>\n",
       "      <td>0.791919</td>\n",
       "      <td>0.124242</td>\n",
       "      <td>0.083838</td>\n",
       "    </tr>\n",
       "    <tr>\n",
       "      <th>5</th>\n",
       "      <td>734.0</td>\n",
       "      <td>119.0</td>\n",
       "      <td>137.0</td>\n",
       "      <td>0.741414</td>\n",
       "      <td>0.120202</td>\n",
       "      <td>0.138384</td>\n",
       "    </tr>\n",
       "    <tr>\n",
       "      <th>total</th>\n",
       "      <td>3694.0</td>\n",
       "      <td>677.0</td>\n",
       "      <td>579.0</td>\n",
       "      <td>0.746263</td>\n",
       "      <td>0.136768</td>\n",
       "      <td>0.116970</td>\n",
       "    </tr>\n",
       "  </tbody>\n",
       "</table>\n",
       "</div>"
      ],
      "text/plain": [
       "       unaffected  boosted  cannibalized  unaffected%  boosted%  cannibalized%\n",
       "1       715.0      158.0    117.0         0.722222     0.159596  0.118182     \n",
       "2       709.0      141.0    140.0         0.716162     0.142424  0.141414     \n",
       "3       752.0      136.0    102.0         0.759596     0.137374  0.103030     \n",
       "4       784.0      123.0     83.0         0.791919     0.124242  0.083838     \n",
       "5       734.0      119.0    137.0         0.741414     0.120202  0.138384     \n",
       "total  3694.0      677.0    579.0         0.746263     0.136768  0.116970     "
      ]
     },
     "metadata": {},
     "output_type": "display_data"
    }
   ],
   "source": [
    "baseline_val_Kfold_report = get_Kfold_report(feat_val_fold_reports)\n",
    "baseline_test_Kfold_report = get_Kfold_report(feat_test_fold_reports)\n",
    "plot_Kfold_report(baseline_val_Kfold_report, \"Validation (Each fold has different val data):\")\n",
    "plot_Kfold_report(baseline_test_Kfold_report, \"Testing (Each fold has the same test data):\") # The difference arises from the different slices of training data given to the \"model\"\n",
    "\n",
    "plot_Kfold_report(feat_val_Kfold_preds_dists, f\"Prediction Distribution on Val (Baseline: constraint={pct_constrain})\", background_color=\"yellow\", bold=True)\n",
    "plot_Kfold_report(feat_test_Kfold_preds_dists, f\"Prediction Distribution on Test (Baseline: constraint={pct_constrain})\", background_color=\"yellow\", bold=True)"
   ]
  },
  {
   "cell_type": "code",
   "execution_count": 89,
   "id": "08a2663e",
   "metadata": {},
   "outputs": [
    {
     "name": "stdout",
     "output_type": "stream",
     "text": [
      "              precision    recall  f1-score   support\n",
      "\n",
      "     boosted       0.09      0.13      0.11        90\n",
      "cannibalized       0.07      0.08      0.08        84\n",
      "  unaffected       0.82      0.76      0.79       816\n",
      "\n",
      "    accuracy                           0.65       990\n",
      "   macro avg       0.33      0.33      0.32       990\n",
      "weighted avg       0.69      0.65      0.67       990\n",
      "\n"
     ]
    },
    {
     "data": {
      "image/png": "[encoded data removed]",
      "text/plain": [
       "<Figure size 2400x1200 with 4 Axes>"
      ]
     },
     "metadata": {},
     "output_type": "display_data"
    }
   ],
   "source": [
    "test_baseline_model_with_best_fold(baseline_val_Kfold_report, feat_test_all_fold_preds)"
   ]
  },
  {
   "cell_type": "code",
   "execution_count": 90,
   "id": "08d593c4",
   "metadata": {},
   "outputs": [
    {
     "data": {
      "text/plain": [
       "boosted           8\n",
       "cannibalized      8\n",
       "unaffected      142\n",
       "Name: prediction, dtype: int64"
      ]
     },
     "metadata": {},
     "output_type": "display_data"
    },
    {
     "data": {
      "text/plain": [
       "boosted           8\n",
       "cannibalized      8\n",
       "unaffected      142\n",
       "Name: prediction, dtype: int64"
      ]
     },
     "metadata": {},
     "output_type": "display_data"
    },
    {
     "data": {
      "text/plain": [
       "boosted           8\n",
       "cannibalized      8\n",
       "unaffected      142\n",
       "Name: prediction, dtype: int64"
      ]
     },
     "metadata": {},
     "output_type": "display_data"
    },
    {
     "data": {
      "text/plain": [
       "boosted           8\n",
       "cannibalized      8\n",
       "unaffected      142\n",
       "Name: prediction, dtype: int64"
      ]
     },
     "metadata": {},
     "output_type": "display_data"
    },
    {
     "data": {
      "text/plain": [
       "boosted           8\n",
       "cannibalized      8\n",
       "unaffected      142\n",
       "Name: prediction, dtype: int64"
      ]
     },
     "metadata": {},
     "output_type": "display_data"
    }
   ],
   "source": [
    "check_fold_train_distribution(pct_constrain=pct_constrain, minority_pct=0.05)"
   ]
  },
  {
   "cell_type": "code",
   "execution_count": null,
   "id": "1156b08c",
   "metadata": {},
   "outputs": [],
   "source": []
  }
 ],
 "metadata": {
  "kernelspec": {
   "display_name": "chris_env",
   "language": "python",
   "name": "chris_env"
  },
  "language_info": {
   "codemirror_mode": {
    "name": "ipython",
    "version": 3
   },
   "file_extension": ".py",
   "mimetype": "text/x-python",
   "name": "python",
   "nbconvert_exporter": "python",
   "pygments_lexer": "ipython3",
   "version": "3.8.17"
  },
  "toc": {
   "base_numbering": 1,
   "nav_menu": {},
   "number_sections": true,
   "sideBar": true,
   "skip_h1_title": false,
   "title_cell": "Table of Contents",
   "title_sidebar": "Contents",
   "toc_cell": false,
   "toc_position": {},
   "toc_section_display": true,
   "toc_window_display": false
  },
  "varInspector": {
   "cols": {
    "lenName": 16,
    "lenType": 16,
    "lenVar": 40
   },
   "kernels_config": {
    "python": {
     "delete_cmd_postfix": "",
     "delete_cmd_prefix": "del ",
     "library": "var_list.py",
     "varRefreshCmd": "print(var_dic_list())"
    },
    "r": {
     "delete_cmd_postfix": ") ",
     "delete_cmd_prefix": "rm(",
     "library": "var_list.r",
     "varRefreshCmd": "cat(var_dic_list()) "
    }
   },
   "types_to_exclude": [
    "module",
    "function",
    "builtin_function_or_method",
    "instance",
    "_Feature"
   ],
   "window_display": false
  }
 },
 "nbformat": 4,
 "nbformat_minor": 5
}
