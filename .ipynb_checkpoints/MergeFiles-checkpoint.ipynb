{
 "cells": [
  {
   "cell_type": "code",
   "execution_count": 1,
   "id": "appropriate-celebrity",
   "metadata": {},
   "outputs": [],
   "source": [
    "import numpy as np\n",
    "import pandas as pd\n",
    "import sys, os, json, pickle\n",
    "import random\n",
    "import re\n",
    "import functools\n",
    "import itertools\n",
    "import concurrent.futures\n",
    "\n",
    "from IPython.core.interactiveshell import InteractiveShell\n",
    "InteractiveShell.ast_node_interactivity = \"all\"\n",
    "\n",
    "pd.set_option('max_columns', None)"
   ]
  },
  {
   "cell_type": "code",
   "execution_count": 2,
   "id": "american-keyboard",
   "metadata": {},
   "outputs": [],
   "source": [
    "# Set up source paths\n",
    "channel_src_path = \"youtube_data/channels\"\n",
    "video_src_path = \"youtube_data/videos\"\n",
    "comment_src_path = \"youtube_data/comments\"\n",
    "\n",
    "# Set up destination paths\n",
    "channel_des_path = \"dataframes\"\n",
    "video_des_path = \"dataframes\"\n",
    "comment_des_path = \"dataframes\""
   ]
  },
  {
   "cell_type": "code",
   "execution_count": 3,
   "id": "overhead-click",
   "metadata": {},
   "outputs": [],
   "source": [
    "# Remove unwanted directory (if any)\n",
    "for src_path in (channel_src_path, video_src_path, comment_src_path):\n",
    "    unwanted_dir = os.path.join(src_path, \".ipynb_checkpoints\")\n",
    "    if os.path.exists(unwanted_dir):\n",
    "        os.rmdir(unwanted_dir)"
   ]
  },
  {
   "cell_type": "code",
   "execution_count": 4,
   "id": "recognized-praise",
   "metadata": {},
   "outputs": [
    {
     "name": "stdout",
     "output_type": "stream",
     "text": [
      "Channels : 166 files\n",
      "Videos   : 217 files\n",
      "Comments : 35 files\n"
     ]
    }
   ],
   "source": [
    "# Check number of files in the source paths\n",
    "print(f\"{'Channels': <9}: {len(os.listdir(channel_src_path))} files\")\n",
    "print(f\"{'Videos': <9}: {len(os.listdir(video_src_path))} files\")\n",
    "print(f\"{'Comments': <9}: {len(os.listdir(comment_src_path))} files\")"
   ]
  },
  {
   "cell_type": "markdown",
   "id": "circular-reservoir",
   "metadata": {},
   "source": [
    "# Merge & Save Channel Data (as a Parquet File)"
   ]
  },
  {
   "cell_type": "code",
   "execution_count": 5,
   "id": "fallen-evans",
   "metadata": {},
   "outputs": [
    {
     "name": "stdout",
     "output_type": "stream",
     "text": [
      "Process 1-th file: UCi2GvcaxZCN-61a0co8Smnw.json\n",
      "Process 2-th file: UCuLKTkYGCXako3wMktwrbkQ.json\n",
      "Process 3-th file: UCqripRcC8scod22F5NKvLcQ.json\n",
      "Process 4-th file: UCKBBMJ8YNWQTUKQ8PtGDb2Q.json\n",
      "Process 5-th file: UCgL6J6oL8F69vm-GcPScmwg.json\n",
      "Process 6-th file: UCHAL5c5PrCSA4ExAlY_gLuQ.json\n",
      "Process 7-th file: UCiEHmW7zRRZIjBsOKZ4s5AA.json\n",
      "Process 8-th file: UC6VKHP606ee6ffKwKmBHSig.json\n",
      "Process 9-th file: UCgDQKFV2rMNzTE8Y3rHMVbQ.json\n",
      "Process 10-th file: UCRevYqA7N-NrSCGSm5k-KlA.json\n",
      "Process 11-th file: UCmArFxfDybtCbo0Fa0Z2xxA.json\n",
      "Process 12-th file: UCampQmnDSpJNJcs_5m57W4w.json\n",
      "Process 13-th file: UCxUzQ3wu0oJP_8YLWt71WgQ.json\n",
      "Process 14-th file: UCtcaZ5FUqaNXGX6xhpiGPQA.json\n",
      "Process 15-th file: UC_XRq7JriAORvDe1lI1RAsA.json\n",
      "Process 16-th file: UCjqAuT-giO8fjQqnNl1dDUw.json\n",
      "Process 17-th file: UCmV89JP1Fx5jTAMYjmpJMQg.json\n",
      "Process 18-th file: UCqxRJpX52Q0nxcHf7hqdJMA.json\n",
      "Process 19-th file: UCEfetJrzg6OcXWWuX8uhdhw.json\n",
      "Process 20-th file: UC9sB4o4zIoQttSvvQu03W4g.json\n",
      "Process 21-th file: UCTBGYuRybj2SqG2Mqd52Rzg.json\n",
      "Process 22-th file: UC6ZHLoydvIPevb_A5M88L4A.json\n",
      "Process 23-th file: UCD2KoUc0f4Bv2Bz0mbOah8g.json\n",
      "Process 24-th file: UCZVCbj9weVNAWqXS9gnfm5A.json\n",
      "Process 25-th file: UCiiS3Rp6cLZs4qmM3lb8H2A.json\n",
      "Process 26-th file: UCVw4CvsOUuVJpFyW_VPnIBQ.json\n",
      "Process 27-th file: UCcb9uxCoIgw7RQjQnlgd0Xw.json\n",
      "Process 28-th file: UCgHUl1pwUVfrX8QotB-t2gQ.json\n",
      "Process 29-th file: UCBY6NwU6OpYQiPYR1urdF0g.json\n",
      "Process 30-th file: UCFahBR2wixu0xOex84bXFvg.json\n",
      "Process 31-th file: UCRrImi1CRog9dttI2nM8nPg.json\n",
      "Process 32-th file: UCa2rVH7Kefp6SAFBnkgTDKQ.json\n",
      "Process 33-th file: UCzjNxGvrqfxL9KGkObbzrmg.json\n",
      "Process 34-th file: UCr90FXGOO8nAE9B6FAUeTNA.json\n",
      "Process 35-th file: UCcKiojKWOF0Tm7tRrXFSf7Q.json\n",
      "Process 36-th file: UC2YzkP3mTlfcQ-MNO5cVatA.json\n",
      "Process 37-th file: UCPRWWKG0VkBA0Pqa4Jr5j0Q.json\n",
      "Process 38-th file: UCj_z-Zeqk8LfwVxx0MUdL-Q.json\n",
      "Process 39-th file: UCASyx3HfuTLsuFoxXj_qexw.json\n",
      "Process 40-th file: UCIfiMAj8DovfeFZ_e0fDH_g.json\n",
      "Process 41-th file: UCjaV0KhRFhnceJ2e_fDDPew.json\n",
      "Process 42-th file: UC3LBFXbWtEBdOOUb8-qJm9Q.json\n",
      "Process 43-th file: UCESIRUtUaGfqWCgljB1EB2A.json\n",
      "Process 44-th file: UCizhMTp9vKkpdcbqVLdDmdA.json\n",
      "Process 45-th file: UCpLZwIVLHGwmffU3ciWZF5Q.json\n",
      "Process 46-th file: UC7SHHIlKiJs_-ORerKPL1kA.json\n",
      "Process 47-th file: UCAKJ0tmI_RMXqTgxL_OMfIg.json\n",
      "Process 48-th file: UC0oosHZ4k1o-zNT21gg5O7A.json\n",
      "Process 49-th file: UCaUcURAQ_xVbqQkhPTp1hxw.json\n",
      "Process 50-th file: UCIF_gt4BfsWyM_2GOcKXyEQ.json\n",
      "Process 51-th file: UCi7eKRJZvxMhwhiWyARZtjg.json\n",
      "Process 52-th file: UCSR9CHNMIg7YoNezbv4bh0A.json\n",
      "Process 53-th file: UCpSB70OL7IO7RnZCj_7MQDw.json\n",
      "Process 54-th file: UC5g6Y9boEjLQEFCQckpNOnw.json\n",
      "Process 55-th file: UCGbpr46Y8aDyO2s_W_3SfkA.json\n",
      "Process 56-th file: UCJM_OTvzTrkZbYEq4GKVuOQ.json\n",
      "Process 57-th file: UCs3grmREeegKmLEFvqRPN9A.json\n",
      "Process 58-th file: UC4kXdDgmzrycOUk9ONnE03w.json\n",
      "Process 59-th file: UCFsNxYnUEs4tcqyddJhW43g.json\n",
      "Process 60-th file: UCnJEWsS5agXCkqIpyHC9Grg.json\n",
      "Process 61-th file: UCsBP1dmKYfcorJ17kfOUTvg.json\n",
      "Process 62-th file: UC99AIUi4psZ98Khq_qU5Hpw.json\n",
      "Process 63-th file: UC0SkNQXPJ60hKEFubOz0fDA.json\n",
      "Process 64-th file: UCOhvluFPMWqPxgVH3edamuw.json\n",
      "Process 65-th file: UC7XxnhjdYjiQJ3m80K_N_4g.json\n",
      "Process 66-th file: UCQYP5GHzgFN3CEisDxVlq_w.json\n",
      "Process 67-th file: UC2SmF-JiJfPbod2MuW-Drcg.json\n",
      "Process 68-th file: UCvLFHI0hvfT3OplpN1LlYZQ.json\n",
      "Process 69-th file: UCSQDBUyq0Pqko3TFcPrMZAg.json\n",
      "Process 70-th file: UCjL1yWauBeI6WoQNVLyxwqQ.json\n",
      "Process 71-th file: UCRG28JCnJwuZH06ETKTTZdA.json\n",
      "Process 72-th file: UC646q2ytynnDxVrwp9DIdRw.json\n",
      "Process 73-th file: UCtSSBoYwD-yEkhvNdH0Zy3w.json\n",
      "Process 74-th file: UCbcFvHTFnj2cUiJXY6yUW9A.json\n",
      "Process 75-th file: UC4Aclpo5YyXbKPeiZNO_uiw.json\n",
      "Process 76-th file: UCpn4hJMADMmKJb5mzWBzBmw.json\n",
      "Process 77-th file: UCpK3cV8Anly7B9_BmbikPuw.json\n",
      "Process 78-th file: UCqAYPUHgXuzsNlYNIzItfAQ.json\n",
      "Process 79-th file: UCngJawDcrvMgdiyCe8y7dBg.json\n",
      "Process 80-th file: UCAYrMNl92jw6cpjdpBP8JyA.json\n",
      "Process 81-th file: UCCBq7s8VOCyek275uvq5lYQ.json\n",
      "Process 82-th file: UCPwxSX0DYDMQxCvgfeVDv_g.json\n",
      "Process 83-th file: UCWGGwv7agoMmd3BAu4Fv3jQ.json\n",
      "Process 84-th file: UCMIf0lFsh_US3VWCClK7IcQ.json\n",
      "Process 85-th file: UCcJLFVxbVM3bBcQjLAHV8BQ.json\n",
      "Process 86-th file: UCPQHNRYnByAjrvNrp4jTnug.json\n",
      "Process 87-th file: UCCrwpId4G9sRQjLHaUv90YA.json\n",
      "Process 88-th file: UCK3Ycl9dcHk0qz8yoN-6phA.json\n",
      "Process 89-th file: UCZn_4OK5Y8FfxajCaX4AZ_Q.json\n",
      "Process 90-th file: UCO3r3FllELijijdytnR43NA.json\n",
      "Process 91-th file: UCCiHkDeLmI90nzyOB_QPFsg.json\n",
      "Process 92-th file: UCQnLSZsCBduM7bhwIfyeHZg.json\n",
      "Process 93-th file: UC_b0MqDI2TwFBFPu6aYys2g.json\n",
      "Process 94-th file: UCDrswN-SqWh7Kii62h9aXGA.json\n",
      "Process 95-th file: UCqWf9XDNyh7ePbM25QfsnOQ.json\n",
      "Process 96-th file: UCeo3JwE3HezUWFdVcehQk9Q.json\n",
      "Process 97-th file: UCnfPDcASesYjcO5u-ELnb-Q.json\n",
      "Process 98-th file: UCPc04yosaJUFwu7zfpms4ag.json\n",
      "Process 99-th file: UCZqsvi6uhFrbsJcAmcZudcQ.json\n",
      "Process 100-th file: UC1u3lAqrBvum-sj5gXDpXOg.json\n",
      "Process 101-th file: UCpeO0XgFYFc-l7lqwH6eQiQ.json\n",
      "Process 102-th file: UCSckEwXBJmJEUzIo6NplQ5g.json\n",
      "Process 103-th file: UCclEnpUoaP35pnvWvYmnODA.json\n",
      "Process 104-th file: UCzxN4G3s9uR9ao5_O5DoXmA.json\n",
      "Process 105-th file: UCzJ_FzSb4feYyQEUDoVktUQ.json\n",
      "Process 106-th file: UCwxjIrUCgWmOKN1oDqiL_lA.json\n",
      "Process 107-th file: UCAsviiS5DE0pcuvxPRrrAzQ.json\n",
      "Process 108-th file: UCGGrblndNzi86WY5lJkQJiA.json\n",
      "Process 109-th file: UC8zkK0-g8S8Z_t8ZjUmpAlA.json\n",
      "Process 110-th file: UC9i2Qgd5lizhVgJrdnxunKw.json\n",
      "Process 111-th file: UCMUnInmOkrWN4gof9KlhNmQ.json\n",
      "Process 112-th file: UCpgt8SEyAy5tbr9BzVK8Lsg.json\n",
      "Process 113-th file: UC3-I23qIQk-2rwi7cnntIJA.json\n",
      "Process 114-th file: UC6FcYHEm7SO1jpu5TKjNXEA.json\n",
      "Process 115-th file: UCPQn3qT8xyTqckpMWmmt-Ww.json\n",
      "Process 116-th file: UC3rrCl8CcCFDCI9Ti2rHsnw.json\n",
      "Process 117-th file: UC9YOQFPfEUXbulKDtxeqqBA.json\n",
      "Process 118-th file: UC32azU7iLL7dqPcXIcaPHow.json\n",
      "Process 119-th file: UCiWXd0nmBjlKROwzMyPV-Nw.json\n",
      "Process 120-th file: UCA2qvunXtkK3SUVxfOGiobA.json\n",
      "Process 121-th file: UCXpxKdZAiyUEaTkoCPpEZzg.json\n",
      "Process 122-th file: UCJWXJTaLqI5KBnJuaXbCaTg.json\n",
      "Process 123-th file: UCAfcy122TZHqDQMMAwfbvBQ.json\n",
      "Process 124-th file: UC6IMF6xi_MZ3jA1wRlPQDLA.json\n",
      "Process 125-th file: UCMy0L5Y-h0-s8t4XZs49gXw.json\n",
      "Process 126-th file: UCcBLVExMJRTwgK_Z5TLlUCA.json\n",
      "Process 127-th file: UCsc1dZtJfAsWegx-Ri7BElw.json\n",
      "Process 128-th file: UCL4KZXY5dvn3mf2H8NmJt0g.json\n",
      "Process 129-th file: UCV0RcLpmv9gQum7fylsoaoA.json\n",
      "Process 130-th file: UCCSZ1P-Gas8IIgzXAwV0YFA.json\n",
      "Process 131-th file: UCTqPBBnP2T57kmiPQ87986g.json\n",
      "Process 132-th file: UCI7ktPB6toqucpkkCiolwLg.json\n",
      "Process 133-th file: UC3o2KSr5rbnttYMkUOowEFA.json\n",
      "Process 134-th file: UCa7KELKe1u9mQ5jWMdIB-HQ.json\n",
      "Process 135-th file: UCV1OpUwWJCMiv6gJCRR6yAg.json\n",
      "Process 136-th file: UCeB5UXWltaHtGoxkwGXLzpg.json\n",
      "Process 137-th file: UCHUk3vcQX9KQaTDZH0myMNQ.json\n",
      "Process 138-th file: UCK7LdglLCApOTaylxX8hW2Q.json\n",
      "Process 139-th file: UCIdhd_1spj49unBWx1fjS2A.json\n",
      "Process 140-th file: UCiewBSUlxrhoyn6oTNt0ilw.json\n",
      "Process 141-th file: UCaLNBrPrV_dd_UzxIK5Dthg.json\n",
      "Process 142-th file: UCVgSIphlguVXSP_RzQtyFbA.json\n",
      "Process 143-th file: UCbIJeyl_va8MG2xx0q4Uobg.json\n",
      "Process 144-th file: UCGpNjY0Xq2GJLXh4OOX1LOA.json\n",
      "Process 145-th file: UC24h-JBUHXT5HXIK_9cWOmQ.json\n",
      "Process 146-th file: UCTOA5N3AbUAVSWrSjlK5A2g.json\n",
      "Process 147-th file: UC0Q-fBheHysYWz9ObSEzMdA.json\n",
      "Process 148-th file: UCNT8D7CM00RLnhHDmMtpSOA.json\n",
      "Process 149-th file: UCRm_PQqRwiwA7g8bqCoPH9A.json\n",
      "Process 150-th file: UCLW_SzI9txZvtOFTPDswxqg.json\n",
      "Process 151-th file: UC1r3izmM5-Pf1NT55Yo1alA.json\n",
      "Process 152-th file: UCvcZO0cvDT3rzKtfakL3R5Q.json\n",
      "Process 153-th file: UCV_S2S-Zs8LeuJxK-T3RQQg.json\n",
      "Process 154-th file: UCe6CWVeGe1bD48LyUrWvCbQ.json\n",
      "Process 155-th file: UC0KD8LvHG4CgohsRZzzCQSw.json\n",
      "Process 156-th file: UCUy-lBPiJYWXTvfYHiCb_-A.json\n",
      "Process 157-th file: UCjhwHd3mgmqm0ONm0bXKmng.json\n",
      "Process 158-th file: UCBfjVXtkFr7lNFlVp93SeQg.json\n",
      "Process 159-th file: UCWOZ2ZbfSI3OWhVp7LysEZw.json\n",
      "Process 160-th file: UCJ6rlGjE5pO0SqMOfxBUrhQ.json\n",
      "Process 161-th file: UCw2W7GIqJNB-UMUxncnMuiw.json\n",
      "Process 162-th file: UChX5JaALoA1o80Cc5zkQz_Q.json\n",
      "Process 163-th file: UCtTg9DVdsK6ECR8qLt7qbJA.json\n",
      "Process 164-th file: UCEjplHocsRiH0HmJHxEaZoQ.json\n",
      "Process 165-th file: UC2tRcusVoXSGqUcSu1GO4Ng.json\n",
      "Process 166-th file: UCBCGkO6uBZdrNbuP4qrm5CA.json\n"
     ]
    }
   ],
   "source": [
    "# Read channel files\n",
    "channels = []\n",
    "for i, channel_filename in enumerate(os.listdir(channel_src_path), start=1):\n",
    "    channel_filepath= os.path.join(channel_src_path, channel_filename)\n",
    "    print(f\"Process {i}-th file: {channel_filename}\")\n",
    "    with open(channel_filepath, \"r\") as json_file:\n",
    "        channel_data = json.load(json_file)\n",
    "        channel_data[\"topic_categories\"] = [channel_data[\"topic_categories\"]] # Convert 1D list to 2D list\n",
    "        channel_data[\"all_video_ids\"] = [channel_data[\"all_video_ids\"]] # Convert 1D list to 2D list\n",
    "        channel_data = pd.DataFrame(channel_data)\n",
    "        channels.append(channel_data)\n",
    "\n",
    "# Merge channel files\n",
    "channels = functools.reduce(lambda left, right: pd.concat([left, right], axis=\"index\", ignore_index=True), channels)"
   ]
  },
  {
   "cell_type": "code",
   "execution_count": 6,
   "id": "discrete-tracy",
   "metadata": {},
   "outputs": [],
   "source": [
    "# Preprocess channel dataframe\n",
    "# 1) Convert datetime\n",
    "channels[\"published_at\"] = pd.to_datetime(channels[\"published_at\"]).dt.tz_convert(None)\n",
    "channels[\"crawled_datetime\"] = pd.to_datetime(channels[\"crawled_datetime\"])\n",
    "# 2) Clean keyword column\n",
    "channels[\"keywords\"] = (channels[\"keywords\"]\n",
    "         .str.split(r\"\"\"((?:[^ \"]|\"[^\"]*\")+)\"\"\")                # Split on spaces except those in double quotes\n",
    "         .apply(lambda x: x[1::2] if x is not None else [])      # Get every two elements (to remove elements that are spaces or empty strings)\n",
    "         .apply(lambda x: [s.replace('\"', '') for s in x])       # Remove elements that are double quotes          \n",
    ")\n",
    "# 3) Clean topic_categories column\n",
    "channels[\"topic_categories\"] = [[link.split(\"/\")[-1] for link in lst] \n",
    "                                    if lst is not None else None \n",
    "                                for lst in channels[\"topic_categories\"].values]\n",
    "# 3) Cast non-string data types\n",
    "channels[\"country\"] = channels[\"country\"].astype(\"category\")\n",
    "\n",
    "channels[\"view_count\"] = channels[\"view_count\"].astype(int)\n",
    "channels[\"subscriber_count\"] = channels[\"subscriber_count\"].astype(int)\n",
    "channels[\"video_count\"] = channels[\"video_count\"].astype(int)\n",
    "\n",
    "channels[\"ishidden_subscriber_count\"] = channels[\"ishidden_subscriber_count\"].astype(bool)\n",
    "\n",
    "channels = channels.rename(columns={\"channelTitle\": \"channel_title\"}) # To be removed"
   ]
  },
  {
   "cell_type": "code",
   "execution_count": 7,
   "id": "incorporated-strip",
   "metadata": {},
   "outputs": [
    {
     "data": {
      "text/plain": [
       "True"
      ]
     },
     "execution_count": 7,
     "metadata": {},
     "output_type": "execute_result"
    }
   ],
   "source": [
    "len(os.listdir(channel_src_path)) == channels.shape[0]"
   ]
  },
  {
   "cell_type": "code",
   "execution_count": 23,
   "id": "hazardous-growing",
   "metadata": {},
   "outputs": [],
   "source": [
    "channels[\"title\"] = channels.title.str.replace(\"Annie Singing\", \"魚乾\")"
   ]
  },
  {
   "cell_type": "code",
   "execution_count": 28,
   "id": "miniature-protein",
   "metadata": {},
   "outputs": [],
   "source": [
    "# Save as parquet\n",
    "channel_des_filepath = os.path.join(channel_des_path, \"channels.parquet\")\n",
    "channels.to_parquet(channel_des_filepath)"
   ]
  },
  {
   "cell_type": "code",
   "execution_count": 29,
   "id": "mounted-kansas",
   "metadata": {},
   "outputs": [
    {
     "data": {
      "text/plain": [
       "131080"
      ]
     },
     "execution_count": 29,
     "metadata": {},
     "output_type": "execute_result"
    }
   ],
   "source": [
    "channels.all_video_ids.apply(len).sum()"
   ]
  },
  {
   "cell_type": "code",
   "execution_count": null,
   "id": "central-validity",
   "metadata": {},
   "outputs": [],
   "source": []
  },
  {
   "cell_type": "markdown",
   "id": "bigger-russia",
   "metadata": {},
   "source": [
    "# Merge & Save Video Data (as a Parquet File)"
   ]
  },
  {
   "cell_type": "code",
   "execution_count": 10,
   "id": "smart-representation",
   "metadata": {},
   "outputs": [],
   "source": [
    "# Set up paths to read from\n",
    "new_video_src_path = [video_path for video_path in os.listdir(video_src_path) if video_path.endswith(\"_new.json\")]\n",
    "duplicate_video_paths = [new_vid_path[:-9] + \".json\" for new_vid_path in new_video_src_path]\n",
    "all_vid_paths_no_duplicates = [vid_path for vid_path in os.listdir(video_src_path) if vid_path not in duplicate_video_paths]"
   ]
  },
  {
   "cell_type": "code",
   "execution_count": 11,
   "id": "nominated-proxy",
   "metadata": {},
   "outputs": [
    {
     "data": {
      "text/plain": [
       "166"
      ]
     },
     "execution_count": 11,
     "metadata": {},
     "output_type": "execute_result"
    },
    {
     "data": {
      "text/plain": [
       "217"
      ]
     },
     "execution_count": 11,
     "metadata": {},
     "output_type": "execute_result"
    },
    {
     "data": {
      "text/plain": [
       "166"
      ]
     },
     "execution_count": 11,
     "metadata": {},
     "output_type": "execute_result"
    }
   ],
   "source": [
    "# Check if duplicate path correcty removed\n",
    "len(duplicate_video_paths)\n",
    "len(os.listdir(video_src_path))\n",
    "len(all_vid_paths_no_duplicates)"
   ]
  },
  {
   "cell_type": "code",
   "execution_count": 13,
   "id": "ready-basement",
   "metadata": {},
   "outputs": [
    {
     "name": "stdout",
     "output_type": "stream",
     "text": [
      "Process 1-th file: UCa7KELKe1u9mQ5jWMdIB-HQ_videos_new.json\n",
      "Process 2-th file: UC9YOQFPfEUXbulKDtxeqqBA_videos_new.json\n",
      "Process 3-th file: UCOhvluFPMWqPxgVH3edamuw_videos_new.json\n",
      "Process 4-th file: UCgL6J6oL8F69vm-GcPScmwg_videos_new.json\n",
      "Process 5-th file: UCWGGwv7agoMmd3BAu4Fv3jQ_videos_new.json\n",
      "Process 6-th file: UCclEnpUoaP35pnvWvYmnODA_videos_new.json\n",
      "Process 7-th file: UCJ6rlGjE5pO0SqMOfxBUrhQ_videos_new.json\n",
      "Process 8-th file: UC0SkNQXPJ60hKEFubOz0fDA_videos_new.json\n",
      "Process 9-th file: UCDrswN-SqWh7Kii62h9aXGA_videos_new.json\n",
      "Process 10-th file: UCPwxSX0DYDMQxCvgfeVDv_g_videos_new.json\n",
      "Process 11-th file: UCMIf0lFsh_US3VWCClK7IcQ_videos_new.json\n",
      "Process 12-th file: UCESIRUtUaGfqWCgljB1EB2A_videos_new.json\n",
      "Process 13-th file: UCMy0L5Y-h0-s8t4XZs49gXw_videos_new.json\n",
      "Process 14-th file: UC0KD8LvHG4CgohsRZzzCQSw_videos_new.json\n",
      "Process 15-th file: UC6ZHLoydvIPevb_A5M88L4A_videos_new.json\n",
      "Process 16-th file: UCeB5UXWltaHtGoxkwGXLzpg_videos_new.json\n",
      "Process 17-th file: UCZVCbj9weVNAWqXS9gnfm5A_videos_new.json\n",
      "Process 18-th file: UCUy-lBPiJYWXTvfYHiCb_-A_videos_new.json\n",
      "Process 19-th file: UCiiS3Rp6cLZs4qmM3lb8H2A_videos_new.json\n",
      "Process 20-th file: UCBY6NwU6OpYQiPYR1urdF0g_videos_new.json\n",
      "Process 21-th file: UC3-I23qIQk-2rwi7cnntIJA_videos_new.json\n",
      "Process 22-th file: UC1r3izmM5-Pf1NT55Yo1alA_videos_new.json\n",
      "Process 23-th file: UC9sB4o4zIoQttSvvQu03W4g_videos_new.json\n",
      "Process 24-th file: UC1u3lAqrBvum-sj5gXDpXOg_videos_new.json\n",
      "Process 25-th file: UCbIJeyl_va8MG2xx0q4Uobg_videos_new.json\n",
      "Process 26-th file: UCpeO0XgFYFc-l7lqwH6eQiQ_videos_new.json\n",
      "Process 27-th file: UCmArFxfDybtCbo0Fa0Z2xxA_videos_new.json\n",
      "Process 28-th file: UCGGrblndNzi86WY5lJkQJiA_videos_new.json\n",
      "Process 29-th file: UCSQDBUyq0Pqko3TFcPrMZAg_videos_new.json\n",
      "Process 30-th file: UCJWXJTaLqI5KBnJuaXbCaTg_videos_new.json\n",
      "Process 31-th file: UCZn_4OK5Y8FfxajCaX4AZ_Q_videos_new.json\n",
      "Process 32-th file: UC3rrCl8CcCFDCI9Ti2rHsnw_videos_new.json\n",
      "Process 33-th file: UC24h-JBUHXT5HXIK_9cWOmQ_videos_new.json\n",
      "Process 34-th file: UCA2qvunXtkK3SUVxfOGiobA_videos_new.json\n",
      "Process 35-th file: UCV_S2S-Zs8LeuJxK-T3RQQg_videos_new.json\n",
      "Process 36-th file: UCtTg9DVdsK6ECR8qLt7qbJA_videos_new.json\n",
      "Process 37-th file: UC2SmF-JiJfPbod2MuW-Drcg_videos_new.json\n",
      "Process 38-th file: UCSckEwXBJmJEUzIo6NplQ5g_videos_new.json\n",
      "Process 39-th file: UCpK3cV8Anly7B9_BmbikPuw_videos_new.json\n",
      "Process 40-th file: UCAYrMNl92jw6cpjdpBP8JyA_videos_new.json\n",
      "Process 41-th file: UCEjplHocsRiH0HmJHxEaZoQ_videos_new.json\n",
      "Process 42-th file: UCxUzQ3wu0oJP_8YLWt71WgQ_videos_new.json\n",
      "Process 43-th file: UCqxRJpX52Q0nxcHf7hqdJMA_videos_new.json\n",
      "Process 44-th file: UCsc1dZtJfAsWegx-Ri7BElw_videos_new.json\n",
      "Process 45-th file: UCIfiMAj8DovfeFZ_e0fDH_g_videos_new.json\n",
      "Process 46-th file: UCvcZO0cvDT3rzKtfakL3R5Q_videos_new.json\n",
      "Process 47-th file: UCV0RcLpmv9gQum7fylsoaoA_videos_new.json\n",
      "Process 48-th file: UCi2GvcaxZCN-61a0co8Smnw_videos_new.json\n",
      "Process 49-th file: UCBCGkO6uBZdrNbuP4qrm5CA_videos_new.json\n",
      "Process 50-th file: UCK7LdglLCApOTaylxX8hW2Q_videos_new.json\n",
      "Process 51-th file: UCiWXd0nmBjlKROwzMyPV-Nw_videos_new.json\n",
      "Process 52-th file: UCEfetJrzg6OcXWWuX8uhdhw_videos_new.json\n",
      "Process 53-th file: UC_XRq7JriAORvDe1lI1RAsA_videos_new.json\n",
      "Process 54-th file: UCCrwpId4G9sRQjLHaUv90YA_videos_new.json\n",
      "Process 55-th file: UC8zkK0-g8S8Z_t8ZjUmpAlA_videos_new.json\n",
      "Process 56-th file: UC3o2KSr5rbnttYMkUOowEFA_videos_new.json\n",
      "Process 57-th file: UCngJawDcrvMgdiyCe8y7dBg_videos_new.json\n",
      "Process 58-th file: UCASyx3HfuTLsuFoxXj_qexw_videos_new.json\n",
      "Process 59-th file: UCCSZ1P-Gas8IIgzXAwV0YFA_videos_new.json\n",
      "Process 60-th file: UCPQHNRYnByAjrvNrp4jTnug_videos_new.json\n",
      "Process 61-th file: UC_b0MqDI2TwFBFPu6aYys2g_videos_new.json\n",
      "Process 62-th file: UCcBLVExMJRTwgK_Z5TLlUCA_videos_new.json\n",
      "Process 63-th file: UCgDQKFV2rMNzTE8Y3rHMVbQ_videos_new.json\n",
      "Process 64-th file: UCTBGYuRybj2SqG2Mqd52Rzg_videos_new.json\n",
      "Process 65-th file: UC646q2ytynnDxVrwp9DIdRw_videos_new.json\n",
      "Process 66-th file: UCTOA5N3AbUAVSWrSjlK5A2g_videos_new.json\n",
      "Process 67-th file: UCHAL5c5PrCSA4ExAlY_gLuQ_videos_new.json\n",
      "Process 68-th file: UC2tRcusVoXSGqUcSu1GO4Ng_videos_new.json\n",
      "Process 69-th file: UCpLZwIVLHGwmffU3ciWZF5Q_videos_new.json\n",
      "Process 70-th file: UC2YzkP3mTlfcQ-MNO5cVatA_videos_new.json\n",
      "Process 71-th file: UCGpNjY0Xq2GJLXh4OOX1LOA_videos_new.json\n",
      "Process 72-th file: UCWOZ2ZbfSI3OWhVp7LysEZw_videos_new.json\n",
      "Process 73-th file: UCNT8D7CM00RLnhHDmMtpSOA_videos_new.json\n",
      "Process 74-th file: UCIdhd_1spj49unBWx1fjS2A_videos_new.json\n",
      "Process 75-th file: UC4Aclpo5YyXbKPeiZNO_uiw_videos_new.json\n",
      "Process 76-th file: UCPRWWKG0VkBA0Pqa4Jr5j0Q_videos_new.json\n",
      "Process 77-th file: UCgHUl1pwUVfrX8QotB-t2gQ_videos_new.json\n",
      "Process 78-th file: UCnfPDcASesYjcO5u-ELnb-Q_videos_new.json\n",
      "Process 79-th file: UCuLKTkYGCXako3wMktwrbkQ_videos_new.json\n",
      "Process 80-th file: UCZqsvi6uhFrbsJcAmcZudcQ_videos_new.json\n",
      "Process 81-th file: UC6IMF6xi_MZ3jA1wRlPQDLA_videos_new.json\n",
      "Process 82-th file: UCSR9CHNMIg7YoNezbv4bh0A_videos_new.json\n",
      "Process 83-th file: UC6FcYHEm7SO1jpu5TKjNXEA_videos_new.json\n",
      "Process 84-th file: UC0oosHZ4k1o-zNT21gg5O7A_videos_new.json\n",
      "Process 85-th file: UCiEHmW7zRRZIjBsOKZ4s5AA_videos_new.json\n",
      "Process 86-th file: UCFsNxYnUEs4tcqyddJhW43g_videos_new.json\n",
      "Process 87-th file: UCcKiojKWOF0Tm7tRrXFSf7Q_videos_new.json\n",
      "Process 88-th file: UCK3Ycl9dcHk0qz8yoN-6phA_videos_new.json\n",
      "Process 89-th file: UCqAYPUHgXuzsNlYNIzItfAQ_videos_new.json\n",
      "Process 90-th file: UC7XxnhjdYjiQJ3m80K_N_4g_videos_new.json\n",
      "Process 91-th file: UC32azU7iLL7dqPcXIcaPHow_videos_new.json\n",
      "Process 92-th file: UCCBq7s8VOCyek275uvq5lYQ_videos_new.json\n",
      "Process 93-th file: UCsBP1dmKYfcorJ17kfOUTvg_videos_new.json\n",
      "Process 94-th file: UCRG28JCnJwuZH06ETKTTZdA_videos_new.json\n",
      "Process 95-th file: UCzjNxGvrqfxL9KGkObbzrmg_videos_new.json\n",
      "Process 96-th file: UCizhMTp9vKkpdcbqVLdDmdA_videos_new.json\n",
      "Process 97-th file: UCQnLSZsCBduM7bhwIfyeHZg_videos_new.json\n",
      "Process 98-th file: UCtSSBoYwD-yEkhvNdH0Zy3w_videos_new.json\n",
      "Process 99-th file: UCAsviiS5DE0pcuvxPRrrAzQ_videos_new.json\n",
      "Process 100-th file: UCaUcURAQ_xVbqQkhPTp1hxw_videos_new.json\n",
      "Process 101-th file: UCXpxKdZAiyUEaTkoCPpEZzg_videos_new.json\n",
      "Process 102-th file: UC0Q-fBheHysYWz9ObSEzMdA_videos_new.json\n",
      "Process 103-th file: UCD2KoUc0f4Bv2Bz0mbOah8g_videos_new.json\n",
      "Process 104-th file: UCVw4CvsOUuVJpFyW_VPnIBQ_videos_new.json\n",
      "Process 105-th file: UC9i2Qgd5lizhVgJrdnxunKw_videos_new.json\n",
      "Process 106-th file: UCa2rVH7Kefp6SAFBnkgTDKQ_videos_new.json\n",
      "Process 107-th file: UCGbpr46Y8aDyO2s_W_3SfkA_videos_new.json\n",
      "Process 108-th file: UCL4KZXY5dvn3mf2H8NmJt0g_videos_new.json\n",
      "Process 109-th file: UCI7ktPB6toqucpkkCiolwLg_videos_new.json\n",
      "Process 110-th file: UCvLFHI0hvfT3OplpN1LlYZQ_videos_new.json\n",
      "Process 111-th file: UCjL1yWauBeI6WoQNVLyxwqQ_videos_new.json\n",
      "Process 112-th file: UCeo3JwE3HezUWFdVcehQk9Q_videos_new.json\n",
      "Process 113-th file: UCPc04yosaJUFwu7zfpms4ag_videos_new.json\n",
      "Process 114-th file: UCpn4hJMADMmKJb5mzWBzBmw_videos_new.json\n",
      "Process 115-th file: UC5g6Y9boEjLQEFCQckpNOnw_videos_new.json\n",
      "Process 116-th file: UCqWf9XDNyh7ePbM25QfsnOQ_videos_new.json\n",
      "Process 117-th file: UCe6CWVeGe1bD48LyUrWvCbQ_videos_new.json\n",
      "Process 118-th file: UCaLNBrPrV_dd_UzxIK5Dthg_videos_new.json\n",
      "Process 119-th file: UC99AIUi4psZ98Khq_qU5Hpw_videos_new.json\n",
      "Process 120-th file: UCBfjVXtkFr7lNFlVp93SeQg_videos_new.json\n",
      "Process 121-th file: UCi7eKRJZvxMhwhiWyARZtjg_videos_new.json\n",
      "Process 122-th file: UCzJ_FzSb4feYyQEUDoVktUQ_videos_new.json\n",
      "Process 123-th file: UCampQmnDSpJNJcs_5m57W4w_videos_new.json\n",
      "Process 124-th file: UCnJEWsS5agXCkqIpyHC9Grg_videos_new.json\n",
      "Process 125-th file: UCMUnInmOkrWN4gof9KlhNmQ_videos_new.json\n",
      "Process 126-th file: UC4kXdDgmzrycOUk9ONnE03w_videos_new.json\n",
      "Process 127-th file: UChX5JaALoA1o80Cc5zkQz_Q_videos_new.json\n",
      "Process 128-th file: UCbcFvHTFnj2cUiJXY6yUW9A_videos_new.json\n",
      "Process 129-th file: UCcb9uxCoIgw7RQjQnlgd0Xw_videos_new.json\n",
      "Process 130-th file: UCCiHkDeLmI90nzyOB_QPFsg_videos_new.json\n",
      "Process 131-th file: UCjqAuT-giO8fjQqnNl1dDUw_videos_new.json\n",
      "Process 132-th file: UCzxN4G3s9uR9ao5_O5DoXmA_videos_new.json\n",
      "Process 133-th file: UCqripRcC8scod22F5NKvLcQ_videos_new.json\n",
      "Process 134-th file: UCpgt8SEyAy5tbr9BzVK8Lsg_videos_new.json\n",
      "Process 135-th file: UCj_z-Zeqk8LfwVxx0MUdL-Q_videos_new.json\n",
      "Process 136-th file: UCKBBMJ8YNWQTUKQ8PtGDb2Q_videos_new.json\n",
      "Process 137-th file: UCjhwHd3mgmqm0ONm0bXKmng_videos_new.json\n",
      "Process 138-th file: UCw2W7GIqJNB-UMUxncnMuiw_videos_new.json\n",
      "Process 139-th file: UCtcaZ5FUqaNXGX6xhpiGPQA_videos_new.json\n",
      "Process 140-th file: UCFahBR2wixu0xOex84bXFvg_videos_new.json\n",
      "Process 141-th file: UC3LBFXbWtEBdOOUb8-qJm9Q_videos_new.json\n",
      "Process 142-th file: UCTqPBBnP2T57kmiPQ87986g_videos_new.json\n",
      "Process 143-th file: UC7SHHIlKiJs_-ORerKPL1kA_videos_new.json\n",
      "Process 144-th file: UCV1OpUwWJCMiv6gJCRR6yAg_videos_new.json\n",
      "Process 145-th file: UCiewBSUlxrhoyn6oTNt0ilw_videos_new.json\n",
      "Process 146-th file: UCcJLFVxbVM3bBcQjLAHV8BQ_videos_new.json\n",
      "Process 147-th file: UCpSB70OL7IO7RnZCj_7MQDw_videos_new.json\n",
      "Process 148-th file: UCwxjIrUCgWmOKN1oDqiL_lA_videos_new.json\n",
      "Process 149-th file: UCPQn3qT8xyTqckpMWmmt-Ww_videos_new.json\n",
      "Process 150-th file: UCRevYqA7N-NrSCGSm5k-KlA_videos_new.json\n",
      "Process 151-th file: UCjaV0KhRFhnceJ2e_fDDPew_videos_new.json\n",
      "Process 152-th file: UCAKJ0tmI_RMXqTgxL_OMfIg_videos_new.json\n",
      "Process 153-th file: UCIF_gt4BfsWyM_2GOcKXyEQ_videos_new.json\n",
      "Process 154-th file: UCs3grmREeegKmLEFvqRPN9A_videos_new.json\n",
      "Process 155-th file: UCJM_OTvzTrkZbYEq4GKVuOQ_videos_new.json\n",
      "Process 156-th file: UCr90FXGOO8nAE9B6FAUeTNA_videos_new.json\n",
      "Process 157-th file: UCLW_SzI9txZvtOFTPDswxqg_videos_new.json\n",
      "Process 158-th file: UCVgSIphlguVXSP_RzQtyFbA_videos_new.json\n",
      "Process 159-th file: UCO3r3FllELijijdytnR43NA_videos_new.json\n",
      "Process 160-th file: UCRrImi1CRog9dttI2nM8nPg_videos_new.json\n",
      "Process 161-th file: UC6VKHP606ee6ffKwKmBHSig_videos_new.json\n",
      "Process 162-th file: UCmV89JP1Fx5jTAMYjmpJMQg_videos_new.json\n",
      "Process 163-th file: UCHUk3vcQX9KQaTDZH0myMNQ_videos_new.json\n",
      "Process 164-th file: UCQYP5GHzgFN3CEisDxVlq_w_videos_new.json\n",
      "Process 165-th file: UCRm_PQqRwiwA7g8bqCoPH9A_videos_new.json\n",
      "Process 166-th file: UCAfcy122TZHqDQMMAwfbvBQ_videos_new.json\n",
      "CPU times: user 11min 46s, sys: 27.8 s, total: 12min 14s\n",
      "Wall time: 11min 26s\n"
     ]
    }
   ],
   "source": [
    "%%time\n",
    "# Read video files\n",
    "videos = []\n",
    "def load_videos(args):\n",
    "    i, video_filename = args\n",
    "    print(f\"Process {i}-th file: {video_filename}\\n\", end=\"\")\n",
    "    video_filepath= os.path.join(video_src_path, video_filename)\n",
    "    with open(video_filepath, \"r\") as json_file:\n",
    "        video_data = json.load(json_file) # I/O-bound task\n",
    "        for video in video_data:\n",
    "            if not video:\n",
    "                continue\n",
    "            video[\"tags\"] = [video[\"tags\"]] # Convert 1D list to 2D list\n",
    "            video = pd.DataFrame(video).rename(columns={ # Rename columns\n",
    "                \"channelTitle\": \"channel_title\",\n",
    "                \"likeCount\": \"like_count\", \n",
    "                \"viewCount\": \"view_count\", \n",
    "                \"commentCount\": \"comment_count\"\n",
    "            })\n",
    "            videos.append(video)\n",
    "    \n",
    "with concurrent.futures.ThreadPoolExecutor(max_workers=len(all_vid_paths_no_duplicates)) as executer:\n",
    "    _ = executer.map(load_videos, enumerate(all_vid_paths_no_duplicates, start=1))"
   ]
  },
  {
   "cell_type": "code",
   "execution_count": 14,
   "id": "ranking-resource",
   "metadata": {},
   "outputs": [
    {
     "name": "stdout",
     "output_type": "stream",
     "text": [
      "CPU times: user 1min 4s, sys: 539 ms, total: 1min 4s\n",
      "Wall time: 1min 4s\n"
     ]
    }
   ],
   "source": [
    "%%time\n",
    "# Merge video files\n",
    "videos = pd.concat(videos, ignore_index=True) # O(N)\n",
    "# videos = functools.reduce(lambda left, right: pd.concat([left, right], axis=\"index\", ignore_index=True), videos) # O(N ** 2): 55 min"
   ]
  },
  {
   "cell_type": "code",
   "execution_count": 15,
   "id": "optimum-examination",
   "metadata": {},
   "outputs": [
    {
     "name": "stdout",
     "output_type": "stream",
     "text": [
      "CPU times: user 287 ms, sys: 0 ns, total: 287 ms\n",
      "Wall time: 285 ms\n"
     ]
    }
   ],
   "source": [
    "%%time\n",
    "# Preprocess videos dataframe\n",
    "# 1) Convert datetime\n",
    "videos[\"published_at\"] = pd.to_datetime(videos[\"published_at\"]).dt.tz_localize(None)\n",
    "videos[\"crawled_datetime\"] = pd.to_datetime(videos[\"crawled_datetime\"])"
   ]
  },
  {
   "cell_type": "code",
   "execution_count": 16,
   "id": "governmental-separate",
   "metadata": {},
   "outputs": [
    {
     "name": "stdout",
     "output_type": "stream",
     "text": [
      "CPU times: user 1.12 s, sys: 0 ns, total: 1.12 s\n",
      "Wall time: 1.11 s\n"
     ]
    }
   ],
   "source": [
    "%%time\n",
    "# 2) Clean duration column & Cast to pd.Timedelta\n",
    "videos[\"duration\"] = (\n",
    "    pd.to_timedelta(videos[\"duration\"].str.extract(r\"(\\d+)H\")[0].astype(float), unit=\"hour\", errors=\"coerce\").fillna(pd.Timedelta(hours=0))\n",
    "  + pd.to_timedelta(videos[\"duration\"].str.extract(r\"(\\d+)M\")[0].astype(float), unit=\"minute\", errors=\"coerce\").fillna(pd.Timedelta(minutes=0))\n",
    "  + pd.to_timedelta(videos[\"duration\"].str.extract(r\"(\\d+)S\")[0].astype(float), unit=\"seconds\", errors=\"coerce\").fillna(pd.Timedelta(seconds=0))\n",
    ").dt.total_seconds().astype(int)"
   ]
  },
  {
   "cell_type": "code",
   "execution_count": 17,
   "id": "animated-cotton",
   "metadata": {},
   "outputs": [
    {
     "name": "stdout",
     "output_type": "stream",
     "text": [
      "CPU times: user 713 ms, sys: 0 ns, total: 713 ms\n",
      "Wall time: 712 ms\n"
     ]
    }
   ],
   "source": [
    "%%time\n",
    "# 3) Cast non-string data types\n",
    "videos[\"category_id\"] = videos[\"category_id\"].astype(\"category\")\n",
    "videos[\"default_language\"] = videos[\"default_language\"].astype(\"category\")\n",
    "videos[\"default_audio_language\"] = videos[\"default_audio_language\"].astype(\"category\")\n",
    "videos[\"topic_categories\"] = videos[\"topic_categories\"].astype(\"category\")\n",
    "videos[\"definition\"] = videos[\"definition\"].astype(\"category\")\n",
    "videos[\"upload_status\"] = videos[\"upload_status\"].astype(\"category\")\n",
    "videos[\"privacy_status\"] = videos[\"privacy_status\"].astype(\"category\")\n",
    "\n",
    "videos[\"like_count\"] = videos[\"like_count\"].astype(float).astype(pd.Int64Dtype())\n",
    "videos[\"view_count\"] = videos[\"view_count\"].astype(float).astype(pd.Int64Dtype())\n",
    "videos[\"comment_count\"] = videos[\"comment_count\"].astype(float).astype(pd.Int64Dtype())\n",
    "\n",
    "videos[\"caption\"] = videos[\"caption\"].astype(bool)"
   ]
  },
  {
   "cell_type": "code",
   "execution_count": 18,
   "id": "black-island",
   "metadata": {},
   "outputs": [
    {
     "data": {
      "text/plain": [
       "(124535, 24)"
      ]
     },
     "execution_count": 18,
     "metadata": {},
     "output_type": "execute_result"
    },
    {
     "data": {
      "text/plain": [
       "(131048, 24)"
      ]
     },
     "execution_count": 18,
     "metadata": {},
     "output_type": "execute_result"
    },
    {
     "data": {
      "text/plain": [
       "False"
      ]
     },
     "execution_count": 18,
     "metadata": {},
     "output_type": "execute_result"
    }
   ],
   "source": [
    "# Check if becomes more & is subset of previous version\n",
    "video_parquet = pd.read_parquet(os.path.join(video_des_path, \"videos.parquet\"))\n",
    "video_parquet.shape\n",
    "videos.shape\n",
    "set(video_parquet[\"video_id\"]).issubset(set(videos[\"video_id\"]))"
   ]
  },
  {
   "cell_type": "code",
   "execution_count": 19,
   "id": "alive-safety",
   "metadata": {},
   "outputs": [
    {
     "data": {
      "text/plain": [
       "13"
      ]
     },
     "execution_count": 19,
     "metadata": {},
     "output_type": "execute_result"
    },
    {
     "data": {
      "text/plain": [
       "13"
      ]
     },
     "execution_count": 19,
     "metadata": {},
     "output_type": "execute_result"
    }
   ],
   "source": [
    "# Get missing videos\n",
    "missing_videos = video_parquet[~video_parquet[\"video_id\"].isin(videos[\"video_id\"])].copy()\n",
    "# Check if get all missing videos\n",
    "len(missing_videos)\n",
    "len(set(video_parquet[\"video_id\"]).difference(set(videos[\"video_id\"])))"
   ]
  },
  {
   "cell_type": "code",
   "execution_count": 20,
   "id": "worth-porter",
   "metadata": {},
   "outputs": [
    {
     "data": {
      "text/plain": [
       "True"
      ]
     },
     "execution_count": 20,
     "metadata": {},
     "output_type": "execute_result"
    }
   ],
   "source": [
    "set(videos[\"video_id\"]).issubset(set(pd.concat([videos, missing_videos])[\"video_id\"]))"
   ]
  },
  {
   "cell_type": "code",
   "execution_count": 21,
   "id": "trying-baking",
   "metadata": {},
   "outputs": [],
   "source": [
    "# Add missing videos\n",
    "videos = pd.concat([videos, missing_videos])"
   ]
  },
  {
   "cell_type": "code",
   "execution_count": 38,
   "id": "competitive-parliament",
   "metadata": {},
   "outputs": [
    {
     "data": {
      "text/plain": [
       "set()"
      ]
     },
     "execution_count": 38,
     "metadata": {},
     "output_type": "execute_result"
    },
    {
     "data": {
      "text/plain": [
       "set()"
      ]
     },
     "execution_count": 38,
     "metadata": {},
     "output_type": "execute_result"
    },
    {
     "data": {
      "text/plain": [
       "set()"
      ]
     },
     "execution_count": 38,
     "metadata": {},
     "output_type": "execute_result"
    }
   ],
   "source": [
    "# Check if all channels' videos are captured\n",
    "unique_channels = set(channels.title.sort_values())\n",
    "video_channels = set(videos.channel_title.sort_values().unique())\n",
    "video_channels.difference(unique_channels)\n",
    "unique_channels.difference(video_channels)\n",
    "unique_channels.symmetric_difference(video_channels)"
   ]
  },
  {
   "cell_type": "code",
   "execution_count": 36,
   "id": "brown-steam",
   "metadata": {},
   "outputs": [],
   "source": [
    "videos[\"channel_title\"] = videos.channel_title.str.replace(\"Annie Singing\", \"魚乾\")"
   ]
  },
  {
   "cell_type": "code",
   "execution_count": 39,
   "id": "deluxe-tower",
   "metadata": {},
   "outputs": [],
   "source": [
    "# Save as parquet\n",
    "video_des_filepath = os.path.join(video_des_path, \"videos.parquet\")\n",
    "videos.to_parquet(video_des_filepath)"
   ]
  },
  {
   "cell_type": "code",
   "execution_count": 40,
   "id": "received-wrong",
   "metadata": {},
   "outputs": [
    {
     "data": {
      "text/plain": [
       "(131061, 24)"
      ]
     },
     "execution_count": 40,
     "metadata": {},
     "output_type": "execute_result"
    }
   ],
   "source": [
    "pd.read_parquet(os.path.join(video_des_path, \"videos.parquet\")).shape"
   ]
  },
  {
   "cell_type": "code",
   "execution_count": null,
   "id": "union-wisconsin",
   "metadata": {},
   "outputs": [],
   "source": []
  },
  {
   "cell_type": "markdown",
   "id": "blocked-benchmark",
   "metadata": {},
   "source": [
    "# Merge & Save Comment Data as a Parquet File\n",
    "Note that the comment data is not used in this research.<br>\n",
    "The code below is only kept for reference."
   ]
  },
  {
   "cell_type": "code",
   "execution_count": 30,
   "id": "modular-times",
   "metadata": {},
   "outputs": [],
   "source": [
    "# Set up paths to read from\n",
    "new_comment_src_path = [comment_path for comment_path in os.listdir(comment_src_path) if comment_path.endswith(\"_new.json\")]\n",
    "duplicate_comment_paths = [new_comment_path[:-9] + \".json\" for new_comment_path in new_comment_src_path]\n",
    "all_comment_paths_no_duplicates = [comment_path for comment_path in os.listdir(comment_src_path) if comment_path not in duplicate_comment_paths]"
   ]
  },
  {
   "cell_type": "code",
   "execution_count": 31,
   "id": "surface-zambia",
   "metadata": {},
   "outputs": [
    {
     "data": {
      "text/plain": [
       "3"
      ]
     },
     "execution_count": 31,
     "metadata": {},
     "output_type": "execute_result"
    },
    {
     "data": {
      "text/plain": [
       "35"
      ]
     },
     "execution_count": 31,
     "metadata": {},
     "output_type": "execute_result"
    },
    {
     "data": {
      "text/plain": [
       "32"
      ]
     },
     "execution_count": 31,
     "metadata": {},
     "output_type": "execute_result"
    }
   ],
   "source": [
    "# Check if duplicate path correcty removed\n",
    "len(duplicate_comment_paths)\n",
    "len(os.listdir(comment_src_path))\n",
    "len(all_comment_paths_no_duplicates)"
   ]
  },
  {
   "cell_type": "code",
   "execution_count": 32,
   "id": "black-visit",
   "metadata": {},
   "outputs": [
    {
     "name": "stdout",
     "output_type": "stream",
     "text": [
      "Process 0-th file: UCpSB70OL7IO7RnZCj_7MQDw_comments.json\n",
      "Process 1-th file: UCuLKTkYGCXako3wMktwrbkQ_comments.json\n",
      "Process 2-th file: UC6IMF6xi_MZ3jA1wRlPQDLA_comments.json\n",
      "Process 3-th file: UCbIJeyl_va8MG2xx0q4Uobg_comments.json\n",
      "Process 4-th file: UCxUzQ3wu0oJP_8YLWt71WgQ_comments.json\n",
      "Process 5-th file: UCJWXJTaLqI5KBnJuaXbCaTg_comments.json\n",
      "Process 6-th file: UCGpNjY0Xq2GJLXh4OOX1LOA_comments.json\n",
      "Process 7-th file: UCEfetJrzg6OcXWWuX8uhdhw_comments.json\n",
      "Process 8-th file: UCpgt8SEyAy5tbr9BzVK8Lsg_comments.json\n",
      "Process 9-th file: UCvcZO0cvDT3rzKtfakL3R5Q_comments.json\n",
      "Process 10-th file: UCjhwHd3mgmqm0ONm0bXKmng_comments.json\n",
      "Process 11-th file: UCiWXd0nmBjlKROwzMyPV-Nw_comments.json\n",
      "Process 12-th file: UCDrswN-SqWh7Kii62h9aXGA_comments.json\n",
      "Process 13-th file: UC3LBFXbWtEBdOOUb8-qJm9Q_comments.json\n",
      "Process 14-th file: UCr90FXGOO8nAE9B6FAUeTNA_comments.json\n",
      "Process 15-th file: UC9i2Qgd5lizhVgJrdnxunKw_comments.json\n",
      "Process 16-th file: UCeo3JwE3HezUWFdVcehQk9Q_comments.json\n",
      "Process 17-th file: UCA2qvunXtkK3SUVxfOGiobA_comments.json\n",
      "Process 18-th file: UCLW_SzI9txZvtOFTPDswxqg_comments.json\n",
      "Process 19-th file: UChX5JaALoA1o80Cc5zkQz_Q_comments.json\n",
      "Process 20-th file: UCK3Ycl9dcHk0qz8yoN-6phA_comments.json\n",
      "Process 21-th file: UCIF_gt4BfsWyM_2GOcKXyEQ_comments.json\n",
      "Process 22-th file: UCWGGwv7agoMmd3BAu4Fv3jQ_comments.json\n",
      "Process 23-th file: UCSckEwXBJmJEUzIo6NplQ5g_comments.json\n",
      "Process 24-th file: UCI7ktPB6toqucpkkCiolwLg_comments_new.json\n",
      "Process 25-th file: UCPwxSX0DYDMQxCvgfeVDv_g_comments.json\n",
      "Process 26-th file: UCXpxKdZAiyUEaTkoCPpEZzg_comments_new.json\n",
      "Process 27-th file: UCFsNxYnUEs4tcqyddJhW43g_comments.json\n",
      "Process 28-th file: UCcb9uxCoIgw7RQjQnlgd0Xw_comments.json\n",
      "Process 29-th file: UCIdhd_1spj49unBWx1fjS2A_comments.json\n",
      "Process 30-th file: UC8zkK0-g8S8Z_t8ZjUmpAlA_comments.json\n",
      "Process 31-th file: UC6FcYHEm7SO1jpu5TKjNXEA_comments_new.json\n"
     ]
    }
   ],
   "source": [
    "# Read comment files\n",
    "comments = []\n",
    "for i, comment_filename in enumerate(all_comment_paths_no_duplicates):\n",
    "    print(f\"Process {i}-th file: {comment_filename}\")\n",
    "    comment_filepath= os.path.join(comment_src_path, comment_filename)\n",
    "    with open(comment_filepath, \"r\") as json_file:\n",
    "        try:\n",
    "            comment_data = json.load(json_file)\n",
    "        except json.decoder.JSONDecodeError:\n",
    "            print(f\"JSONDecodeError while processing {i}-th file: {comment_filename}\")\n",
    "            continue\n",
    "        for video_id, comment in comment_data:\n",
    "            comment = pd.DataFrame(comment)\n",
    "            comments.append(comment)\n",
    "\n",
    "# Merge comment files\n",
    "comments = functools.reduce(lambda left, right: pd.concat([left, right], axis=\"index\", ignore_index=True), comments)\n",
    "\n",
    "# Preprocess comments dataframe\n",
    "# 1) Convert datetime\n",
    "comments[\"published_at\"] = pd.to_datetime(comments[\"published_at\"]).dt.tz_localize(None)\n",
    "comments[\"updated_at\"] = pd.to_datetime(comments[\"updated_at\"]).dt.tz_localize(None)\n",
    "comments[\"crawled_datetime\"] = pd.to_datetime(comments[\"crawled_datetime\"])\n",
    "# 2) Cast non-string data types\n",
    "comments[\"reply_count\"] = comments[\"reply_count\"].astype(pd.Int16Dtype())\n",
    "comments[\"like_count\"] = comments[\"like_count\"].astype(pd.Int64Dtype())"
   ]
  },
  {
   "cell_type": "code",
   "execution_count": 33,
   "id": "functional-thermal",
   "metadata": {},
   "outputs": [
    {
     "data": {
      "text/plain": [
       "(721706, 11)"
      ]
     },
     "execution_count": 33,
     "metadata": {},
     "output_type": "execute_result"
    },
    {
     "data": {
      "text/plain": [
       "(1720579, 11)"
      ]
     },
     "execution_count": 33,
     "metadata": {},
     "output_type": "execute_result"
    },
    {
     "data": {
      "text/plain": [
       "False"
      ]
     },
     "execution_count": 33,
     "metadata": {},
     "output_type": "execute_result"
    }
   ],
   "source": [
    "# Check if become more & is subset of previous version\n",
    "comment_parquet = pd.read_parquet(os.path.join(comment_des_path, \"comments.parquet\"))\n",
    "comment_parquet.shape\n",
    "comments.shape\n",
    "set(comment_parquet[\"comment_id\"]).issubset(set(comments[\"comment_id\"]))"
   ]
  },
  {
   "cell_type": "code",
   "execution_count": 35,
   "id": "exciting-arbitration",
   "metadata": {},
   "outputs": [
    {
     "data": {
      "text/plain": [
       "2832"
      ]
     },
     "execution_count": 35,
     "metadata": {},
     "output_type": "execute_result"
    },
    {
     "data": {
      "text/plain": [
       "2832"
      ]
     },
     "execution_count": 35,
     "metadata": {},
     "output_type": "execute_result"
    }
   ],
   "source": [
    "# Get missing comments\n",
    "missing_comments = comment_parquet[~comment_parquet[\"comment_id\"].isin(comments[\"comment_id\"])].copy()\n",
    "# Check if get all missing comments\n",
    "len(missing_comments)\n",
    "len(set(comment_parquet[\"comment_id\"]).difference(set(comments[\"comment_id\"])))"
   ]
  },
  {
   "cell_type": "code",
   "execution_count": 44,
   "id": "overall-aging",
   "metadata": {},
   "outputs": [
    {
     "data": {
      "text/html": [
       "<div>\n",
       "<style scoped>\n",
       "    .dataframe tbody tr th:only-of-type {\n",
       "        vertical-align: middle;\n",
       "    }\n",
       "\n",
       "    .dataframe tbody tr th {\n",
       "        vertical-align: top;\n",
       "    }\n",
       "\n",
       "    .dataframe thead th {\n",
       "        text-align: right;\n",
       "    }\n",
       "</style>\n",
       "<table border=\"1\" class=\"dataframe\">\n",
       "  <thead>\n",
       "    <tr style=\"text-align: right;\">\n",
       "      <th></th>\n",
       "      <th>comment_id</th>\n",
       "      <th>video_id</th>\n",
       "      <th>parent_id</th>\n",
       "      <th>reply_count</th>\n",
       "      <th>text_original</th>\n",
       "      <th>like_count</th>\n",
       "      <th>published_at</th>\n",
       "      <th>updated_at</th>\n",
       "      <th>crawled_datetime</th>\n",
       "      <th>author_channel_id</th>\n",
       "      <th>author_display_name</th>\n",
       "    </tr>\n",
       "  </thead>\n",
       "  <tbody>\n",
       "  </tbody>\n",
       "</table>\n",
       "</div>"
      ],
      "text/plain": [
       "Empty DataFrame\n",
       "Columns: [comment_id, video_id, parent_id, reply_count, text_original, like_count, published_at, updated_at, crawled_datetime, author_channel_id, author_display_name]\n",
       "Index: []"
      ]
     },
     "execution_count": 44,
     "metadata": {},
     "output_type": "execute_result"
    }
   ],
   "source": [
    "comments.query(f\"comment_id == \\'{missing_comments['comment_id'].sample(1).values[0]}\\'\")"
   ]
  },
  {
   "cell_type": "code",
   "execution_count": 45,
   "id": "muslim-scanner",
   "metadata": {},
   "outputs": [
    {
     "data": {
      "text/plain": [
       "True"
      ]
     },
     "execution_count": 45,
     "metadata": {},
     "output_type": "execute_result"
    },
    {
     "data": {
      "text/plain": [
       "1723411"
      ]
     },
     "execution_count": 45,
     "metadata": {},
     "output_type": "execute_result"
    },
    {
     "data": {
      "text/plain": [
       "1723411"
      ]
     },
     "execution_count": 45,
     "metadata": {},
     "output_type": "execute_result"
    }
   ],
   "source": [
    "full_comments = pd.concat([comments, missing_comments])\n",
    "len(full_comments) == len(missing_comments) + len(comments)\n",
    "len(full_comments)\n",
    "full_comments.comment_id.nunique()"
   ]
  },
  {
   "cell_type": "code",
   "execution_count": 47,
   "id": "exclusive-occupation",
   "metadata": {},
   "outputs": [],
   "source": [
    "# Save as parquet\n",
    "comment_des_filepath = os.path.join(comment_des_path, \"comments.parquet\")\n",
    "full_comments.to_parquet(comment_des_filepath)"
   ]
  },
  {
   "cell_type": "code",
   "execution_count": 48,
   "id": "olive-sigma",
   "metadata": {},
   "outputs": [
    {
     "data": {
      "text/plain": [
       "(1723411, 11)"
      ]
     },
     "execution_count": 48,
     "metadata": {},
     "output_type": "execute_result"
    }
   ],
   "source": [
    "pd.read_parquet(os.path.join(comment_des_path, \"comments.parquet\")).shape"
   ]
  },
  {
   "cell_type": "code",
   "execution_count": null,
   "id": "welcome-cherry",
   "metadata": {},
   "outputs": [],
   "source": []
  },
  {
   "cell_type": "code",
   "execution_count": null,
   "id": "exciting-norfolk",
   "metadata": {},
   "outputs": [],
   "source": []
  }
 ],
 "metadata": {
  "kernelspec": {
   "display_name": "chris_env",
   "language": "python",
   "name": "chris_env"
  },
  "language_info": {
   "codemirror_mode": {
    "name": "ipython",
    "version": 3
   },
   "file_extension": ".py",
   "mimetype": "text/x-python",
   "name": "python",
   "nbconvert_exporter": "python",
   "pygments_lexer": "ipython3",
   "version": "3.8.17"
  },
  "toc": {
   "base_numbering": 1,
   "nav_menu": {},
   "number_sections": true,
   "sideBar": true,
   "skip_h1_title": false,
   "title_cell": "Table of Contents",
   "title_sidebar": "Contents",
   "toc_cell": false,
   "toc_position": {},
   "toc_section_display": true,
   "toc_window_display": false
  }
 },
 "nbformat": 4,
 "nbformat_minor": 5
}
